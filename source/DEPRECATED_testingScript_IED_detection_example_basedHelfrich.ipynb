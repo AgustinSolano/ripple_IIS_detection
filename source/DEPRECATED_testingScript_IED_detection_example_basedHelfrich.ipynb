{
 "cells": [
  {
   "cell_type": "code",
   "execution_count": 1,
   "metadata": {},
   "outputs": [],
   "source": [
    "%matplotlib qt5"
   ]
  },
  {
   "cell_type": "code",
   "execution_count": 2,
   "metadata": {},
   "outputs": [],
   "source": [
    "import numpy as np\n",
    "from scipy import signal, stats\n",
    "from skimage.measure import label, regionprops\n",
    "import hdf5storage\n",
    "import mne\n",
    "import matplotlib.pyplot as plt"
   ]
  },
  {
   "cell_type": "markdown",
   "metadata": {},
   "source": []
  },
  {
   "cell_type": "code",
   "execution_count": 3,
   "metadata": {},
   "outputs": [],
   "source": [
    "def detect_IEDs(signal_in, srate, t_epoch):\n",
    "    \"\"\"\n",
    "    Detects Interictal Epileptiform Discharges (IEDs) in a given signal.\n",
    "    Parameters:\n",
    "    signal_in (numpy.ndarray): The input signal from which IEDs are to be detected.\n",
    "    srate (float): The sampling rate of the input signal.\n",
    "    t_epoch (tuple): A tuple containing the start and end times of the epoch relative to the detected event.\n",
    "    Returns:\n",
    "    numpy.ndarray: A matrix containing information about detected IEDs. The matrix has four columns:\n",
    "        - Column 0: Location of discharge maximum.\n",
    "        - Column 1: Trial onset (location of maximum - start time of epoch * sampling rate).\n",
    "        - Column 2: Trial offset (location of maximum + end time of epoch * sampling rate).\n",
    "        - Column 3: Offset relative to maximum location (center of epoch * sampling rate).\n",
    "    \"\"\"\n",
    "    \n",
    "    # 1. Get envelope from raw signal\n",
    "    amplit_envelope = np.abs(signal.hilbert(signal_in))\n",
    "    amplit_envelope = stats.zscore(amplit_envelope, axis=1) \n",
    "\n",
    "    # 2. Band-pass filtering \n",
    "    filter_order = 10\n",
    "    low_cut = 25 * 0.8 # low cut-off frequency for high-pass filter (20% less to compensate for attenuation)\n",
    "    b_hp, a_hp = signal.butter(filter_order, (low_cut / srate) * 2, 'high', analog=False)\n",
    "    high_cut = 80 * 1.2 # high cut-off frequency for low-pass filter (20% less to compensate for attenuation)\n",
    "    b_lp, a_lp = signal.butter(filter_order, (high_cut / srate) * 2, 'low', analog=False) \n",
    "\n",
    "    # apply filtering and get envelope\n",
    "    filt_signal_in = signal.filtfilt(b_hp, a_hp, signal_in) # HP\n",
    "    filt_signal_in = signal.filtfilt(b_lp, a_lp, filt_signal_in) #LP\n",
    "\n",
    "    filt_signal_in_envelope = np.abs(signal.hilbert(filt_signal_in))\n",
    "\n",
    "    # 3. Normalize\n",
    "    filt_signal_in_envelope = stats.zscore(filt_signal_in_envelope, axis=1)\n",
    "\n",
    "    # 4. Detect events above threshold and time criterion\n",
    "    cutoff  = 2\n",
    "    min_t   = 0.02 * srate\n",
    "    max_t   = 0.1 * srate\n",
    "\n",
    "    # 5. only find consecutive segments \n",
    "    aboveThreshold = (filt_signal_in_envelope > cutoff) # - Samples of threshhold\n",
    "    aboveThreshold[amplit_envelope < cutoff] = 0  # - Remove if raw sd is < cutoff\n",
    "\n",
    "    # Identify continuous one and apply time criterion\n",
    "    spanLocs = label(aboveThreshold) # Label connected regions\n",
    "    regions = regionprops(spanLocs) # Measure region properties (area)\n",
    "    spanLength = np.array([region.area for region in regions]) # Extract the length (area) of each region\n",
    "    goodSpans = np.where((spanLength > min_t) & (spanLength < max_t))[0] # Find indices of spans with lengths within the specified range\n",
    "\n",
    "    # 6. Create trl matrix \n",
    "    # [Note:] trl matrix is a 4-column matrix containing the following information for each trial: \n",
    "    #   - [:,0]  Location of discharge maximum\n",
    "    #   - [:,1]  Trial onset: loc_maximum - trange*srate\n",
    "    #   - [:,2]  Trial offset: loc_maximum - trange*srate\n",
    "    #   - [:,3]  Offset relative to maximum location (center): trange*srate\n",
    "\n",
    "    trl = np.zeros((len(goodSpans),4))\n",
    "\n",
    "    for g in range(len(goodSpans)):\n",
    "\n",
    "        currentepochidx = np.where(spanLocs == (goodSpans[g]+1))[1]\n",
    "        currentepochvals = filt_signal_in_envelope[0,currentepochidx]\n",
    "\n",
    "        # Find the max in this range\n",
    "        maxloc = np.argmax(currentepochvals)\n",
    "        maxloc = maxloc + currentepochidx[0]\n",
    "\n",
    "        # Create the trl\n",
    "        trl[g,:] = [maxloc, maxloc-np.abs(t_epoch[0])*srate, maxloc+np.abs(t_epoch[1])*srate, np.abs(t_epoch[0])*srate]\n",
    "\n",
    "    # 7. Eliminate events that are within 1 sec -------------------------------\n",
    "    tr_el = np.zeros(trl.shape[0])\n",
    "\n",
    "    for tr in range(1, trl.shape[0]):\n",
    "        if (trl[tr,0] - trl[tr-1,0]) <= srate:\n",
    "            tr_el[tr] = 1\n",
    "        else:\n",
    "            pass\n",
    "\n",
    "    #print(tr_el)\n",
    "\n",
    "    trl = np.delete(trl, np.where(tr_el == 1), axis=0)\n",
    "\n",
    "    return trl\n",
    "\n",
    "def ripple_char(signal_in, locs, maxsamples):\n",
    "    \"\"\"\n",
    "    Analyze ripple characteristics in a given signal.\n",
    "    Parameters:\n",
    "    signal_in (numpy.ndarray): The input signal array.\n",
    "    locs (list or numpy.ndarray): Indices of candidate ripple peaks.\n",
    "    maxsamples (int): The maximum number of samples to consider around each candidate peak.\n",
    "    Returns:\n",
    "    tuple: A tuple containing three numpy arrays:\n",
    "        - ripplepeaks (numpy.ndarray): Number of peaks in each segment.\n",
    "        - rippletrough (numpy.ndarray): Indices of the trough closest to each ripple peak.\n",
    "        - sharptransient (numpy.ndarray): Sharpest transient for later spike removal.\n",
    "    \"\"\"\n",
    "\n",
    "    # - Pre-define output variables -\n",
    "    # -------------------------------------------------------------------------\n",
    "    # Pre-define output variables\n",
    "    ripplepeaks = np.full(len(locs), np.nan)\n",
    "    rippletrough = np.full(len(locs), np.nan)\n",
    "    sharptransient = np.full(len(locs), np.nan)\n",
    "\n",
    "    # - Go through ripple candidates -\n",
    "    for idx in range(len(locs)):\n",
    "        \n",
    "        # 1. Determine window -------------------------------------------------\n",
    "        s_start = np.round(locs[idx] - maxsamples/2).astype(int) # start sample\n",
    "        s_end = np.round(locs[idx] + maxsamples/2).astype(int) # stop sample\n",
    "        datasegm_trial  = signal_in[0,s_start:s_end]\n",
    "        #datasegm_time = times[s_start:s_end]\n",
    "        \n",
    "        # 2. Find all troughs close to candidate ripple peak ------------------\n",
    "        idxloc, _ = signal.find_peaks((-1)*datasegm_trial)\n",
    "        pks2 = datasegm_trial[idxloc]\n",
    "        idxloc = idxloc + s_start # offset to the real indexs\n",
    "        \n",
    "        # 3. Save ripple characteristics --------------------------------------\n",
    "        if len(idxloc) == 0 or len(idxloc) == 1:\n",
    "            ripplepeaks[idx] = np.nan\n",
    "            rippletrough[idx] = np.nan\n",
    "            sharptransient[idx] = np.nan\n",
    "        else:\n",
    "            ripplepeaks[idx] = len(idxloc) # - Number of peaks in segment\n",
    "            rippletrough[idx] = idxloc[np.argmin(np.abs(idxloc-locs[idx]))] # - Datapoint of trough closest to ripple peak idx \n",
    "\n",
    "            # 4. Flag sharpest transient ------------------------------------------\n",
    "            pksz = stats.zscore(pks2)\n",
    "            pksdiff = pksz[1:]-pksz[:-1]\n",
    "            sharptransient[idx] = np.max(np.abs(pksdiff))                    # - Mark sharpest transient for later spike removal\n",
    "\n",
    "\n",
    "    return ripplepeaks, rippletrough, sharptransient\n",
    "\n",
    "def num_discharges_in_ripple_trial(trial_start, trial_end, discharge_pks):\n",
    "    \"\"\"\n",
    "    Calculate the number of discharges within each ripple trial.\n",
    "    Parameters:\n",
    "    trial_start (array-like): An array of start times for each trial.\n",
    "    trial_end (array-like): An array of end times for each trial.\n",
    "    discharge_pks (array-like): An array of discharge peak times.\n",
    "    Returns:\n",
    "    numpy.ndarray: An array containing the number of discharges for each trial.\n",
    "    \"\"\"\n",
    "    \n",
    "    nodischarges = np.zeros(len(trial_start))\n",
    "\n",
    "    for tr_idx in range(len(trial_start)):\n",
    "\n",
    "        currentepoch_start = trial_start[tr_idx]\n",
    "        currentepoch_end = trial_end[tr_idx]\n",
    "        nodischarges[tr_idx] = np.sum((discharge_pks >= currentepoch_start) & (discharge_pks <= currentepoch_end))\n",
    "\n",
    "    return nodischarges\n",
    "\n",
    "\n",
    "def detect_ieeg_ripples(signal_in, srate, epileptic_events, t_range = 2.5):\n",
    "    \"\"\"\n",
    "    Detects ripples in an intracranial EEG (iEEG) signal.\n",
    "    Parameters:\n",
    "    signal_in (numpy.ndarray): The input iEEG signal.\n",
    "    srate (int): The sampling rate of the input signal.\n",
    "    epileptic_events (numpy.ndarray): Array containing information about detected epileptic events.\n",
    "    t_range (float, optional): Time range for ripple detection. Default is 2.5 seconds.\n",
    "    Returns:\n",
    "    numpy.ndarray: A matrix containing information about detected ripples.\n",
    "    \"\"\"\n",
    "\n",
    "    # 1. Band-pass filtering \n",
    "    print('- Filtering and Hilbert transform [-]')\n",
    "    filter_order = 10\n",
    "    low_cut = 80 * 0.8 # [Hz] low cut-off frequency for high-pass filter (20% less to compensate for attenuation)\n",
    "    b_hp, a_hp = signal.butter(filter_order, (low_cut / srate) * 2, btype = 'highpass', analog=False) \n",
    "    high_cut = 120 * 1.2 # [Hz] high cut-off frequency for low-pass filter (20% more to compensate for attenuation)\n",
    "    b_lp, a_lp = signal.butter(filter_order, (high_cut / srate) * 2, btype = 'lowpass', analog=False)\n",
    "\n",
    "    # apply filtering and get envelope\n",
    "    filt_signal_in = signal.filtfilt(b_hp, a_hp, signal_in) # HP\n",
    "    filt_signal_in = signal.filtfilt(b_lp, a_lp, filt_signal_in) #LP\n",
    "\n",
    "    # Hilbert transform\n",
    "    filt_signal_in_envelope = np.abs(signal.hilbert(filt_signal_in))\n",
    "\n",
    "    b_lp_h, a_lp_h = signal.butter(filter_order, (10*1.2 / srate) * 2, btype = 'lowpass', analog=False) #10 Hz LP on hilbert amplitude\n",
    "    filt_signal_in_envelope = signal.filtfilt(b_lp_h, a_lp_h, filt_signal_in_envelope) \n",
    "\n",
    "    # Normalize with zscore\n",
    "    filt_signal_in_envelope = stats.zscore(filt_signal_in_envelope, axis=1)\n",
    "\n",
    "\n",
    "    # - Find candidate ripple events ------------------------------------------\n",
    "    print('- Looking candidate ripple events [-]')\n",
    "    # [Notes:]  - Minimum duration = 25 ms\n",
    "    #           - Maximum duration = 200 ms  \n",
    "    #           - Minimum peak distance = 500 ms (avoiding overlap)\n",
    "    # -------------------------------------------------------------------------\n",
    "    minsamples = np.round((25/1000) * srate) # Minimum duration 25 ms (sampling points) %note: orig. 20ms\n",
    "    maxsamples = np.round((200/1000) * srate) # Maximum duration 200 ms (sampling points) \n",
    "    MPD        = np.round((500/1000) * srate) # Minimum peak distance 500 ms (sampling points)\n",
    "\n",
    "    # - Determine minimum & maximum peak height & distance - - - - - - - - - - \n",
    "    # [Notes:]  - pks = peak values\n",
    "    #           - locs = locations \n",
    "    #           - width = distance between peaks \n",
    "    # - - - - - - - - - - - - - - - - - - - - - - - - - - - - - - - - - - - - -\n",
    "    # Find peaks in the filtered signal envelope\n",
    "    peaks, properties = signal.find_peaks(filt_signal_in_envelope[0], height=2, width=(minsamples, maxsamples), distance=MPD)\n",
    "    pks = properties['peak_heights']\n",
    "    locs = peaks\n",
    "    width = properties['widths']\n",
    "\n",
    "    # - Now go through the signal and determine ripple characteristics --------\n",
    "    print('- Determine ripple characteristics [-]')\n",
    "    ripplepeaks, rippletrough, sharptransient = ripple_char(signal_in, locs, maxsamples)\n",
    "\n",
    "    # - Render peak width into secs -------------------------------------------\n",
    "    width = width / srate\n",
    "\n",
    "    # - Render ripple peaks per epoch into Hz ---------------------------------\n",
    "    ripplepeaks = ripplepeaks * (srate/maxsamples) \n",
    "\n",
    "    # - Remove NaN values -----------------------------------------------------\n",
    "    # TODO\n",
    "\n",
    "    # - Create a basic trl ----------------------------------------------------\n",
    "    # [Note:] Defines trial centered around ripple trough as follows:\n",
    "    #   - [:,0]  Trial onset: ripple trough - settings.trange*data.fsample [samples]\n",
    "    #   - [:,1]  Trial offset: ripple trough + settings.trange*data.fsample [samples]\n",
    "    #   - [:,2]  Trigger offset: set at -settings.trange*data.fsample [samples]\n",
    "    #   - [:,3]  Ripple peak amplitude (z-score)\n",
    "    #   - [:,4]  Ripple frequency [Hz]\n",
    "    #   - [:,5]  Indication of sharpest transient in trial\n",
    "    #   - [:,6]  Ripple duration in seconds\n",
    "    #   - [:,7]  Cross referencing with discharge detection (optional) : amount of detected discharges in trial\n",
    "    # -------------------------------------------------------------------------  \n",
    "\n",
    "    # Si hay informacion sobre las descargas\n",
    "    if len(epileptic_events)!=0:\n",
    "        discharge_pks = epileptic_events[:,0]\n",
    "        #num_discharges = np.zeros(len(rippletrough))\n",
    "        num_discharges = num_discharges_in_ripple_trial(rippletrough-t_range*srate, rippletrough+t_range*srate, discharge_pks)\n",
    "        trl = np.column_stack((rippletrough-t_range*srate, rippletrough+t_range*srate, np.full(len(rippletrough), -2.5*srate), pks, ripplepeaks, sharptransient, width, num_discharges))\n",
    "\n",
    "    # Si NO hay informacion sobre las descargas\n",
    "    else:\n",
    "        trl = np.column_stack((rippletrough-t_range*srate, rippletrough+t_range*srate, np.full(len(rippletrough), -2.5*srate), pks, ripplepeaks, sharptransient, width, np.zeros(len(rippletrough))))\n",
    "\n",
    "\n",
    "    # - Remove any potential trials that: -------------------------------------\n",
    "    #       - Start prior to the recording onset (i.e., ripple detected at the very start)\n",
    "    #       - Exceed the recording (i.e., ripple detected at the very end\n",
    "    # -------------------------------------------------------------------------\n",
    "    trl = trl[trl[:,0]>0,:] # - Remove trial prior to recording onset\n",
    "    trl = trl[trl[:,1]<len(signal_in[0]),:] # - Remove trials that occur past recording end\n",
    "\n",
    "\n",
    "    # 2. Cleaning up the trl matrix\n",
    "    print('- Cleaning up the trl matrix according to criteria [-]')\n",
    "\n",
    "    amp_th = [2,4] # amplitude threshold\n",
    "    minfreq = 80; # minimum frequency\n",
    "    sharptransient_th = 2 # sharp transient threshold\n",
    "    #overlap = 0 # ??\n",
    "    trange = 2.5\n",
    "    min_num_ripples = 10\n",
    "\n",
    "    # Compute logical AND for multiple conditions\n",
    "    tIndex = np.logical_and.reduce((\n",
    "        trl[:,3] >= amp_th[0], trl[:,3] <= amp_th[1], # - Amplitude criteria\n",
    "        trl[:,4] > minfreq, # - Frequency criteria\n",
    "        trl[:,5] < sharptransient_th, # - Sharp transient criteria\n",
    "        trl[:,6] > (np.median(trl[:,6]) - np.std(trl[:,6])), # - Duration criteria\n",
    "        trl[:,7] == 0 # - IED criteria  \n",
    "    ))\n",
    "\n",
    "    # Se concatena como una nueva columna cuales son los putative-ripples que pasan el proceso de limpienza (=1) y los que no (=0)\n",
    "    trl = np.column_stack((trl, tIndex))\n",
    "\n",
    "    return trl\n"
   ]
  },
  {
   "cell_type": "code",
   "execution_count": 52,
   "metadata": {},
   "outputs": [
    {
     "data": {
      "text/plain": [
       "\"plt.semilogx(w, 20 * np.log10(abs(h)))\\nplt.title('Butterworth filter frequency response')\\nplt.xlabel('Frequency [radians / second]')\\nplt.ylabel('Amplitude [dB]')\\nplt.margins(0, 0.1)\\nplt.grid(which='both', axis='both')\\n#plt.axvline((low_cut / 1000) * 2, color='green') # cutoff frequency\\nplt.show()\""
      ]
     },
     "execution_count": 52,
     "metadata": {},
     "output_type": "execute_result"
    }
   ],
   "source": [
    "filter_order = 10\n",
    "low_cut = 80*1.2 # [Hz] low cut-off frequency for high-pass filter\n",
    "b_hp, a_hp = signal.butter(filter_order, ((low_cut / 1000) * 2)*0.8, 'high', analog=False)\n",
    "high_cut = 120 # [Hz] high cut-off frequency for low-pass filter\n",
    "b_lp, a_lp = signal.butter(filter_order, 2*np.pi*high_cut, btype = 'lowpass', analog=True)\n",
    "b_lp_h, a_lp_h = signal.butter(filter_order, (10*1.2 / 1000) * 2, btype = 'lowpass', analog=False) #10 Hz LP on hilbert amplitude\n",
    "\n",
    "#b, a = signal.butter(4, 0.5, 'low')\n",
    "#w, h = signal.freqs(b_hp, a_hp)\n",
    "w, h = signal.freqz(b_lp_h, a_lp_h, worN=8000)\n",
    "plt.figure()\n",
    "plt.plot(0.5 * 1000 * w / np.pi, np.abs(h), 'b')\n",
    "#plt.title(f'{filter_type.capitalize()}-pass Filter Frequency Response')\n",
    "plt.xlabel('Frequency [Hz]')\n",
    "plt.ylabel('Gain')\n",
    "plt.grid()\n",
    "plt.show()\n",
    "\n",
    "\n",
    "'''plt.semilogx(w, 20 * np.log10(abs(h)))\n",
    "plt.title('Butterworth filter frequency response')\n",
    "plt.xlabel('Frequency [radians / second]')\n",
    "plt.ylabel('Amplitude [dB]')\n",
    "plt.margins(0, 0.1)\n",
    "plt.grid(which='both', axis='both')\n",
    "#plt.axvline((low_cut / 1000) * 2, color='green') # cutoff frequency\n",
    "plt.show()'''"
   ]
  },
  {
   "cell_type": "markdown",
   "metadata": {},
   "source": [
    "### Para levantar la data del papar de Ngo & Staresina, 2020 (eLife)"
   ]
  },
  {
   "cell_type": "code",
   "execution_count": 76,
   "metadata": {},
   "outputs": [],
   "source": [
    "# FILEPATH: signal\n",
    "filepath = '/home/lfa-01/Documentos/Data_NgoStaresina_eLife2020_OSF/Raw data/EEGs/pat03_HIPP.mat'\n",
    "mat_data = hdf5storage.loadmat(filepath)\n",
    "\n",
    "# Now you can work with the loaded data\n",
    "times = mat_data['time'][0][0][0]\n",
    "fsample = mat_data['fsample'][0][0]\n",
    "ch_label = str(mat_data['label'][0][0][0])\n",
    "cant_chan = len([ch_label])\n",
    "ieeg_signal = mat_data['trial'][0][0][0]\n",
    "ieeg_signal = np.reshape(ieeg_signal, (cant_chan, len(ieeg_signal)))\n",
    "\n",
    "\n",
    "# Demean and Detrend signal\n",
    "ieeg_signal = signal.detrend(ieeg_signal, axis=1, type='linear')\n",
    "ieeg_signal = ieeg_signal - np.mean(ieeg_signal, axis=1, keepdims=True)\n",
    "\n",
    "# IMPORTANTE: me quedo con un pedazo de la señal\n",
    "\n",
    "N_samples = 2000*int(fsample)\n",
    "ieeg_signal = ieeg_signal[:, :N_samples]\n",
    "times = times[:N_samples]\n"
   ]
  },
  {
   "cell_type": "code",
   "execution_count": 32,
   "metadata": {},
   "outputs": [
    {
     "name": "stdout",
     "output_type": "stream",
     "text": [
      "(1, 2000000)\n",
      "(2000000,)\n",
      "1000.0\n"
     ]
    }
   ],
   "source": [
    "print(ieeg_signal.shape)\n",
    "print(times.shape)\n",
    "print(fsample)"
   ]
  },
  {
   "cell_type": "code",
   "execution_count": 34,
   "metadata": {},
   "outputs": [],
   "source": [
    "# FILEPATH: events info\n",
    "filepath_evt = '/home/lfa-01/Documentos/Data_NgoStaresina_eLife2020_OSF/Raw data/Ripples/pat03_HIPP_ripples.mat'\n",
    "mat_evt_info = hdf5storage.loadmat(filepath_evt)"
   ]
  },
  {
   "cell_type": "code",
   "execution_count": 35,
   "metadata": {},
   "outputs": [
    {
     "name": "stdout",
     "output_type": "stream",
     "text": [
      "[[ 1543107        0        1]\n",
      " [ 1549251        0        1]\n",
      " [ 1586519        0        1]\n",
      " ...\n",
      " [29713132        0        1]\n",
      " [29720559        0        1]\n",
      " [29724555        0        1]]\n"
     ]
    }
   ],
   "source": [
    "orig_ripples_detect = mat_evt_info['EvtInfo'][0][3][0] # del struct EvtInfo, el tercer vector es el punto medio de los ripples identificados\n",
    "events_array_orig = np.column_stack( (orig_ripples_detect, np.zeros(len(orig_ripples_detect)), np.ones(len(orig_ripples_detect))))\n",
    "\n",
    "events_array_orig = events_array_orig.astype(int)\n",
    "print(events_array_orig)\n",
    "\n",
    "events_id_orig = {'putative_ripple_Ngo': 1}\n",
    "event_color_orig = {'putative_ripple_Ngo': 'm'}"
   ]
  },
  {
   "cell_type": "markdown",
   "metadata": {},
   "source": [
    "Graficacion de los eventos ripple identificados en el paper de Ngo"
   ]
  },
  {
   "cell_type": "code",
   "execution_count": null,
   "metadata": {},
   "outputs": [],
   "source": [
    "seeg_channels = mne.pick_types(mne_data.info, seeg=True)\n",
    "mne_data.plot(duration=30, order=seeg_channels, n_channels=len(seeg_channels),\n",
    "         remove_dc=False, scalings = 'auto', block=True, color=dict(seeg='b'),\n",
    "         events=events_array_orig, event_id=events_id_orig, event_color=event_color_orig)"
   ]
  },
  {
   "cell_type": "markdown",
   "metadata": {},
   "source": [
    "Deteccion de IED siguiendo el algoritmo de Helfrich"
   ]
  },
  {
   "cell_type": "code",
   "execution_count": 36,
   "metadata": {},
   "outputs": [
    {
     "name": "stdout",
     "output_type": "stream",
     "text": [
      "[[  3147.    647.   5647.   2500.]\n",
      " [ 65989.  63489.  68489.   2500.]\n",
      " [ 80402.  77902.  82902.   2500.]\n",
      " [ 98664.  96164. 101164.   2500.]\n",
      " [104403. 101903. 106903.   2500.]\n",
      " [139542. 137042. 142042.   2500.]\n",
      " [143564. 141064. 146064.   2500.]]\n"
     ]
    }
   ],
   "source": [
    "trl_discharges = detect_IEDs(ieeg_signal, int(fsample), [-2.5,2.5])\n",
    "print(trl_discharges)"
   ]
  },
  {
   "cell_type": "markdown",
   "metadata": {},
   "source": [
    "Con los eventos detectados creo objetos MNE continuo y epocas para visualizaciones"
   ]
  },
  {
   "cell_type": "code",
   "execution_count": 37,
   "metadata": {},
   "outputs": [
    {
     "name": "stdout",
     "output_type": "stream",
     "text": [
      "Creating RawArray with float64 data, n_channels=1, n_times=2000000\n",
      "    Range : 0 ... 1999999 =      0.000 ...  1999.999 secs\n",
      "Ready.\n"
     ]
    }
   ],
   "source": [
    "# Convert the loaded data to a MNE-Python object\n",
    "mne_data = mne.io.RawArray(ieeg_signal, info=mne.create_info(ch_names=[ch_label], sfreq=fsample, ch_types=['seeg']*cant_chan))"
   ]
  },
  {
   "cell_type": "code",
   "execution_count": 38,
   "metadata": {},
   "outputs": [
    {
     "name": "stdout",
     "output_type": "stream",
     "text": [
      "[[  3147      0      1]\n",
      " [ 65989      0      1]\n",
      " [ 80402      0      1]\n",
      " [ 98664      0      1]\n",
      " [104403      0      1]\n",
      " [139542      0      1]\n",
      " [143564      0      1]]\n"
     ]
    }
   ],
   "source": [
    "events_IED_array_orig = np.column_stack(  (trl_discharges[:,0].astype(int), np.zeros(len(trl_discharges[:,0])).astype(int), np.ones(len(trl_discharges[:,0])).astype(int) ) )\n",
    "print(events_IED_array_orig)\n",
    "\n",
    "events_IED_id_orig = {'putative_IED': 1}\n",
    "event_IED_color_orig = {'putative_IED': 'm'}"
   ]
  },
  {
   "cell_type": "code",
   "execution_count": 39,
   "metadata": {},
   "outputs": [
    {
     "name": "stdout",
     "output_type": "stream",
     "text": [
      "Channels marked as bad:\n",
      "none\n"
     ]
    },
    {
     "data": {
      "text/plain": [
       "<mne_qt_browser._pg_figure.MNEQtBrowser at 0x7fa58e535490>"
      ]
     },
     "execution_count": 39,
     "metadata": {},
     "output_type": "execute_result"
    }
   ],
   "source": [
    "seeg_channels = mne.pick_types(mne_data.info, seeg=True)\n",
    "mne_data.plot(duration=30, order=seeg_channels, n_channels=len(seeg_channels),\n",
    "         remove_dc=False, scalings = 'auto', block=True, color=dict(seeg='b'),\n",
    "         events=events_IED_array_orig, event_id=events_IED_id_orig, event_color=event_IED_color_orig)"
   ]
  },
  {
   "cell_type": "code",
   "execution_count": 40,
   "metadata": {},
   "outputs": [
    {
     "name": "stdout",
     "output_type": "stream",
     "text": [
      "Not setting metadata\n",
      "7 matching events found\n",
      "Setting baseline interval to [-2.5, 0.0] s\n",
      "Applying baseline correction (mode: mean)\n",
      "0 projection items activated\n",
      "Using data from preloaded Raw for 7 events and 5001 original time points ...\n",
      "0 bad epochs dropped\n",
      "Not setting metadata\n",
      "7 matching events found\n",
      "No baseline correction applied\n",
      "0 projection items activated\n",
      "combining channels using \"mean\"\n"
     ]
    },
    {
     "name": "stderr",
     "output_type": "stream",
     "text": [
      "/tmp/ipykernel_371444/2601915031.py:2: RuntimeWarning: Only one channel in group \"seeg\"; cannot combine by method \"mean\".\n",
      "  epochs.plot_image(combine=\"mean\")\n",
      "/tmp/ipykernel_371444/2601915031.py:2: RuntimeWarning: Only 1 channel in \"picks\"; cannot combine by method \"mean\".\n",
      "  epochs.plot_image(combine=\"mean\")\n"
     ]
    },
    {
     "data": {
      "text/plain": [
       "[<Figure size 640x480 with 3 Axes>]"
      ]
     },
     "execution_count": 40,
     "metadata": {},
     "output_type": "execute_result"
    }
   ],
   "source": [
    "epochs = mne.Epochs(mne_data, events_IED_array_orig, tmin=-2.5, tmax=2.5, event_id=events_IED_id_orig, preload=True)\n",
    "epochs.plot_image(combine=\"mean\")"
   ]
  },
  {
   "cell_type": "markdown",
   "metadata": {},
   "source": [
    "Usando Morlet"
   ]
  },
  {
   "cell_type": "code",
   "execution_count": 113,
   "metadata": {},
   "outputs": [],
   "source": [
    "freqs = np.logspace(*np.log10([4, 160]), num=30)\n",
    "n_cycles = freqs / 2.0  # different number of cycle per frequency\n",
    "power, itc = mne.time_frequency.tfr_morlet(\n",
    "    epochs,\n",
    "    freqs=freqs,\n",
    "    n_cycles=n_cycles,\n",
    "    use_fft=True,\n",
    "    return_itc=True,\n",
    "    decim=3,\n",
    "    n_jobs=None,\n",
    ")"
   ]
  },
  {
   "cell_type": "markdown",
   "metadata": {},
   "source": [
    "Usando Multitapers"
   ]
  },
  {
   "cell_type": "code",
   "execution_count": 41,
   "metadata": {},
   "outputs": [],
   "source": [
    "freqs = np.logspace(*np.log10([4, 160]), num=45)\n",
    "n_cycles = freqs / 2.0  # different number of cycle per frequency\n",
    "time_bandwidth = 8.0 \n",
    "power, itc = epochs.compute_tfr(\n",
    "    method='multitaper',\n",
    "    freqs=freqs, \n",
    "    n_cycles=n_cycles, \n",
    "    time_bandwidth = time_bandwidth,\n",
    "    return_itc=True, \n",
    "    decim=3, \n",
    "    n_jobs=1,\n",
    "    average=True)"
   ]
  },
  {
   "cell_type": "code",
   "execution_count": 42,
   "metadata": {},
   "outputs": [
    {
     "name": "stdout",
     "output_type": "stream",
     "text": [
      "Applying baseline correction (mode: logratio)\n"
     ]
    },
    {
     "data": {
      "text/plain": [
       "[<Figure size 640x480 with 2 Axes>]"
      ]
     },
     "execution_count": 42,
     "metadata": {},
     "output_type": "execute_result"
    }
   ],
   "source": [
    "power.plot(baseline=(-2.5, -1.5), tmin=-1., tmax=1., mode=\"logratio\")"
   ]
  },
  {
   "cell_type": "code",
   "execution_count": 43,
   "metadata": {},
   "outputs": [
    {
     "name": "stdout",
     "output_type": "stream",
     "text": [
      "    Using multitaper spectrum estimation with 7 DPSS windows\n",
      "Plotting power spectral density (dB=True).\n"
     ]
    },
    {
     "name": "stderr",
     "output_type": "stream",
     "text": [
      "/tmp/ipykernel_371444/221005036.py:3: FutureWarning: The value of `amplitude='auto'` will be removed in MNE 1.8.0, and the new default will be `amplitude=False`.\n",
      "  mean_spectrum.plot(xscale='log', average=True)\n"
     ]
    },
    {
     "data": {
      "image/png": "[encoded data removed]",
      "text/plain": [
       "<MNELineFigure size 1000x350 with 1 Axes>"
      ]
     },
     "execution_count": 43,
     "metadata": {},
     "output_type": "execute_result"
    }
   ],
   "source": [
    "epochs_spectrum = epochs.compute_psd(method=\"multitaper\", tmin=-0.1, tmax=0.1, fmin=4, fmax=120)\n",
    "mean_spectrum = epochs_spectrum.average()\n",
    "mean_spectrum.plot(xscale='log', average=True) "
   ]
  },
  {
   "cell_type": "code",
   "execution_count": null,
   "metadata": {},
   "outputs": [],
   "source": []
  },
  {
   "cell_type": "markdown",
   "metadata": {},
   "source": []
  },
  {
   "cell_type": "markdown",
   "metadata": {},
   "source": []
  },
  {
   "cell_type": "markdown",
   "metadata": {},
   "source": [
    "TEST: Algoritmo de deteccion de ripples"
   ]
  },
  {
   "cell_type": "code",
   "execution_count": 70,
   "metadata": {},
   "outputs": [
    {
     "name": "stdout",
     "output_type": "stream",
     "text": [
      "- Filtering and Hilbert transform [-]\n"
     ]
    },
    {
     "name": "stdout",
     "output_type": "stream",
     "text": [
      "- Looking candidate ripple events [-]\n",
      "- Determine ripple characteristics [-]\n"
     ]
    },
    {
     "name": "stderr",
     "output_type": "stream",
     "text": [
      "Failed to enable GUI event loop integration for 'qt5'\n",
      "Traceback (most recent call last):\n",
      "  File \"/home/lfa-01/mambaforge-pypy3/envs/env_mne_1_7/lib/python3.12/site-packages/debugpy/_vendored/pydevd/pydev_ipython/matplotlibtools.py\", line 30, in do_enable_gui\n",
      "    enable_gui(guiname)\n",
      "  File \"/home/lfa-01/mambaforge-pypy3/envs/env_mne_1_7/lib/python3.12/site-packages/debugpy/_vendored/pydevd/pydev_ipython/inputhook.py\", line 540, in enable_gui\n",
      "    return gui_hook(app)\n",
      "           ^^^^^^^^^^^^^\n",
      "  File \"/home/lfa-01/mambaforge-pypy3/envs/env_mne_1_7/lib/python3.12/site-packages/debugpy/_vendored/pydevd/pydev_ipython/inputhook.py\", line 223, in enable_qt5\n",
      "    from pydev_ipython.inputhookqt5 import create_inputhook_qt5\n",
      "  File \"/home/lfa-01/mambaforge-pypy3/envs/env_mne_1_7/lib/python3.12/site-packages/debugpy/_vendored/pydevd/pydev_ipython/inputhookqt5.py\", line 24, in <module>\n",
      "    from pydev_ipython.qt_for_kernel import QtCore, QtGui\n",
      "  File \"/home/lfa-01/mambaforge-pypy3/envs/env_mne_1_7/lib/python3.12/site-packages/debugpy/_vendored/pydevd/pydev_ipython/qt_for_kernel.py\", line 116, in <module>\n",
      "    QtCore, QtGui, QtSvg, QT_API = load_qt(api_opts)\n",
      "                                   ^^^^^^^^^^^^^^^^^\n",
      "  File \"/home/lfa-01/mambaforge-pypy3/envs/env_mne_1_7/lib/python3.12/site-packages/debugpy/_vendored/pydevd/pydev_ipython/qt_loaders.py\", line 276, in load_qt\n",
      "    if not can_import(api):\n",
      "           ^^^^^^^^^^^^^^^\n",
      "  File \"/home/lfa-01/mambaforge-pypy3/envs/env_mne_1_7/lib/python3.12/site-packages/debugpy/_vendored/pydevd/pydev_ipython/qt_loaders.py\", line 152, in can_import\n",
      "    if not has_binding(api):\n",
      "           ^^^^^^^^^^^^^^^^\n",
      "  File \"/home/lfa-01/mambaforge-pypy3/envs/env_mne_1_7/lib/python3.12/site-packages/debugpy/_vendored/pydevd/pydev_ipython/qt_loaders.py\", line 115, in has_binding\n",
      "    import imp\n",
      "ModuleNotFoundError: No module named 'imp'\n"
     ]
    },
    {
     "name": "stdout",
     "output_type": "stream",
     "text": [
      "- Cleaning up the trl matrix according to criteria [-]\n"
     ]
    }
   ],
   "source": [
    "# USANDO LA FUNCION detect_ieeg_ripples\n",
    "trl_ripples = detect_ieeg_ripples(signal_in=ieeg_signal, srate=int(fsample), epileptic_events=trl_discharges, t_range = 2.5)"
   ]
  },
  {
   "cell_type": "code",
   "execution_count": 63,
   "metadata": {},
   "outputs": [
    {
     "name": "stdout",
     "output_type": "stream",
     "text": [
      "(186, 9)\n",
      "[[ 3.18299000e+05  3.23299000e+05 -2.50000000e+03  2.22595453e+00\n",
      "   1.90000000e+02  1.58490994e+00  1.67736718e-01  0.00000000e+00\n",
      "   1.00000000e+00]\n",
      " [ 3.61767000e+05  3.66767000e+05 -2.50000000e+03  2.73703967e+00\n",
      "   1.50000000e+02  1.46936409e+00  1.39780691e-01  0.00000000e+00\n",
      "   1.00000000e+00]\n",
      " [ 9.12640000e+05  9.17640000e+05 -2.50000000e+03  3.21209770e+00\n",
      "   1.40000000e+02  1.40130937e+00  1.66734302e-01  0.00000000e+00\n",
      "   1.00000000e+00]\n",
      " [ 9.62037000e+05  9.67037000e+05 -2.50000000e+03  2.07823759e+00\n",
      "   1.05000000e+02  1.61250051e+00  7.17448342e-02  0.00000000e+00\n",
      "   1.00000000e+00]\n",
      " [ 1.00182000e+06  1.00682000e+06 -2.50000000e+03  2.05154504e+00\n",
      "   1.55000000e+02  1.43520488e+00  1.17830893e-01  0.00000000e+00\n",
      "   1.00000000e+00]\n",
      " [ 1.03408500e+06  1.03908500e+06 -2.50000000e+03  2.47935703e+00\n",
      "   1.70000000e+02  1.83541186e+00  5.43850668e-02  0.00000000e+00\n",
      "   1.00000000e+00]\n",
      " [ 1.03575600e+06  1.04075600e+06 -2.50000000e+03  2.22472740e+00\n",
      "   1.55000000e+02  1.09307565e+00  1.15939250e-01  0.00000000e+00\n",
      "   1.00000000e+00]\n",
      " [ 1.05491900e+06  1.05991900e+06 -2.50000000e+03  3.54204920e+00\n",
      "   1.65000000e+02  1.20589115e+00  4.81536647e-02  0.00000000e+00\n",
      "   1.00000000e+00]\n",
      " [ 1.06012700e+06  1.06512700e+06 -2.50000000e+03  2.53135778e+00\n",
      "   1.65000000e+02  1.31252535e+00  6.22673472e-02  0.00000000e+00\n",
      "   1.00000000e+00]\n",
      " [ 1.06075200e+06  1.06575200e+06 -2.50000000e+03  2.11767340e+00\n",
      "   1.35000000e+02  1.29202923e+00  6.13204845e-02  0.00000000e+00\n",
      "   1.00000000e+00]\n",
      " [ 1.06479100e+06  1.06979100e+06 -2.50000000e+03  2.51779340e+00\n",
      "   1.65000000e+02  7.65621661e-01  5.50495032e-02  0.00000000e+00\n",
      "   1.00000000e+00]\n",
      " [ 1.06755500e+06  1.07255500e+06 -2.50000000e+03  2.36969252e+00\n",
      "   1.50000000e+02  1.70812955e+00  6.63185349e-02  0.00000000e+00\n",
      "   1.00000000e+00]\n",
      " [ 1.07189000e+06  1.07689000e+06 -2.50000000e+03  3.37001715e+00\n",
      "   1.35000000e+02  1.40358281e+00  1.14064636e-01  0.00000000e+00\n",
      "   1.00000000e+00]\n",
      " [ 1.07408400e+06  1.07908400e+06 -2.50000000e+03  2.99306507e+00\n",
      "   1.80000000e+02  1.81004354e+00  6.27343008e-02  0.00000000e+00\n",
      "   1.00000000e+00]\n",
      " [ 1.10830800e+06  1.11330800e+06 -2.50000000e+03  3.43479597e+00\n",
      "   1.25000000e+02  1.87453374e+00  7.07109336e-02  0.00000000e+00\n",
      "   1.00000000e+00]\n",
      " [ 1.12541000e+06  1.13041000e+06 -2.50000000e+03  2.30199198e+00\n",
      "   1.55000000e+02  1.22479474e+00  7.41624716e-02  0.00000000e+00\n",
      "   1.00000000e+00]\n",
      " [ 1.13761900e+06  1.14261900e+06 -2.50000000e+03  2.62979734e+00\n",
      "   1.60000000e+02  1.53068909e+00  6.59598459e-02  0.00000000e+00\n",
      "   1.00000000e+00]\n",
      " [ 1.14326600e+06  1.14826600e+06 -2.50000000e+03  2.73255778e+00\n",
      "   1.55000000e+02  1.37606249e+00  6.71145680e-02  0.00000000e+00\n",
      "   1.00000000e+00]\n",
      " [ 1.19364700e+06  1.19864700e+06 -2.50000000e+03  3.76153943e+00\n",
      "   1.25000000e+02  7.92080464e-01  5.91559066e-02  0.00000000e+00\n",
      "   1.00000000e+00]\n",
      " [ 1.19415700e+06  1.19915700e+06 -2.50000000e+03  2.50586734e+00\n",
      "   1.30000000e+02  1.21062933e+00  1.11094170e-01  0.00000000e+00\n",
      "   1.00000000e+00]\n",
      " [ 1.19603400e+06  1.20103400e+06 -2.50000000e+03  3.45714785e+00\n",
      "   1.25000000e+02  1.87661143e+00  1.88983878e-01  0.00000000e+00\n",
      "   1.00000000e+00]\n",
      " [ 1.19793300e+06  1.20293300e+06 -2.50000000e+03  3.84112242e+00\n",
      "   1.40000000e+02  6.15893258e-01  9.39762291e-02  0.00000000e+00\n",
      "   1.00000000e+00]\n",
      " [ 1.19871800e+06  1.20371800e+06 -2.50000000e+03  2.64888967e+00\n",
      "   1.25000000e+02  1.88340059e+00  9.91277242e-02  0.00000000e+00\n",
      "   1.00000000e+00]\n",
      " [ 1.19963400e+06  1.20463400e+06 -2.50000000e+03  3.76513630e+00\n",
      "   1.50000000e+02  7.05428919e-01  1.45912324e-01  0.00000000e+00\n",
      "   1.00000000e+00]\n",
      " [ 1.20082900e+06  1.20582900e+06 -2.50000000e+03  2.01501023e+00\n",
      "   1.40000000e+02  1.25616130e+00  1.99715396e-01  0.00000000e+00\n",
      "   1.00000000e+00]]\n"
     ]
    }
   ],
   "source": [
    "print(trl_ripples.shape)\n",
    "print(trl_ripples[trl_ripples[:,8]==1,:])"
   ]
  },
  {
   "cell_type": "code",
   "execution_count": 13,
   "metadata": {},
   "outputs": [
    {
     "name": "stdout",
     "output_type": "stream",
     "text": [
      "- Determine ripple characteristics [-]\n",
      "- Cleaning up the trl matrix according to criteria [-]\n",
      "[[ 1.09400000e+03  6.09400000e+03 -2.50000000e+03 ...  1.05931245e-01\n",
      "   0.00000000e+00  0.00000000e+00]\n",
      " [ 1.93100000e+03  6.93100000e+03 -2.50000000e+03 ...  1.28470527e-01\n",
      "   0.00000000e+00  0.00000000e+00]\n",
      " [ 3.65200000e+03  8.65200000e+03 -2.50000000e+03 ...  8.21630683e-02\n",
      "   0.00000000e+00  1.00000000e+00]\n",
      " ...\n",
      " [ 9.89976000e+05  9.94976000e+05 -2.50000000e+03 ...  7.44607754e-02\n",
      "   0.00000000e+00  0.00000000e+00]\n",
      " [ 9.92178000e+05  9.97178000e+05 -2.50000000e+03 ...  6.62853669e-02\n",
      "   0.00000000e+00  0.00000000e+00]\n",
      " [ 9.93547000e+05  9.98547000e+05 -2.50000000e+03 ...  7.38762405e-02\n",
      "   0.00000000e+00  1.00000000e+00]]\n"
     ]
    }
   ],
   "source": [
    "# TEST para general el algoritmo de deteccion de ripples\n",
    "\n",
    "# ------------\n",
    "signal_in = ieeg_signal\n",
    "srate = int(fsample)\n",
    "t_range = 2.5 # time range ± ripple trough (sec)\n",
    "epileptic_events = trl_discharges\n",
    "# ------------\n",
    "\n",
    "# 1. Band-pass filtering \n",
    "filter_order = 4\n",
    "low_cut = 80 # [Hz] low cut-off frequency for high-pass filter\n",
    "b_hp, a_hp = signal.butter(filter_order, (low_cut / srate) * 2, btype = 'highpass')\n",
    "high_cut = 120 # [Hz] high cut-off frequency for low-pass filter\n",
    "b_lp, a_lp = signal.butter(filter_order, (high_cut / srate) * 2, btype = 'lowpass')\n",
    "\n",
    "# apply filtering and get envelope\n",
    "filt_signal_in = signal.filtfilt(b_hp, a_hp, signal_in) # HP\n",
    "filt_signal_in = signal.filtfilt(b_lp, a_lp, filt_signal_in) #LP\n",
    "\n",
    "# Hilbert transform\n",
    "filt_signal_in_envelope = np.abs(signal.hilbert(filt_signal_in))\n",
    "\n",
    "b_lp_h, a_lp_h = signal.butter(filter_order, (10 / srate) * 2, btype = 'lowpass') #10 Hz LP on hilbert amplitude\n",
    "filt_signal_in_envelope = signal.filtfilt(b_lp_h, a_lp_h, filt_signal_in_envelope) \n",
    "\n",
    "# Normalize with zscore\n",
    "filt_signal_in_envelope = stats.zscore(filt_signal_in_envelope, axis=1);\n",
    "\n",
    "\n",
    "# - Find candidate ripple events ------------------------------------------\n",
    "# [Notes:]  - Minimum duration = 25 ms\n",
    "#           - Maximum duration = 200 ms  \n",
    "#           - Minimum peak distance = 500 ms (avoiding overlap)\n",
    "# -------------------------------------------------------------------------\n",
    "minsamples = np.round((25/1000) * srate) # Minimum duration 25 ms (sampling points) %note: orig. 20ms\n",
    "maxsamples = np.round((200/1000) * srate) # Maximum duration 200 ms (sampling points) \n",
    "MPD        = np.round((500/1000) * srate) # Minimum peak distance 500 ms (sampling points)\n",
    "\n",
    "# - Determine minimum & maximum peak height & distance - - - - - - - - - - \n",
    "# [Notes:]  - pks = peak values\n",
    "#           - locs = locations \n",
    "#           - width = distance between peaks \n",
    "# - - - - - - - - - - - - - - - - - - - - - - - - - - - - - - - - - - - - -\n",
    "# Find peaks in the filtered signal envelope\n",
    "peaks, properties = signal.find_peaks(filt_signal_in_envelope[0], height=2, width=(minsamples, maxsamples), distance=MPD)\n",
    "pks = properties['peak_heights']\n",
    "locs = peaks\n",
    "width = properties['widths']\n",
    "\n",
    "# - Now go through the signal and determine ripple characteristics --------\n",
    "print('- Determine ripple characteristics [-]')\n",
    "ripplepeaks, rippletrough, sharptransient = ripple_char(signal_in, locs, maxsamples)\n",
    "\n",
    "# - Render peak width into secs -------------------------------------------\n",
    "width = width / srate\n",
    "\n",
    "# - Render ripple peaks per epoch into Hz ---------------------------------\n",
    "ripplepeaks = ripplepeaks * (srate/maxsamples) \n",
    "\n",
    "# - Remove NaN values -----------------------------------------------------\n",
    "# TODO\n",
    "\n",
    "# - Create a basic trl ----------------------------------------------------\n",
    "# [Note:] Defines trial centered around ripple trough as follows:\n",
    "#   - [:,0]  Trial onset: ripple trough - settings.trange*data.fsample\n",
    "#   - [:,1]  Trial offset: ripple trough + settings.trange*data.fsample\n",
    "#   - [:,2]  Trigger offset: set at -settings.trange*data.fsample \n",
    "#   - [:,3]  Ripple peak amplitude (z-score)\n",
    "#   - [:,4]  Ripple frequency\n",
    "#   - [:,5]  Indication of sharpest transient in trial\n",
    "#   - [:,6]  Ripple duration in seconds\n",
    "#   - [:,7]  Cross referencing with discharge detection (optional) : amount of detected discharges in trial\n",
    "# -------------------------------------------------------------------------  \n",
    "\n",
    "# Si hay informacion sobre las descargas\n",
    "if len(epileptic_events)!=0:\n",
    "       discharge_pks = epileptic_events[:,0]\n",
    "       #num_discharges = np.zeros(len(rippletrough))\n",
    "       num_discharges = num_discharges_in_ripple_trial(rippletrough-t_range*srate, rippletrough+t_range*srate, discharge_pks)\n",
    "       trl = np.column_stack((rippletrough-t_range*srate, rippletrough+t_range*srate, np.full(len(rippletrough), -2.5*srate), pks, ripplepeaks, sharptransient, width, num_discharges))\n",
    "\n",
    "# Si NO hay informacion sobre las descargas\n",
    "else:\n",
    "       trl = np.column_stack((rippletrough-t_range*srate, rippletrough+t_range*srate, np.full(len(rippletrough), -2.5*srate), pks, ripplepeaks, sharptransient, width, np.zeros(len(rippletrough))))\n",
    "\n",
    "\n",
    "# - Remove any potential trials that: -------------------------------------\n",
    "#       - Start prior to the recording onset (i.e., ripple detected at the very start)\n",
    "#       - Exceed the recording (i.e., ripple detected at the very end\n",
    "# -------------------------------------------------------------------------\n",
    "trl = trl[trl[:,0]>0,:] # - Remove trial prior to recording onset\n",
    "trl = trl[trl[:,1]<len(signal_in[0]),:] # - Remove trials that occur past recording end\n",
    "\n",
    "\n",
    "# 2. Cleaning up the trl matrix\n",
    "print('- Cleaning up the trl matrix according to criteria [-]')\n",
    "\n",
    "amp_th = [2,4] # amplitude threshold\n",
    "minfreq = 80; # minimum frequency\n",
    "sharptransient_th = 2 # sharp transient threshold\n",
    "#overlap = 0 # ??\n",
    "trange = 2.5\n",
    "min_num_ripples = 10\n",
    "\n",
    "# Compute logical AND for multiple conditions\n",
    "tIndex = np.logical_and.reduce((\n",
    "    trl[:,3] >= amp_th[0], trl[:,3] <= amp_th[1], # - Amplitude criteria\n",
    "    trl[:,4] > minfreq, # - Frequency criteria\n",
    "    trl[:,5] < sharptransient_th, # - Sharp transient criteria\n",
    "    trl[:,6] > (np.median(trl[:,6]) - np.std(trl[:,6])), # - Duration criteria\n",
    "    trl[:,7] == 0 # - IED criteria  \n",
    "))\n",
    "\n",
    "# Se concatena como una nueva columna cuales son los putative-ripples que pasan el proceso de limpienza (=1) y los que no (=0)\n",
    "trl = np.column_stack((trl, tIndex))\n",
    "\n",
    "print(trl)"
   ]
  },
  {
   "cell_type": "code",
   "execution_count": 64,
   "metadata": {},
   "outputs": [
    {
     "name": "stdout",
     "output_type": "stream",
     "text": [
      "   Mean Amplitude:  Mean Frequency:  Mean Ampl.Sharp.Trans.:  Mean Duration:\n",
      "0         2.781779            147.6                 1.371035        0.099199\n"
     ]
    }
   ],
   "source": [
    "import pandas as pd\n",
    "\n",
    "# Compute the mean of the specified columns\n",
    "mean_trl_3 = trl_ripples[trl_ripples[:,8]==1, 3].mean()\n",
    "mean_trl_4 = trl_ripples[trl_ripples[:,8]==1, 4].mean()\n",
    "mean_trl_5 = trl_ripples[trl_ripples[:,8]==1, 5].mean()\n",
    "mean_trl_6 = trl_ripples[trl_ripples[:,8]==1, 6].mean()\n",
    "\n",
    "# Create a summary table\n",
    "summary_table = pd.DataFrame({\n",
    "    'Mean Amplitude:': [mean_trl_3],\n",
    "    'Mean Frequency:': [mean_trl_4],\n",
    "    'Mean Ampl.Sharp.Trans.:': [mean_trl_5],\n",
    "    'Mean Duration:': [mean_trl_6]\n",
    "})\n",
    "\n",
    "print(summary_table)"
   ]
  },
  {
   "cell_type": "markdown",
   "metadata": {},
   "source": [
    "GRAFICAS: figuras de los ripples detectados para ver la señal cruda, la señal filtrada y el modulo de la T.Hilbert y verificar que tengan punta de ripple"
   ]
  },
  {
   "cell_type": "code",
   "execution_count": 115,
   "metadata": {},
   "outputs": [
    {
     "name": "stdout",
     "output_type": "stream",
     "text": [
      "Applying baseline correction (mode: logratio)\n",
      "Applying baseline correction (mode: logratio)\n",
      "Applying baseline correction (mode: logratio)\n",
      "Applying baseline correction (mode: logratio)\n",
      "Applying baseline correction (mode: logratio)\n",
      "Applying baseline correction (mode: logratio)\n",
      "Applying baseline correction (mode: logratio)\n",
      "Applying baseline correction (mode: logratio)\n",
      "Applying baseline correction (mode: logratio)\n",
      "Applying baseline correction (mode: logratio)\n"
     ]
    }
   ],
   "source": [
    "# ------------\n",
    "signal_in = ieeg_signal\n",
    "srate = int(fsample)\n",
    "t_range = 2.5 # time range ± ripple trough (sec)\n",
    "epileptic_events = trl_discharges\n",
    "# ------------\n",
    "\n",
    "# Define the time window around each ripple\n",
    "window_samples = int(t_range * srate)\n",
    "\n",
    "#1. Band-pass filtering \n",
    "#print('- Filtering and Hilbert transform [-]')\n",
    "filter_order = 10\n",
    "low_cut = 80 * 0.8 # [Hz] low cut-off frequency for high-pass filter (20% less to compensate for attenuation)\n",
    "b_hp, a_hp = signal.butter(filter_order, (low_cut / srate) * 2, btype = 'highpass', analog=False) \n",
    "high_cut = 120 * 1.2 # [Hz] high cut-off frequency for low-pass filter (20% more to compensate for attenuation)\n",
    "b_lp, a_lp = signal.butter(filter_order, (high_cut / srate) * 2, btype = 'lowpass', analog=False)\n",
    "\n",
    "# apply filtering and get envelope\n",
    "filt_signal_in = signal.filtfilt(b_hp, a_hp, signal_in) # HP\n",
    "filt_signal_in = signal.filtfilt(b_lp, a_lp, filt_signal_in) #LP\n",
    "\n",
    "# Hilbert transform\n",
    "filt_signal_in_envelope = np.abs(signal.hilbert(filt_signal_in))\n",
    "\n",
    "b_lp_h, a_lp_h = signal.butter(filter_order, (10*1.2 / srate) * 2, btype = 'lowpass', analog=False) #10 Hz LP on hilbert amplitude\n",
    "filt_signal_in_envelope = signal.filtfilt(b_lp_h, a_lp_h, filt_signal_in_envelope) \n",
    "\n",
    "# Normalize with zscore\n",
    "filt_signal_in_envelope = stats.zscore(filt_signal_in_envelope, axis=1)\n",
    "\n",
    "\n",
    "# Ripples donde se aplica el criterio de cleaning\n",
    "trl_ripples_clean = trl_ripples[trl_ripples[:,8]==1,:]\n",
    "\n",
    "# Iterate over each identified ripple\n",
    "for ripple in trl_ripples_clean[0:10,:]:\n",
    "    ripple_center = int(ripple[0] + np.abs(ripple[2]))\n",
    "    \n",
    "    # Define the start and end of the segment\n",
    "    start_idx = int(ripple[0])#ripple_center - window_samples\n",
    "    end_idx = int(ripple[1]) #ripple_center + window_samples\n",
    "    \n",
    "    # Extract the segment\n",
    "    segment_raw = signal_in[0, start_idx:end_idx]\n",
    "    segment_filtered = filt_signal_in[0, start_idx:end_idx]\n",
    "    segment_hilbert = filt_signal_in_envelope[0, start_idx:end_idx]\n",
    "    segment_times = times[start_idx:end_idx]\n",
    "    \n",
    "    # Plot the raw signal, filtered signal, and Hilbert transform\n",
    "    plt.figure(figsize=(12, 8))\n",
    "    plt.subplot(4, 1, 1)\n",
    "    plt.plot(segment_times, segment_raw, label='Raw Signal')\n",
    "    plt.axvline(x=times[ripple_center], color='r', linestyle='--', label='Ripple Center')\n",
    "    plt.title('Raw Signal')\n",
    "    plt.xlabel('Time (s)')\n",
    "    plt.ylabel('Amplitude')\n",
    "    plt.legend()\n",
    "    \n",
    "    plt.subplot(4, 1, 2, sharex=plt.gca())\n",
    "    plt.plot(segment_times, segment_filtered, label='Filtered Signal')\n",
    "    plt.axvline(x=times[ripple_center], color='r', linestyle='--', label='Ripple Center')\n",
    "    plt.title('Filtered Signal')\n",
    "    plt.xlabel('Time (s)')\n",
    "    plt.ylabel('Amplitude')\n",
    "    plt.legend()\n",
    "    \n",
    "    plt.subplot(4, 1, 3, sharex=plt.gca())\n",
    "    plt.plot(segment_times, segment_hilbert, label='Hilbert Transform (Envelope)')\n",
    "    plt.axvline(x=times[ripple_center], color='r', linestyle='--', label='Ripple Center')\n",
    "    plt.axhline(y=2, color='g', linestyle='--', label='Threshold')\n",
    "    plt.title('Hilbert Transform (Envelope)')\n",
    "    plt.xlabel('Time (s)')\n",
    "    plt.ylabel('Amplitude')\n",
    "    plt.legend()\n",
    "\n",
    "    plt.subplot(4, 1, 4)\n",
    "    power_x_epoch[0].plot(baseline=(-2, -1.5), tmin=-0.5, tmax=0.5, mode=\"logratio\", axes=plt.gca())\n",
    "    \n",
    "    plt.tight_layout()\n",
    "    plt.show()"
   ]
  },
  {
   "cell_type": "code",
   "execution_count": 77,
   "metadata": {},
   "outputs": [
    {
     "name": "stdout",
     "output_type": "stream",
     "text": [
      "(5000,)\n",
      "(2000000,)\n"
     ]
    }
   ],
   "source": [
    "segment_raw = signal_in[0, start_idx:end_idx]\n",
    "print(segment_raw.shape)\n",
    "\n",
    "segment_times = times\n",
    "print(segment_times.shape)"
   ]
  },
  {
   "cell_type": "markdown",
   "metadata": {},
   "source": [
    "Histograma de la duracion de los ripples"
   ]
  },
  {
   "cell_type": "code",
   "execution_count": 65,
   "metadata": {},
   "outputs": [],
   "source": [
    "# Extract the data for the histogram\n",
    "ripple_durations = trl_ripples[:, 6]\n",
    "\n",
    "# Create the histogram plot\n",
    "plt.figure(figsize=(10, 6))\n",
    "plt.hist(ripple_durations, bins=30, edgecolor='black')\n",
    "plt.title('Histogram of Ripple Durations')\n",
    "plt.xlabel('Duration (seconds)')\n",
    "plt.ylabel('Frequency')\n",
    "plt.grid(True)\n",
    "plt.show()"
   ]
  },
  {
   "cell_type": "markdown",
   "metadata": {},
   "source": [
    "Matriz de eventos identificados (putative IEDs y putative ripples) para ver junto con la señal de SEEG"
   ]
  },
  {
   "cell_type": "code",
   "execution_count": 92,
   "metadata": {},
   "outputs": [
    {
     "name": "stdout",
     "output_type": "stream",
     "text": [
      "[[    3147        0        1]\n",
      " [   65989        0        1]\n",
      " [   80402        0        1]\n",
      " ...\n",
      " [29713132        0        3]\n",
      " [29720559        0        3]\n",
      " [29724555        0        3]]\n"
     ]
    }
   ],
   "source": [
    "t_range = 2.5 # time range ± ripple trough (sec)\n",
    "srate=int(fsample)\n",
    "\n",
    "events_IED_array_orig = np.column_stack(  (trl_discharges[:,0].astype(int), np.zeros(len(trl_discharges[:,0])).astype(int), np.ones(len(trl_discharges[:,0])).astype(int) ) )\n",
    "#print(events_IED_array_orig)\n",
    "\n",
    "#events_ripple_array_orig = np.column_stack(  ((trl[trl[:,8] == 1,0]+t_range*srate).astype(int), np.zeros(len(trl[trl[:,8] == 1,0])).astype(int), 2*np.ones(len(trl[trl[:,8] == 1,0])).astype(int) ) )\n",
    "events_ripple_array_orig = np.column_stack(  ((trl_ripples[trl_ripples[:,8] == 1,0]+t_range*srate).astype(int), np.zeros(len(trl_ripples[trl_ripples[:,8] == 1,0])).astype(int), 2*np.ones(len(trl_ripples[trl_ripples[:,8] == 1,0])).astype(int) ) )\n",
    "#print(events_ripple_array_orig)\n",
    "\n",
    "# Detectados por Ngo en sus datos\n",
    "orig_ripples_detect = mat_evt_info['EvtInfo'][0][3][0] # del struct EvtInfo, el tercer vector es el punto medio de los ripples identificados\n",
    "events_array_Ngo = np.column_stack( (orig_ripples_detect.astype(int), np.zeros(len(orig_ripples_detect)).astype(int), 3*np.ones(len(orig_ripples_detect)).astype(int) ))\n",
    "\n",
    "events_array_orig = np.concatenate((events_IED_array_orig, events_ripple_array_orig, events_array_Ngo), axis=0)\n",
    "print(events_array_orig)\n",
    "\n",
    "events_id_orig = {'putative_IED': 1, 'putative_ripple': 2, 'putative_ripple_Ngo': 3}\n",
    "events_color_orig = {'putative_IED': 'm','putative_ripple': 'g', 'putative_ripple_Ngo':'k'}\n"
   ]
  },
  {
   "cell_type": "code",
   "execution_count": 50,
   "metadata": {},
   "outputs": [
    {
     "name": "stdout",
     "output_type": "stream",
     "text": [
      "Channels marked as bad:\n",
      "none\n"
     ]
    },
    {
     "data": {
      "text/plain": [
       "<mne_qt_browser._pg_figure.MNEQtBrowser at 0x7fa572754440>"
      ]
     },
     "execution_count": 50,
     "metadata": {},
     "output_type": "execute_result"
    }
   ],
   "source": [
    "seeg_channels = mne.pick_types(mne_data.info, seeg=True)\n",
    "mne_data.plot(duration=30, order=seeg_channels, n_channels=len(seeg_channels),\n",
    "         remove_dc=False, scalings = 'auto', block=True, color=dict(seeg='b'),\n",
    "         events=events_array_orig, event_id=events_id_orig, event_color=events_color_orig)"
   ]
  },
  {
   "cell_type": "code",
   "execution_count": 94,
   "metadata": {},
   "outputs": [
    {
     "name": "stdout",
     "output_type": "stream",
     "text": [
      "Not setting metadata\n",
      "25 matching events found\n",
      "Setting baseline interval to [-2.5, 0.0] s\n",
      "Applying baseline correction (mode: mean)\n",
      "0 projection items activated\n",
      "Using data from preloaded Raw for 25 events and 5001 original time points ...\n",
      "0 bad epochs dropped\n",
      "Not setting metadata\n",
      "25 matching events found\n",
      "No baseline correction applied\n",
      "0 projection items activated\n"
     ]
    },
    {
     "name": "stderr",
     "output_type": "stream",
     "text": [
      "/tmp/ipykernel_371444/3210223045.py:2: RuntimeWarning: Only one channel in group \"seeg\"; cannot combine by method \"mean\".\n",
      "  epochs.plot_image(combine=\"mean\")\n"
     ]
    },
    {
     "name": "stdout",
     "output_type": "stream",
     "text": [
      "combining channels using \"mean\"\n"
     ]
    },
    {
     "name": "stderr",
     "output_type": "stream",
     "text": [
      "/tmp/ipykernel_371444/3210223045.py:2: RuntimeWarning: Only 1 channel in \"picks\"; cannot combine by method \"mean\".\n",
      "  epochs.plot_image(combine=\"mean\")\n"
     ]
    },
    {
     "name": "stdout",
     "output_type": "stream",
     "text": [
      "(25, 1, 5001)\n"
     ]
    },
    {
     "name": "stderr",
     "output_type": "stream",
     "text": [
      "/tmp/ipykernel_371444/3210223045.py:3: FutureWarning: The current default of copy=False will change to copy=True in 1.7. Set the value of copy explicitly to avoid this warning\n",
      "  print(epochs.get_data().shape)\n"
     ]
    }
   ],
   "source": [
    "epochs = mne.Epochs(mne_data, events_ripple_array_orig, tmin=-2.5, tmax=2.5, preload=True)\n",
    "epochs.plot_image(combine=\"mean\")\n",
    "print(epochs.get_data().shape)"
   ]
  },
  {
   "cell_type": "code",
   "execution_count": 52,
   "metadata": {},
   "outputs": [
    {
     "name": "stderr",
     "output_type": "stream",
     "text": [
      "/tmp/ipykernel_371444/1039788901.py:13: FutureWarning: The current default of copy=False will change to copy=True in 1.7. Set the value of copy explicitly to avoid this warning\n",
      "  epochs_data = epochs.get_data()\n"
     ]
    }
   ],
   "source": [
    "def z_normalize_epochs(epochs, baseline=(-2.5, -2.0)):\n",
    "    \"\"\"\n",
    "    Z-normalize each epoch individually relative to a baseline window.\n",
    "\n",
    "    Parameters:\n",
    "    - epochs: mne.Epochs object\n",
    "    - baseline: tuple, defines the time range for baseline normalization (in seconds)\n",
    "    \n",
    "    Returns:\n",
    "    - z_normalized_epochs: numpy array of z-normalized epochs (n_epochs x n_channels x n_timepoints)\n",
    "    \"\"\"\n",
    "    # Get data from the Epochs object (n_epochs x n_channels x n_timepoints)\n",
    "    epochs_data = epochs.get_data()\n",
    "    \n",
    "    # Get the time points and find the indices corresponding to the baseline window\n",
    "    times = epochs.times\n",
    "    baseline_idx = np.where((times >= baseline[0]) & (times <= baseline[1]))[0]\n",
    "\n",
    "    # Initialize an array to store the z-normalized data\n",
    "    z_normalized_epochs = np.empty_like(epochs_data)\n",
    "\n",
    "    # Loop over epochs and channels to z-normalize epoch-wise\n",
    "    for i_epoch in range(epochs_data.shape[0]):\n",
    "        for i_channel in range(epochs_data.shape[1]):\n",
    "            # Get the data for the current epoch and channel\n",
    "            epoch_channel_data = epochs_data[i_epoch, i_channel, :]\n",
    "\n",
    "            # Compute the mean and std within the baseline window\n",
    "            baseline_mean = epoch_channel_data[baseline_idx].mean()\n",
    "            baseline_std = epoch_channel_data[baseline_idx].std()\n",
    "\n",
    "            # Z-normalize the data for this epoch and channel\n",
    "            z_normalized_epochs[i_epoch, i_channel, :] = (epoch_channel_data - baseline_mean) / baseline_std\n",
    "    \n",
    "    return z_normalized_epochs, times\n",
    "\n",
    "def compute_group_mean_std(z_normalized_epochs):\n",
    "    \"\"\"\n",
    "    Compute the group mean and standard deviation from z-normalized epochs.\n",
    "\n",
    "    Parameters:\n",
    "    - z_normalized_epochs: numpy array of z-normalized epochs (n_epochs x n_channels x n_timepoints)\n",
    "\n",
    "    Returns:\n",
    "    - group_mean: numpy array of mean ERP across epochs (n_channels x n_timepoints)\n",
    "    - group_std: numpy array of std deviation across epochs (n_channels x n_timepoints)\n",
    "    \"\"\"\n",
    "    # Compute the group mean and standard deviation across epochs\n",
    "    group_mean = z_normalized_epochs.mean(axis=0)  # Mean across epochs\n",
    "    group_std = z_normalized_epochs.std(axis=0)    # Std dev across epochs\n",
    "    \n",
    "    return group_mean, group_std\n",
    "\n",
    "# Example usage:\n",
    "# Assuming 'epochs' is your MNE Epochs object\n",
    "z_normalized_epochs, evk_times = z_normalize_epochs(epochs, baseline=(-2.5, 2.0))\n",
    "group_mean, group_std = compute_group_mean_std(z_normalized_epochs)\n",
    "\n",
    "# The output `group_mean` and `group_std` contain the ERP and its variability across epochs.\n",
    "\n",
    "\n",
    "plt.figure(figsize=(10, 6))\n",
    "plt.plot(evk_times, group_mean.T, label='Group Mean')\n",
    "#plt.fill_between(evk_times, group_mean.T - group_std.T, group_mean.T + group_std.T, color='gray', alpha=0.5, label='Group Std Dev')\n",
    "plt.title('Group Mean and Standard Deviation of Z-normalized ERP')\n",
    "plt.xlabel('Time (s)')\n",
    "plt.ylabel('Amplitude (z-score)')\n",
    "plt.legend()\n",
    "plt.grid(True)\n",
    "plt.show()"
   ]
  },
  {
   "cell_type": "code",
   "execution_count": 53,
   "metadata": {},
   "outputs": [],
   "source": [
    "def compute_z_normalized_erp(epochs, baseline=(-2.5, -2.0)):\n",
    "    \"\"\"\n",
    "    Compute z-normalized ERP relative to a baseline window in MNE Epochs object.\n",
    "\n",
    "    Parameters:\n",
    "    - epochs: mne.Epochs object\n",
    "    - baseline: tuple, defines the time range for baseline normalization (in seconds)\n",
    "    \n",
    "    Returns:\n",
    "    - z_normalized_erp: numpy array of the z-normalized ERP\n",
    "    \"\"\"\n",
    "    # Compute the mean ERP across all epochs\n",
    "    evoked = epochs.average()\n",
    "\n",
    "    # Convert Evoked object to NumPy array (channels x time points)\n",
    "    erp = evoked.data\n",
    "\n",
    "    # Get the sampling frequency and time points\n",
    "    times = evoked.times\n",
    "    \n",
    "    # Define the baseline time indices\n",
    "    baseline_idx = np.where((times >= baseline[0]) & (times <= baseline[1]))[0]\n",
    "\n",
    "    # Compute the baseline mean and std (for each channel)\n",
    "    baseline_mean = erp[:, baseline_idx].mean(axis=1, keepdims=True)\n",
    "    baseline_std = erp[:, baseline_idx].std(axis=1, keepdims=True)\n",
    "\n",
    "    # Z-normalize the ERP relative to the baseline\n",
    "    z_normalized_erp = (erp - baseline_mean) / baseline_std\n",
    "\n",
    "    return z_normalized_erp, evoked.times\n",
    "\n",
    "# Example usage:\n",
    "# Assuming 'epochs' is your MNE Epochs object\n",
    "# epochs = mne.Epochs(...)\n",
    "\n",
    "z_normalized_erp, times = compute_z_normalized_erp(epochs, baseline=(-2.5, 2.0))\n",
    "\n",
    "plt.figure(figsize=(10, 6))\n",
    "plt.plot(times, z_normalized_erp.T)\n",
    "plt.title('Z-normalized ERP')\n",
    "plt.xlabel('Time (s)')\n",
    "plt.ylabel('Amplitude (z-score)')\n",
    "plt.grid(True)\n",
    "plt.show()"
   ]
  },
  {
   "cell_type": "code",
   "execution_count": 54,
   "metadata": {},
   "outputs": [
    {
     "name": "stdout",
     "output_type": "stream",
     "text": [
      "<class 'numpy.ndarray'>\n",
      "(5001,)\n"
     ]
    }
   ],
   "source": [
    "print(type(z_normalized_erp))\n",
    "print(times.shape)"
   ]
  },
  {
   "cell_type": "markdown",
   "metadata": {},
   "source": [
    "Usando Morlet"
   ]
  },
  {
   "cell_type": "code",
   "execution_count": 56,
   "metadata": {},
   "outputs": [],
   "source": [
    "freqs = np.logspace(*np.log10([4, 160]), num=30)\n",
    "n_cycles = freqs / 2.0  # different number of cycle per frequency\n",
    "power, itc = mne.time_frequency.tfr_morlet(\n",
    "    epochs,\n",
    "    freqs=freqs,\n",
    "    n_cycles=n_cycles,\n",
    "    use_fft=True,\n",
    "    return_itc=True,\n",
    "    decim=3,\n",
    "    n_jobs=None,\n",
    ")"
   ]
  },
  {
   "cell_type": "markdown",
   "metadata": {},
   "source": [
    "Usando Multitapers"
   ]
  },
  {
   "cell_type": "code",
   "execution_count": 99,
   "metadata": {},
   "outputs": [],
   "source": [
    "freqs = np.logspace(*np.log10([4, 160]), num=45)\n",
    "n_cycles = freqs / 2.0  # different number of cycle per frequency\n",
    "time_bandwidth = 8.0 \n",
    "power, itc = epochs.compute_tfr(\n",
    "    method='multitaper',\n",
    "    freqs=freqs, \n",
    "    n_cycles=n_cycles, \n",
    "    time_bandwidth = time_bandwidth,\n",
    "    return_itc=True, \n",
    "    decim=3, \n",
    "    n_jobs=1,\n",
    "    average=True)"
   ]
  },
  {
   "cell_type": "code",
   "execution_count": 69,
   "metadata": {},
   "outputs": [
    {
     "name": "stdout",
     "output_type": "stream",
     "text": [
      "Applying baseline correction (mode: logratio)\n"
     ]
    },
    {
     "data": {
      "text/plain": [
       "[<Figure size 640x480 with 2 Axes>]"
      ]
     },
     "execution_count": 69,
     "metadata": {},
     "output_type": "execute_result"
    }
   ],
   "source": [
    "power.plot(baseline=(-2, -1.5), tmin=-0.5, tmax=0.5, mode=\"logratio\") #\"logratio\""
   ]
  },
  {
   "cell_type": "code",
   "execution_count": 100,
   "metadata": {},
   "outputs": [
    {
     "data": {
      "text/plain": [
       "(25, 1, 45, 1667)"
      ]
     },
     "execution_count": 100,
     "metadata": {},
     "output_type": "execute_result"
    }
   ],
   "source": [
    "power_x_epoch = epochs.compute_tfr(\n",
    "    method='multitaper',\n",
    "    freqs=freqs, \n",
    "    n_cycles=n_cycles, \n",
    "    time_bandwidth = time_bandwidth,\n",
    "    return_itc=False, \n",
    "    decim=3, \n",
    "    n_jobs=1,\n",
    "    average=False)\n",
    "\n",
    "power_x_epoch.get_data().shape"
   ]
  },
  {
   "cell_type": "code",
   "execution_count": 57,
   "metadata": {},
   "outputs": [
    {
     "name": "stdout",
     "output_type": "stream",
     "text": [
      "    Using multitaper spectrum estimation with 7 DPSS windows\n"
     ]
    }
   ],
   "source": [
    "epochs_spectrum = epochs.compute_psd(method=\"multitaper\", tmin=-0.1, tmax=0.1, fmin=4, fmax=120)\n"
   ]
  },
  {
   "cell_type": "code",
   "execution_count": 58,
   "metadata": {},
   "outputs": [
    {
     "name": "stdout",
     "output_type": "stream",
     "text": [
      "Plotting power spectral density (dB=True).\n"
     ]
    },
    {
     "name": "stderr",
     "output_type": "stream",
     "text": [
      "/tmp/ipykernel_371444/3948199634.py:2: FutureWarning: The value of `amplitude='auto'` will be removed in MNE 1.8.0, and the new default will be `amplitude=False`.\n",
      "  mean_spectrum.plot(xscale='log', average=True)\n"
     ]
    },
    {
     "data": {
      "image/png": "[encoded data removed]",
      "text/plain": [
       "<MNELineFigure size 1000x350 with 1 Axes>"
      ]
     },
     "execution_count": 58,
     "metadata": {},
     "output_type": "execute_result"
    }
   ],
   "source": [
    "mean_spectrum = epochs_spectrum.average()\n",
    "mean_spectrum.plot(xscale='log', average=True) "
   ]
  },
  {
   "cell_type": "code",
   "execution_count": 26,
   "metadata": {},
   "outputs": [
    {
     "ename": "NameError",
     "evalue": "name 'trl' is not defined",
     "output_type": "error",
     "traceback": [
      "\u001b[0;31m---------------------------------------------------------------------------\u001b[0m",
      "\u001b[0;31mNameError\u001b[0m                                 Traceback (most recent call last)",
      "Cell \u001b[0;32mIn[26], line 2\u001b[0m\n\u001b[1;32m      1\u001b[0m tIndex \u001b[38;5;241m=\u001b[39m np\u001b[38;5;241m.\u001b[39mlogical_and\u001b[38;5;241m.\u001b[39mreduce((\n\u001b[0;32m----> 2\u001b[0m     \u001b[43mtrl\u001b[49m[:,\u001b[38;5;241m3\u001b[39m] \u001b[38;5;241m>\u001b[39m\u001b[38;5;241m=\u001b[39m amp_th[\u001b[38;5;241m0\u001b[39m], \n\u001b[1;32m      3\u001b[0m     trl[:,\u001b[38;5;241m3\u001b[39m] \u001b[38;5;241m<\u001b[39m\u001b[38;5;241m=\u001b[39m amp_th[\u001b[38;5;241m1\u001b[39m], \n\u001b[1;32m      4\u001b[0m     trl[:,\u001b[38;5;241m4\u001b[39m] \u001b[38;5;241m>\u001b[39m minfreq, \n\u001b[1;32m      5\u001b[0m     trl[:,\u001b[38;5;241m5\u001b[39m] \u001b[38;5;241m<\u001b[39m sharptransient_th, \n\u001b[1;32m      6\u001b[0m     trl[:,\u001b[38;5;241m6\u001b[39m] \u001b[38;5;241m>\u001b[39m np\u001b[38;5;241m.\u001b[39mmedian(trl[:,\u001b[38;5;241m6\u001b[39m]) \u001b[38;5;241m-\u001b[39m np\u001b[38;5;241m.\u001b[39mstd(trl[:,\u001b[38;5;241m6\u001b[39m]), \n\u001b[1;32m      7\u001b[0m     trl[:,\u001b[38;5;241m7\u001b[39m] \u001b[38;5;241m==\u001b[39m \u001b[38;5;241m0\u001b[39m\n\u001b[1;32m      8\u001b[0m ))\n\u001b[1;32m      9\u001b[0m \u001b[38;5;28mprint\u001b[39m(tIndex)\n\u001b[1;32m     10\u001b[0m \u001b[38;5;66;03m#\u001b[39;00m\n",
      "\u001b[0;31mNameError\u001b[0m: name 'trl' is not defined"
     ]
    }
   ],
   "source": [
    "tIndex = np.logical_and.reduce((\n",
    "    trl[:,3] >= amp_th[0], \n",
    "    trl[:,3] <= amp_th[1], \n",
    "    trl[:,4] > minfreq, \n",
    "    trl[:,5] < sharptransient_th, \n",
    "    trl[:,6] > np.median(trl[:,6]) - np.std(trl[:,6]), \n",
    "    trl[:,7] == 0\n",
    "))\n",
    "print(tIndex)\n",
    "#"
   ]
  },
  {
   "cell_type": "markdown",
   "metadata": {},
   "source": [
    "TEST: funcion para identificar discharges en el mismo trial que los ripples"
   ]
  },
  {
   "cell_type": "code",
   "execution_count": 35,
   "metadata": {},
   "outputs": [
    {
     "name": "stdout",
     "output_type": "stream",
     "text": [
      "[ -1570.    606.   2178.   3905.  90828.  94665.  95917.  96964. 102279.\n",
      " 102950. 103558. 104452. 105575. 112213. 113909. 116010. 118953. 124624.\n",
      " 125176. 126010. 127077. 128640. 133326. 140660. 144738. 146550. 150831.\n",
      " 152215. 161147. 161970. 164853. 171383. 176401. 187720. 188336. 189083.\n",
      " 189817. 190351. 191004. 191672. 192419. 193070. 193574. 194164. 195290.\n",
      " 195917. 196789. 197535. 198467. 198985. 199487. 200127. 200662. 201198.\n",
      " 202019. 204028. 204843. 219064. 230054. 230820. 231885. 232492. 233051.\n",
      " 233665. 234906. 242067. 247606. 281785. 291965. 323176. 333192. 341105.\n",
      " 356111. 456288. 460894. 470866.] [  3430.   5606.   7178.   8905.  95828.  99665. 100917. 101964. 107279.\n",
      " 107950. 108558. 109452. 110575. 117213. 118909. 121010. 123953. 129624.\n",
      " 130176. 131010. 132077. 133640. 138326. 145660. 149738. 151550. 155831.\n",
      " 157215. 166147. 166970. 169853. 176383. 181401. 192720. 193336. 194083.\n",
      " 194817. 195351. 196004. 196672. 197419. 198070. 198574. 199164. 200290.\n",
      " 200917. 201789. 202535. 203467. 203985. 204487. 205127. 205662. 206198.\n",
      " 207019. 209028. 209843. 224064. 235054. 235820. 236885. 237492. 238051.\n",
      " 238665. 239906. 247067. 252606. 286785. 296965. 328176. 338192. 346105.\n",
      " 361111. 461288. 465894. 475866.] [191383. 200520. 204955. 206510. 325474. 328093. 347119. 411259. 458525.]\n",
      "[0. 0. 0. 0. 0. 0. 0. 0. 0. 0. 0. 0. 0. 0. 0. 0. 0. 0. 0. 0. 0. 0. 0. 0.\n",
      " 0. 0. 0. 0. 0. 0. 0. 0. 0. 1. 1. 1. 1. 1. 1. 0. 0. 0. 0. 0. 0. 1. 1. 1.\n",
      " 1. 1. 1. 2. 1. 1. 2. 2. 2. 0. 0. 0. 0. 0. 0. 0. 0. 0. 0. 0. 0. 2. 0. 0.\n",
      " 0. 1. 0. 0.]\n"
     ]
    }
   ],
   "source": [
    "## ---------------\n",
    "trial_start = rippletrough-t_range*srate\n",
    "trial_end = rippletrough+t_range*srate\n",
    "discharge_pks\n",
    "\n",
    "print(trial_start, trial_end, discharge_pks)\n",
    "## ---------------\n",
    "\n",
    "nodischarges = np.zeros(len(trial_start))\n",
    "\n",
    "for tr_idx in range(len(trial_start)):\n",
    "\n",
    "    currentepoch_start = trial_start[tr_idx]\n",
    "    currentepoch_end = trial_end[tr_idx]\n",
    "    #print(currentepoch_start, currentepoch_end)\n",
    "    nodischarges[tr_idx] = np.sum((discharge_pks >= currentepoch_start) & (discharge_pks <= currentepoch_end))\n",
    "\n",
    "print(nodischarges)\n"
   ]
  },
  {
   "cell_type": "code",
   "execution_count": 33,
   "metadata": {},
   "outputs": [
    {
     "name": "stdout",
     "output_type": "stream",
     "text": [
      "204028.0 209028.0\n",
      "2\n"
     ]
    }
   ],
   "source": [
    "tr_idx = 55\n",
    "\n",
    "currentepoch_start = trial_start[tr_idx]\n",
    "currentepoch_end = trial_end[tr_idx]\n",
    "print(currentepoch_start, currentepoch_end)\n",
    "\n",
    "print( np.sum((discharge_pks >= currentepoch_start) & (discharge_pks <= currentepoch_end)) ) \n",
    "\n",
    "nodischarges[tr_idx] = np.sum((discharge_pks >= currentepoch_start) & (discharge_pks <= currentepoch_end))"
   ]
  },
  {
   "cell_type": "code",
   "execution_count": 105,
   "metadata": {},
   "outputs": [
    {
     "name": "stdout",
     "output_type": "stream",
     "text": [
      "(array([1, 2, 3]),)\n",
      "[False  True  True  True False False False False False]\n"
     ]
    }
   ],
   "source": [
    "print(np.where((discharge_pks>=200000) & (discharge_pks<=300000)))\n",
    "print((discharge_pks>=200000) & (discharge_pks<=300000))"
   ]
  },
  {
   "cell_type": "code",
   "execution_count": null,
   "metadata": {},
   "outputs": [],
   "source": []
  },
  {
   "cell_type": "code",
   "execution_count": 78,
   "metadata": {},
   "outputs": [
    {
     "name": "stdout",
     "output_type": "stream",
     "text": [
      "[-1.57000000e+03  3.43000000e+03 -2.50000000e+03  4.87082992e+00\n",
      "  1.65000000e+02  1.03618184e+00  1.59246528e-01]\n"
     ]
    }
   ],
   "source": [
    "trl = np.column_stack((rippletrough-t_range*srate, rippletrough+t_range*srate, np.full(len(rippletrough), -2.5*srate), pks, ripplepeaks, sharptransient, width))\n",
    "print(trl[0,:])"
   ]
  },
  {
   "cell_type": "code",
   "execution_count": 61,
   "metadata": {},
   "outputs": [],
   "source": [
    "# TEST para la funcion que determina las caracteristicas de los ripples (ripplechar)\n",
    "\n",
    "# - Pre-define output variables -\n",
    "# -------------------------------------------------------------------------\n",
    "# Pre-define output variables\n",
    "ripplepeaks = np.full(len(locs), np.nan)\n",
    "rippletrough = np.full(len(locs), np.nan)\n",
    "sharptransient = np.full(len(locs), np.nan)\n",
    "\n",
    "# - Go through ripple candidates -\n",
    "for idx in range(len(locs)):\n",
    "    \n",
    "    # 1. Determine window -------------------------------------------------\n",
    "    s_start = np.round(locs[idx] - maxsamples/2).astype(int) # start sample\n",
    "    s_end = np.round(locs[idx] + maxsamples/2).astype(int) # stop sample\n",
    "    datasegm_trial  = signal_in[0,s_start:s_end]\n",
    "    datasegm_time = times[s_start:s_end]\n",
    "    \n",
    "    # 2. Find all troughs close to candidate ripple peak ------------------\n",
    "    idxloc, _ = signal.find_peaks((-1)*datasegm_trial)\n",
    "    pks2 = (-1)*datasegm_trial[idxloc]\n",
    "    idxloc = idxloc + s_start # offset to the real indexs\n",
    "    \n",
    "    # 3. Save ripple characteristics --------------------------------------\n",
    "    if len(idxloc) == 0 or len(idxloc) == 1:\n",
    "        print(idx)\n",
    "        ripplepeaks[idx] = np.nan\n",
    "        rippletrough[idx] = np.nan\n",
    "        sharptransient[idx] = np.nan\n",
    "    else:\n",
    "        ripplepeaks[idx] = len(idxloc) # - Number of peaks in segment\n",
    "        rippletrough[idx] = idxloc[np.argmin(np.abs(idxloc-locs[idx]))] # - Datapoint of trough closest to ripple peak idx \n",
    "\n",
    "        # 4. Flag sharpest transient ------------------------------------------\n",
    "        pksz = stats.zscore(pks2)\n",
    "        pksdiff = pksz[1:]-pksz[:-1]\n",
    "        sharptransient[idx] = np.max(np.abs(pksdiff))                    # - Mark sharpest transient for later spike removal\n",
    "\n",
    "\n",
    "#return ripplepeaks, rippletrough, sharptransient\n",
    "\n",
    "#print(ripplepeaks, rippletrough, sharptransient)\n"
   ]
  },
  {
   "cell_type": "code",
   "execution_count": 60,
   "metadata": {},
   "outputs": [
    {
     "name": "stdout",
     "output_type": "stream",
     "text": [
      "4\n"
     ]
    }
   ],
   "source": [
    "print(len(idxloc))"
   ]
  },
  {
   "cell_type": "code",
   "execution_count": 7,
   "metadata": {},
   "outputs": [
    {
     "name": "stdout",
     "output_type": "stream",
     "text": [
      "(500000,)\n",
      "(1, 500000)\n",
      "[ 4.87082992  2.91757945  2.57857237  2.10227395  2.51546604  5.08684021\n",
      "  2.18019737  2.57210587 10.46986065  3.41698475  3.67075113  2.74097915\n",
      "  2.2996239   7.72343543  2.25385835  2.11338141  2.01832542  2.07169265\n",
      "  5.10463185  2.01494404  2.17745499  3.2177211   2.77763821  2.90211307\n",
      "  2.30573067  2.52891277  2.79435575  2.59455965  2.12435841  2.14611511\n",
      "  2.24302935  2.09367218  5.47851155  3.06993282  4.73802656  7.36798456\n",
      "  7.59772142 10.83102623  8.12862065  6.52394684  6.67562382  4.34330607\n",
      "  4.5075732   2.56573771  3.18369741 10.83576988 10.58748703 14.24005339\n",
      " 13.78419363  9.66637188  3.08712168  3.74410529  8.15150527 13.76653302\n",
      "  3.22178052  3.56593849  2.63205541  2.36293108  2.43248437  2.35257092\n",
      "  5.01315637  2.8635101   4.01551021  3.5453666   2.17748814  3.41319487\n",
      "  2.24441423  2.61904736  2.01842679 11.87047148  4.72000971  2.54443748\n",
      "  3.82376576  6.66464553  2.18249295  2.9196583 ]\n"
     ]
    }
   ],
   "source": [
    "print(times.shape)\n",
    "print(filt_signal_in_envelope.shape)\n",
    "#print(times[locs])\n",
    "print(filt_signal_in_envelope[0,locs])"
   ]
  },
  {
   "cell_type": "code",
   "execution_count": 11,
   "metadata": {},
   "outputs": [],
   "source": [
    "# Plotting\n",
    "fig, axs = plt.subplots(2, 1, figsize=(10, 6), sharex='all')\n",
    "\n",
    "# Plot signal_in in the first subplot\n",
    "axs[0].plot(times, signal_in[0], label='Original Signal',zorder=-1)\n",
    "axs[0].scatter(times[locs.astype(int)], signal_in[0, locs.astype(int)]+50, color='red', marker=\"v\", s=70, label='Identified Peaks',zorder=1)\n",
    "axs[0].set_title('Original Signal')\n",
    "axs[0].set_xlabel('Time (s)')\n",
    "axs[0].set_ylabel('Amplitude')\n",
    "axs[0].legend()\n",
    "\n",
    "# Plot filt_signal_in, filt_signal_in_envelope, and identified peaks in the second subplot\n",
    "axs[1].scatter(times[locs.astype(int)], filt_signal_in_envelope[0, locs.astype(int)], color='red', marker=\"v\", s=70, label='Identified Peaks',zorder=1)\n",
    "axs[1].axhline(y=2, color='r', linestyle='--', label='threshold')\n",
    "axs[1].plot(times, filt_signal_in[0], label='Filtered Signal',zorder=-1)\n",
    "axs[1].plot(times, filt_signal_in_envelope[0], label='Filtered Signal Envelope',zorder=-1)\n",
    "axs[1].set_title('Filtered Signal and Envelope with Identified Peaks')\n",
    "axs[1].set_xlabel('Time (s)')\n",
    "axs[1].set_ylabel('Amplitude')\n",
    "axs[1].legend()\n",
    "\n",
    "plt.tight_layout()\n",
    "plt.show()"
   ]
  },
  {
   "cell_type": "code",
   "execution_count": 23,
   "metadata": {},
   "outputs": [],
   "source": [
    "# TEST para general el algoritmo de deteccion de IEDs\n",
    "\n",
    "# ------------\n",
    "signal_in = ieeg_signal\n",
    "srate = int(fsample)\n",
    "t_epoch = [2.5, 2.5]\n",
    "# ------------\n",
    "\n",
    "# 1. Get envelope from raw signal\n",
    "amplit_envelope = np.abs(signal.hilbert(signal_in))\n",
    "amplit_envelope = stats.zscore(amplit_envelope, axis=1) \n",
    "\n",
    "# 2. Band-pass filtering \n",
    "filter_order = 4\n",
    "low_cut = 25 # low cut-off frequency for high-pass filter\n",
    "b_hp, a_hp = signal.butter(filter_order, (low_cut / srate) * 2, 'high')\n",
    "high_cut = 80 # high cut-off frequency for low-pass filter\n",
    "b_lp, a_lp = signal.butter(filter_order, (high_cut / srate) * 2, 'low')\n",
    "\n",
    "# apply filtering and get envelope\n",
    "filt_signal_in = signal.filtfilt(b_hp, a_hp, signal_in) # HP\n",
    "filt_signal_in = signal.filtfilt(b_lp, a_lp, filt_signal_in) #LP\n",
    "\n",
    "filt_signal_in_envelope = np.abs(signal.hilbert(filt_signal_in))\n",
    "\n",
    "# 3. Normalize\n",
    "filt_signal_in_envelope = stats.zscore(filt_signal_in_envelope, axis=1);\n",
    "\n",
    "# 4. Detect events above threshold and time criterion\n",
    "cutoff  = 2\n",
    "min_t   = 0.02 * srate\n",
    "max_t   = 0.1 * srate\n",
    "\n",
    "# 5. only find consecutive segments \n",
    "aboveThreshold = (filt_signal_in_envelope > cutoff) # - Samples of threshhold\n",
    "aboveThreshold[amplit_envelope < cutoff] = 0;  # - Remove if raw sd is < cutoff "
   ]
  },
  {
   "cell_type": "code",
   "execution_count": 59,
   "metadata": {},
   "outputs": [],
   "source": [
    "#signal_in_IEDs = signal_in.copy()\n",
    "\n",
    "# Identify continuous one and apply time criterion\n",
    "spanLocs = label(aboveThreshold) # Label connected regions\n",
    "regions = regionprops(spanLocs) # Measure region properties (area)\n",
    "spanLength = np.array([region.area for region in regions]) # Extract the length (area) of each region\n",
    "goodSpans = np.where((spanLength > min_t) & (spanLength < max_t))[0] # Find indices of spans with lengths within the specified range\n",
    "\n",
    "# 6. Create trl matrix \n",
    "trl = np.zeros((len(goodSpans),4))\n",
    "\n",
    "detected_IED = []\n",
    "\n",
    "for g in range(len(goodSpans)):\n",
    "\n",
    "    currentepochidx = np.where(spanLocs == goodSpans[g])[1]\n",
    "    currentepochvals = filt_signal_in_envelope[0,currentepochidx]\n",
    "\n",
    "    # Find the max in this range\n",
    "    maxloc = np.argmax(currentepochvals)\n",
    "    maxloc = maxloc + currentepochidx[0]\n",
    "\n",
    "    detected_IED.append([times[maxloc],np.max(currentepochvals)])\n",
    "\n",
    "    # Create the trl\n",
    "    trl[g,:] = [maxloc, maxloc-np.abs(t_epoch[0])*srate, maxloc+np.abs(t_epoch[1])*srate, np.abs(t_epoch[0])*srate]\n",
    "\n",
    "# Convert the list to a numpy array\n",
    "detected_IED = np.array(detected_IED)"
   ]
  },
  {
   "cell_type": "code",
   "execution_count": 66,
   "metadata": {},
   "outputs": [
    {
     "name": "stdout",
     "output_type": "stream",
     "text": [
      "[0. 1. 1. 0. 0. 0. 0. 0. 0. 0. 0. 1. 0. 0. 0. 0. 0. 0. 1. 0. 0. 0. 0. 0.\n",
      " 0. 0. 0. 0. 0. 0. 1. 0.]\n"
     ]
    },
    {
     "data": {
      "text/plain": [
       "'tr_el = zeros(size(trl,1),1);\\n\\nfor tr = 2:size(trl,1)    \\n   if (trl(tr,1) - trl(tr-1,1)) <= srate\\n       tr_el(tr) = 1;\\n   else\\n   end\\nend\\ntrl(find(tr_el == 1),:) = [];'"
      ]
     },
     "execution_count": 66,
     "metadata": {},
     "output_type": "execute_result"
    }
   ],
   "source": [
    "# 7. Eliminate events that are within 1 sec -------------------------------\n",
    "tr_el = np.zeros(trl.shape[0])\n",
    "\n",
    "for tr in range(1, trl.shape[0]):\n",
    "    if (trl[tr,0] - trl[tr-1,0]) <= srate:\n",
    "        tr_el[tr] = 1\n",
    "    else:\n",
    "        pass\n",
    "\n",
    "print(tr_el)\n",
    "\n",
    "trl = np.delete(trl, np.where(tr_el == 1), axis=0)\n",
    "\n"
   ]
  },
  {
   "cell_type": "code",
   "execution_count": 67,
   "metadata": {},
   "outputs": [],
   "source": [
    "fig1, ax1 = plt.subplots(nrows=3,ncols=1,figsize=(10, 6), sharex='all')\n",
    "\n",
    "# Plot raw\n",
    "ax1[0].plot(times, signal_in[0], label='raw signal')\n",
    "ax1[0].set_title('Raw signal')\n",
    "ax1[0].scatter(detected_IED[:,0], detected_IED[:,1], color='r', marker='*', label='detected IEDs')\n",
    "ax1[0].grid()\n",
    "\n",
    "# Plot amplit_envelope\n",
    "ax1[1].plot(times, amplit_envelope[0], label='amplit_envelope')\n",
    "ax1[1].axhline(y=cutoff, color='r', linestyle='--', label='cutoff')\n",
    "ax1[1].set_title('Amplitude envelope')\n",
    "ax1[1].grid()\n",
    "\n",
    "# Plot filt_signal_in_envelope\n",
    "ax1[2].plot(times, filt_signal_in_envelope[0], label='filt_signal_in_envelope')\n",
    "ax1[2].axhline(y=cutoff, color='r', linestyle='--', label='cutoff')\n",
    "ax1[2].set_title('Filtered signal envelope')\n",
    "ax1[2].grid()\n",
    "\n",
    "# Show the plot\n",
    "plt.show()"
   ]
  }
 ],
 "metadata": {
  "kernelspec": {
   "display_name": "env_mne_1_7",
   "language": "python",
   "name": "python3"
  },
  "language_info": {
   "codemirror_mode": {
    "name": "ipython",
    "version": 3
   },
   "file_extension": ".py",
   "mimetype": "text/x-python",
   "name": "python",
   "nbconvert_exporter": "python",
   "pygments_lexer": "ipython3",
   "version": "3.12.2"
  }
 },
 "nbformat": 4,
 "nbformat_minor": 2
}
