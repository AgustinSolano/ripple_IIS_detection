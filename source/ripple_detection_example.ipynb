{
 "cells": [
  {
   "cell_type": "code",
   "execution_count": 4,
   "metadata": {},
   "outputs": [],
   "source": [
    "%matplotlib qt5"
   ]
  },
  {
   "cell_type": "code",
   "execution_count": 5,
   "metadata": {},
   "outputs": [],
   "source": [
    "import scipy.io\n",
    "import mne\n",
    "import h5py\n",
    "import numpy as np\n",
    "import hdf5storage\n",
    "\n",
    "import sys\n",
    "sys.path.append('/home/lfa-01/Documentos/RepositoriosGit/')\n",
    "\n",
    "import importlib\n",
    "\n",
    "import SpikeWaveDetectorClass \n",
    "import RippleDetectorClass"
   ]
  },
  {
   "cell_type": "code",
   "execution_count": 6,
   "metadata": {},
   "outputs": [],
   "source": [
    "from scipy import stats"
   ]
  },
  {
   "cell_type": "code",
   "execution_count": 7,
   "metadata": {},
   "outputs": [
    {
     "name": "stdout",
     "output_type": "stream",
     "text": [
      "Creating RawArray with float64 data, n_channels=1, n_times=28799616\n",
      "    Range : 0 ... 28799615 =      0.000 ... 28799.615 secs\n",
      "Ready.\n"
     ]
    }
   ],
   "source": [
    "# FILEPATH: signal\n",
    "filepath = '/home/lfa-01/Documentos/Data_NgoStaresina_eLife2020_OSF/Raw data/EEGs/pat14_HIPP.mat'\n",
    "mat_data = hdf5storage.loadmat(filepath)\n",
    "\n",
    "# Now you can work with the loaded data\n",
    "times = mat_data['time'][0][0][0]\n",
    "fsample = mat_data['fsample'][0][0]\n",
    "ch_label = str(mat_data['label'][0][0][0])\n",
    "cant_chan = len([ch_label])\n",
    "ieee_signal = mat_data['trial'][0][0][0]\n",
    "ieee_signal = np.reshape(ieee_signal, (cant_chan, len(ieee_signal)))\n",
    "\n",
    "# Convert the loaded data to a MNE-Python object\n",
    "mne_data = mne.io.RawArray(ieee_signal, info=mne.create_info(ch_names=[ch_label], sfreq=fsample, ch_types=['seeg']*cant_chan))\n"
   ]
  },
  {
   "cell_type": "code",
   "execution_count": 9,
   "metadata": {},
   "outputs": [],
   "source": [
    "# FILEPATH: events info\n",
    "filepath_evt = '/home/lfa-01/Documentos/Data_NgoStaresina_eLife2020_OSF/Raw data/Ripples/pat14_HIPP_ripples.mat'\n",
    "mat_evt_info = hdf5storage.loadmat(filepath_evt)"
   ]
  },
  {
   "cell_type": "code",
   "execution_count": 10,
   "metadata": {},
   "outputs": [
    {
     "name": "stdout",
     "output_type": "stream",
     "text": [
      "dict_keys(['EvtInfo', 'EvtSummary', 'EvtThres', 'artifactPadding', 'bpfreq', 'center', 'criterionCenter', 'criterionLen', 'criterionPadding', 'criterionScale', 'criterionVar', 'detectCh', 'doubleThres', 'envelopeType', 'envelopeWin', 'filtType', 'findEvtFree', 'mergeEvts', 'minCycles', 'minCyclesNum', 'rejects', 'searchIndivEvtPeak', 'slStages', 'smoothEnv', 'smoothEnvWin', 'thresCh', 'thresType', 'upperCutoff', 'upperCutoffThres', 'variance', 'zscore'])\n",
      "<class 'numpy.ndarray'>\n",
      "(1,)\n",
      "[3.8320000e+03 7.0520000e+03 2.8194000e+04 3.2839000e+04 3.3894000e+04\n",
      " 5.8330000e+04 7.4028000e+04 9.2741000e+04 1.0388700e+05 1.0404900e+05\n",
      " 1.0712700e+05 1.1698700e+05 1.2361200e+05 1.5897800e+05 1.6360300e+05\n",
      " 1.6534100e+05 1.6857800e+05 1.7896700e+05 1.8709200e+05 2.1130700e+05\n",
      " 2.1454400e+05 2.2140900e+05 2.2291300e+05 2.2817100e+05 2.2879000e+05\n",
      " 2.2962000e+05 2.3947300e+05 2.4529500e+05 2.5454700e+05 2.6366700e+05\n",
      " 3.2586900e+05 3.2888900e+05 3.2909400e+05 3.5453200e+05 3.5705500e+05\n",
      " 3.6609700e+05 3.8209500e+05 3.9129800e+05 3.9487900e+05 3.9878400e+05\n",
      " 4.2157800e+05 4.5651900e+05 4.5891300e+05 4.6825900e+05 4.7368700e+05\n",
      " 4.8344600e+05 4.9354700e+05 5.0864600e+05 5.3684800e+05 5.8929400e+05\n",
      " 6.0055100e+05 6.0123300e+05 6.1277000e+05 7.0812500e+05 7.6334800e+05\n",
      " 8.3271400e+05 8.6858300e+05 8.9890500e+05 1.0215680e+06 1.0241000e+06\n",
      " 1.0263150e+06 1.0300430e+06 1.0353270e+06 1.0367620e+06 1.0384870e+06\n",
      " 1.0620760e+06 1.0686720e+06 1.0944490e+06 1.0962370e+06 1.0991610e+06\n",
      " 1.1085470e+06 1.1269370e+06 1.1365670e+06 1.1367750e+06 1.1413090e+06\n",
      " 1.1423510e+06 1.1513210e+06 1.1537440e+06 1.1552020e+06 1.1896410e+06\n",
      " 1.1924600e+06 1.1989200e+06 1.2421050e+06 1.3635230e+06 1.4009310e+06\n",
      " 1.4778080e+06 1.6738740e+06 1.7194770e+06 1.7240580e+06 1.7518900e+06\n",
      " 1.7540970e+06 1.7589670e+06 1.8084750e+06 1.8118570e+06 1.8265090e+06\n",
      " 1.8295920e+06 1.8307910e+06 1.8400770e+06 1.8431860e+06 1.8559880e+06\n",
      " 1.8784630e+06 1.8850410e+06 1.9958090e+06 2.0674570e+06 2.1023560e+06\n",
      " 2.1124240e+06 2.1366860e+06 2.1448600e+06 2.1492990e+06 2.2517810e+06\n",
      " 2.4850200e+06 2.4882030e+06 2.4987390e+06 2.5057590e+06 2.5074110e+06\n",
      " 2.5369440e+06 2.5389600e+06 2.5406030e+06 2.5434830e+06 2.5556970e+06\n",
      " 2.5600340e+06 2.5622760e+06 2.5664770e+06 2.5684340e+06 2.5855640e+06\n",
      " 2.5862790e+06 2.5875670e+06 2.5930720e+06 2.6002680e+06 2.6083070e+06\n",
      " 2.6586410e+06 2.6620960e+06 2.6663160e+06 2.6683560e+06 2.6815410e+06\n",
      " 2.6865400e+06 2.7351070e+06 2.7420110e+06 2.7442000e+06 2.7453100e+06\n",
      " 2.7511150e+06 2.7662800e+06 2.7696060e+06 2.7880920e+06 2.7920960e+06\n",
      " 2.8280860e+06 2.8479970e+06 2.8535000e+06 2.8675030e+06 2.8676570e+06\n",
      " 2.8681470e+06 2.8740390e+06 2.8787890e+06 2.8861670e+06 3.0243840e+06\n",
      " 3.0269250e+06 3.0290540e+06 3.0294930e+06 3.0386340e+06 3.0394570e+06\n",
      " 3.0536740e+06 3.0740000e+06 3.0809750e+06 3.0965440e+06 3.1154750e+06\n",
      " 3.1255840e+06 3.1407080e+06 3.1566630e+06 3.3216080e+06 3.3222700e+06\n",
      " 3.3248580e+06 3.3275960e+06 3.3307330e+06 3.3561210e+06 3.3569950e+06\n",
      " 3.3573750e+06 3.4014440e+06 3.4017930e+06 3.4057930e+06 3.4221590e+06\n",
      " 3.4331090e+06 3.4368220e+06 3.4473370e+06 3.4516590e+06 3.4540400e+06\n",
      " 3.4932340e+06 3.5188810e+06 3.5463000e+06 3.5481800e+06 3.5617790e+06\n",
      " 3.5626910e+06 3.5769540e+06 3.5795970e+06 3.6204220e+06 3.6476580e+06\n",
      " 3.7024690e+06 3.7037130e+06 3.7069970e+06 3.7203920e+06 3.7253400e+06\n",
      " 3.7410470e+06 3.7495410e+06 3.7644010e+06 3.7962280e+06 3.8195500e+06\n",
      " 3.8292620e+06 3.8576620e+06 3.8605840e+06 3.8613260e+06 3.8699270e+06\n",
      " 3.9064690e+06 3.9246120e+06 3.9324330e+06 3.9333420e+06 3.9483250e+06\n",
      " 3.9726820e+06 3.9752550e+06 4.0003480e+06 4.0010500e+06 4.0017430e+06\n",
      " 4.0042060e+06 4.0762450e+06 4.0796040e+06 4.2288040e+06 4.2562100e+06\n",
      " 4.2581220e+06 4.2619640e+06 4.2636610e+06 4.2712500e+06 4.2932160e+06\n",
      " 4.3255640e+06 4.3270050e+06 4.3316720e+06 4.3359530e+06 4.3403500e+06\n",
      " 4.3423140e+06 4.3426030e+06 4.3431610e+06 4.3509470e+06 4.3638840e+06\n",
      " 4.3688320e+06 4.3702810e+06 4.3744440e+06 4.3764000e+06 4.4181120e+06\n",
      " 4.4245290e+06 4.4272720e+06 4.4281130e+06 4.4327450e+06 4.4462250e+06\n",
      " 4.4570560e+06 4.5853800e+06 4.5875510e+06 4.5902740e+06 4.5931460e+06\n",
      " 4.5994060e+06 4.6149580e+06 4.6366690e+06 4.6489780e+06 4.6529010e+06\n",
      " 4.6642290e+06 4.6670950e+06 4.6816710e+06 4.6885290e+06 4.7190580e+06\n",
      " 4.7283280e+06 4.7290220e+06 4.7336330e+06 4.7455860e+06 4.7659960e+06\n",
      " 4.7736440e+06 4.7812520e+06 4.8327930e+06 4.8365520e+06 4.8388860e+06\n",
      " 4.8453360e+06 4.8469600e+06 4.8585260e+06 4.8636780e+06 4.9065340e+06\n",
      " 4.9096230e+06 4.9330490e+06 4.9340560e+06 4.9545780e+06 4.9657330e+06\n",
      " 4.9878320e+06 5.0155790e+06 5.0184740e+06 5.0288240e+06 5.0347240e+06\n",
      " 5.0447120e+06 5.0535450e+06 5.0802620e+06 5.0902430e+06 5.0986520e+06\n",
      " 5.1117250e+06 5.1125100e+06 5.1248450e+06 5.1649700e+06 5.1790900e+06\n",
      " 5.1898090e+06 5.2354220e+06 5.2757540e+06 5.2820380e+06 5.2858040e+06\n",
      " 5.2898680e+06 5.3213270e+06 5.3222380e+06 5.3408780e+06 5.3903190e+06\n",
      " 5.3950340e+06 5.4060120e+06 5.4241750e+06 5.4298950e+06 5.4626250e+06\n",
      " 5.4665060e+06 5.4911210e+06 5.4930210e+06 5.5136040e+06 5.5302810e+06\n",
      " 5.5649640e+06 5.5773820e+06 5.5937510e+06 5.6000470e+06 5.6137800e+06\n",
      " 5.6165330e+06 5.6332050e+06 5.6428900e+06 5.6479690e+06 5.6623810e+06\n",
      " 5.6869660e+06 5.6896440e+06 5.7451970e+06 5.7505760e+06 5.7615550e+06\n",
      " 5.8097010e+06 5.8362250e+06 5.8543250e+06 5.8971800e+06 5.9185750e+06\n",
      " 5.9774750e+06 5.9800110e+06 6.0158680e+06 6.0166330e+06 6.0440270e+06\n",
      " 6.0647760e+06 6.0650660e+06 6.1083410e+06 6.1452900e+06 6.1540870e+06\n",
      " 6.1826380e+06 6.1914560e+06 6.1946640e+06 6.2208220e+06 6.2369580e+06\n",
      " 6.2405430e+06 6.2664600e+06 6.3109430e+06 6.3137840e+06 6.3246850e+06\n",
      " 6.3252520e+06 6.3421450e+06 6.3434460e+06 6.3979840e+06 6.4155100e+06\n",
      " 6.4165380e+06 6.4761340e+06 6.4814110e+06 6.4953700e+06 6.4976330e+06\n",
      " 6.5214050e+06 6.5325090e+06 6.5337290e+06 6.5625910e+06 6.5650290e+06\n",
      " 6.5822200e+06 6.6006860e+06 6.6447890e+06 6.6574040e+06 6.6883150e+06\n",
      " 6.7140620e+06 6.7191630e+06 6.7739690e+06 6.8197990e+06 6.8261440e+06\n",
      " 6.8470480e+06 6.9027810e+06 6.9035360e+06 6.9658990e+06 6.9783430e+06\n",
      " 6.9894760e+06 7.0382300e+06 7.0408220e+06 7.0702890e+06 7.5905700e+06\n",
      " 7.6097440e+06 7.6676170e+06 7.7031100e+06 1.0022316e+07 1.0023984e+07\n",
      " 1.0073860e+07 1.0088279e+07 1.0134225e+07 1.0135126e+07 1.0166210e+07\n",
      " 1.0177781e+07 1.0179791e+07 1.0182738e+07 1.0188519e+07 1.0192962e+07\n",
      " 1.0204804e+07 1.0221365e+07 1.0222928e+07 1.0223391e+07 1.0234943e+07\n",
      " 1.0242474e+07 1.0340338e+07 1.0341646e+07 1.0346605e+07 1.0353225e+07\n",
      " 1.0357600e+07 1.0359664e+07 1.0385869e+07 1.0440984e+07 1.0462106e+07\n",
      " 1.0471007e+07 1.0536820e+07 1.0551377e+07 1.0560130e+07 1.0567471e+07\n",
      " 1.0631220e+07 1.0677515e+07 1.0678023e+07 1.0745129e+07 1.0748301e+07\n",
      " 1.0750874e+07 1.0772153e+07 1.0803049e+07 1.0812183e+07 1.0818479e+07\n",
      " 1.0842066e+07 1.0865303e+07 1.0872366e+07 1.0892150e+07 1.0927405e+07\n",
      " 1.0961260e+07 1.0996132e+07 1.1077818e+07 1.1152397e+07 1.1192137e+07\n",
      " 1.1200181e+07 1.1240390e+07 1.1268718e+07 1.1297625e+07 1.1314062e+07\n",
      " 1.1316932e+07 1.1318262e+07 1.1320937e+07 1.1339772e+07 1.1345885e+07\n",
      " 1.1357499e+07 1.1358133e+07 1.1359604e+07 1.1375535e+07 1.1451975e+07\n",
      " 1.1499902e+07 1.1686375e+07 1.1719277e+07 1.1767646e+07 1.1794031e+07\n",
      " 1.1860867e+07 1.1888669e+07 1.1919018e+07 1.1980360e+07 1.1980575e+07\n",
      " 1.2006202e+07 1.2030120e+07 1.2032104e+07 1.2035829e+07 1.2154619e+07\n",
      " 1.2189832e+07 1.2245749e+07 1.2272407e+07 1.2276054e+07 1.2279397e+07\n",
      " 1.2280615e+07 1.2291451e+07 1.2294572e+07 1.2311553e+07 1.2326945e+07\n",
      " 1.2389886e+07 1.2394925e+07 1.2397810e+07 1.2399655e+07 1.2401813e+07\n",
      " 1.2422651e+07 1.2424088e+07 1.2462685e+07 1.2465507e+07 1.2532340e+07\n",
      " 1.2535793e+07 1.2537231e+07 1.2537477e+07 1.2591127e+07 1.2591774e+07\n",
      " 1.2612257e+07 1.2615019e+07 1.2620066e+07 1.2633130e+07 1.2636393e+07\n",
      " 1.2636610e+07 1.2640275e+07 1.2685143e+07 1.2688807e+07 1.2710087e+07\n",
      " 1.2710329e+07 1.2712591e+07 1.2715387e+07 1.2775376e+07 1.2784215e+07\n",
      " 1.2804342e+07 1.2826618e+07 1.2851881e+07 1.2880678e+07 1.2899839e+07\n",
      " 1.2903382e+07 1.3106346e+07 1.3164008e+07 1.3215255e+07 1.3267848e+07\n",
      " 1.3270394e+07 1.3343325e+07 1.3351746e+07 1.3379596e+07 1.3447541e+07\n",
      " 1.3471232e+07 1.3482599e+07 1.3532673e+07 1.3536472e+07 1.3542600e+07\n",
      " 1.3598637e+07 1.3599388e+07 1.3660519e+07 1.3664448e+07 1.3687552e+07\n",
      " 1.3767575e+07 1.3770081e+07 1.3877602e+07 1.3903532e+07 1.3905008e+07\n",
      " 1.3918070e+07 1.3971180e+07 1.4138736e+07 1.4297779e+07 1.4313077e+07\n",
      " 1.4334247e+07 1.4335475e+07 1.4454586e+07 1.4475871e+07 1.4509482e+07\n",
      " 1.4627075e+07 1.4644263e+07 1.4680826e+07 1.4717373e+07 1.4721724e+07\n",
      " 1.5712937e+07 1.5725856e+07 1.6952213e+07 1.6986229e+07 1.6999544e+07\n",
      " 1.7031791e+07 1.7061899e+07 1.7162156e+07 1.7172801e+07 1.7247114e+07\n",
      " 1.7297519e+07 1.7302691e+07 1.7364042e+07 1.7386012e+07 1.7428787e+07\n",
      " 1.7464593e+07 1.7525873e+07 1.7568403e+07 1.7595848e+07 1.7629441e+07\n",
      " 1.7640040e+07 1.7653238e+07 1.7694102e+07 1.7770318e+07 1.7774117e+07\n",
      " 1.7782759e+07 1.7787617e+07 1.7790165e+07 1.7796040e+07 1.7809637e+07\n",
      " 1.7817753e+07 1.7866048e+07 1.7876920e+07 1.7891496e+07 1.7896391e+07\n",
      " 1.7964472e+07 1.7970374e+07 1.8061396e+07 1.8064553e+07 1.8089503e+07\n",
      " 1.8109191e+07 1.8109630e+07 1.8117092e+07 1.8122915e+07 1.8135089e+07\n",
      " 1.8135479e+07 1.8159356e+07 1.8190895e+07 1.8232621e+07 1.8238018e+07\n",
      " 1.8284043e+07 1.8318926e+07 1.8327170e+07 1.8336966e+07 1.8343642e+07\n",
      " 1.8383953e+07 1.8408918e+07 1.8430819e+07 1.8499713e+07 1.8512105e+07\n",
      " 1.8514196e+07 1.8535484e+07 1.8548334e+07 1.8600009e+07 1.8630353e+07\n",
      " 1.8636785e+07 1.8656532e+07 1.8664196e+07 1.8680951e+07 1.8692538e+07\n",
      " 1.8729693e+07 1.8768048e+07 1.8770054e+07 1.8786564e+07 1.8836517e+07\n",
      " 1.8838934e+07 1.8839782e+07 1.8842823e+07 1.9558293e+07 1.9558517e+07\n",
      " 1.9561402e+07 1.9562551e+07 1.9575637e+07 1.9589824e+07 1.9592096e+07\n",
      " 1.9594045e+07 1.9627874e+07 2.0161455e+07 2.0187453e+07 2.0221522e+07\n",
      " 2.0245665e+07 2.0247790e+07 2.0263556e+07 2.0264250e+07 2.0275499e+07\n",
      " 2.0311007e+07 2.0323576e+07 2.0339620e+07 2.0376461e+07 2.0379220e+07\n",
      " 2.0386640e+07 2.0426706e+07 2.0479549e+07 2.0512193e+07 2.0523325e+07\n",
      " 2.0549118e+07 2.0569081e+07 2.0571399e+07 2.0637040e+07 2.0673694e+07\n",
      " 2.0710057e+07 2.0710511e+07 2.0717794e+07 2.0718987e+07 2.0734720e+07\n",
      " 2.0754503e+07 2.0757280e+07 2.0758928e+07 2.0804109e+07 2.0814262e+07\n",
      " 2.0815572e+07 2.0825304e+07 2.0848913e+07 2.0871371e+07 2.0881053e+07\n",
      " 2.0890156e+07 2.0923485e+07 2.1071695e+07 2.1075853e+07 2.1079648e+07\n",
      " 2.1091405e+07 2.1100572e+07 2.1130316e+07 2.1132073e+07 2.1170312e+07\n",
      " 2.1171632e+07 2.3007204e+07 2.3009398e+07 2.3036330e+07 2.3091963e+07\n",
      " 2.3110881e+07 2.3130262e+07 2.3138253e+07 2.3139592e+07 2.3164580e+07\n",
      " 2.3170458e+07 2.3171061e+07 2.3191876e+07 2.3206751e+07 2.3215142e+07\n",
      " 2.3219189e+07 2.3252776e+07 2.3255510e+07 2.3289021e+07 2.3295788e+07\n",
      " 2.3304525e+07 2.3305945e+07 2.3341324e+07 2.3347697e+07 2.3376567e+07\n",
      " 2.3385147e+07 2.3405649e+07 2.3409483e+07 2.3415286e+07 2.3415640e+07\n",
      " 2.3418349e+07 2.3420960e+07 2.3430202e+07 2.3437369e+07 2.3463346e+07\n",
      " 2.3463601e+07 2.3465391e+07 2.3492828e+07 2.3494713e+07 2.3499904e+07\n",
      " 2.3516505e+07 2.3534190e+07 2.3556403e+07 2.3574508e+07 2.3575508e+07\n",
      " 2.3582393e+07 2.3589861e+07 2.3599652e+07 2.3599729e+07 2.3601482e+07\n",
      " 2.3610905e+07 2.3625207e+07 2.3638928e+07 2.3642539e+07 2.3649059e+07\n",
      " 2.3651467e+07 2.3664820e+07 2.3667656e+07 2.3696081e+07 2.3705123e+07\n",
      " 2.3732315e+07 2.3741704e+07 2.3741793e+07 2.3765272e+07 2.3765419e+07\n",
      " 2.3766733e+07 2.3775876e+07 2.3776374e+07 2.3781437e+07 2.3781486e+07\n",
      " 2.3799306e+07 2.3810325e+07 2.3835361e+07 2.3838687e+07 2.3851492e+07\n",
      " 2.3856130e+07 2.3859193e+07 2.3860368e+07 2.3888899e+07 2.3898576e+07\n",
      " 2.3903010e+07 2.3908759e+07 2.3929298e+07 2.3940482e+07 2.3953918e+07\n",
      " 2.3956102e+07 2.3956494e+07 2.3957515e+07 2.3968519e+07 2.4003415e+07\n",
      " 2.4004706e+07 2.4024646e+07 2.4039520e+07 2.4041232e+07 2.4057513e+07\n",
      " 2.4127157e+07 2.4147079e+07 2.4199401e+07 2.4204235e+07 2.4270198e+07\n",
      " 2.4281320e+07 2.4301172e+07 2.4305960e+07 2.4315272e+07 2.4361714e+07\n",
      " 2.4365063e+07 2.4370633e+07 2.4390897e+07 2.4411971e+07 2.4428719e+07\n",
      " 2.4429577e+07 2.4469594e+07 2.4479542e+07 2.4533357e+07 2.4545707e+07\n",
      " 2.4555018e+07 2.4720402e+07 2.4726461e+07 2.4750671e+07 2.4752586e+07\n",
      " 2.4753052e+07 2.4781392e+07 2.4798843e+07 2.4817214e+07 2.4817354e+07\n",
      " 2.4825319e+07 2.4841439e+07 2.4843231e+07 2.4851801e+07 2.4874482e+07\n",
      " 2.4896584e+07 2.4924275e+07 2.4929655e+07 2.4934248e+07 2.4937196e+07\n",
      " 2.4960693e+07 2.4967452e+07 2.4969933e+07 2.5009820e+07 2.5035672e+07\n",
      " 2.5038158e+07 2.5039193e+07 2.5040342e+07 2.5044037e+07 2.5055182e+07\n",
      " 2.5063107e+07 2.5068071e+07 2.5080802e+07 2.5093215e+07 2.5095329e+07\n",
      " 2.5096262e+07 2.5096895e+07 2.5119572e+07 2.5122262e+07 2.5134859e+07\n",
      " 2.5135754e+07 2.5143393e+07 2.5150694e+07 2.5164071e+07 2.5169015e+07\n",
      " 2.5202930e+07 2.5218393e+07 2.5221572e+07 2.5221648e+07 2.5257215e+07\n",
      " 2.5259670e+07 2.5266138e+07 2.5304712e+07 2.5326391e+07 2.5330372e+07\n",
      " 2.5378355e+07 2.5384358e+07 2.5406224e+07 2.5439790e+07 2.5482760e+07\n",
      " 2.5484686e+07 2.5491982e+07 2.5523089e+07 2.5526863e+07 2.5542921e+07\n",
      " 2.5588110e+07 2.5589438e+07 2.5631367e+07 2.5636478e+07 2.5651146e+07\n",
      " 2.5651205e+07 2.5694233e+07 2.5714500e+07 2.5741452e+07 2.5750018e+07\n",
      " 2.5762618e+07 2.5767948e+07 2.5799549e+07 2.5820536e+07 2.5821548e+07\n",
      " 2.5992649e+07 2.6023475e+07 2.6024178e+07 2.6056632e+07 2.6185150e+07\n",
      " 2.6208895e+07 2.6237488e+07 2.6282116e+07 2.6297068e+07 2.6509902e+07\n",
      " 2.6527996e+07 2.6532035e+07 2.6553299e+07 2.6559866e+07 2.6573142e+07\n",
      " 2.6573370e+07 2.6573609e+07 2.6574717e+07 2.6588705e+07 2.6590685e+07\n",
      " 2.6607401e+07 2.6607821e+07 2.6632813e+07 2.6643143e+07 2.6646912e+07\n",
      " 2.6787433e+07 2.6804385e+07 2.6805276e+07 2.6829557e+07 2.6830967e+07\n",
      " 2.6916204e+07 2.6979950e+07 2.6987340e+07 2.6990400e+07 2.7010627e+07\n",
      " 2.7011328e+07 2.7039559e+07 2.7074173e+07 2.7078440e+07 2.7078988e+07\n",
      " 2.7079477e+07 2.7105165e+07 2.7135802e+07 2.7135888e+07]\n",
      "939\n"
     ]
    }
   ],
   "source": [
    "keys = mat_evt_info.keys()\n",
    "print(keys)\n",
    "\n",
    "print(type(mat_evt_info['EvtInfo']))\n",
    "print(mat_evt_info['EvtInfo'].shape)\n",
    "print(mat_evt_info['EvtInfo'][0][3][0])\n",
    "print(len(mat_evt_info['EvtInfo'][0][3][0]))"
   ]
  },
  {
   "cell_type": "code",
   "execution_count": 11,
   "metadata": {},
   "outputs": [
    {
     "name": "stdout",
     "output_type": "stream",
     "text": [
      "<Info | 7 non-empty values\n",
      " bads: []\n",
      " ch_names: ['HIPP']\n",
      " chs: 1 sEEG\n",
      " custom_ref_applied: False\n",
      " highpass: 0.0 Hz\n",
      " lowpass: 500.0 Hz\n",
      " meas_date: unspecified\n",
      " nchan: 1\n",
      " projs: []\n",
      " sfreq: 1000.0 Hz\n",
      ">\n"
     ]
    }
   ],
   "source": [
    "print(mne_data.info)"
   ]
  },
  {
   "cell_type": "code",
   "execution_count": 12,
   "metadata": {},
   "outputs": [
    {
     "name": "stdout",
     "output_type": "stream",
     "text": [
      "[[    3832        0        1]\n",
      " [    7052        0        1]\n",
      " [   28194        0        1]\n",
      " ...\n",
      " [27105165        0        1]\n",
      " [27135802        0        1]\n",
      " [27135888        0        1]]\n"
     ]
    }
   ],
   "source": [
    "orig_ripples_detect = mat_evt_info['EvtInfo'][0][3][0] # del struct EvtInfo, el tercer vector es el punto medio de los ripples identificados\n",
    "events_array_orig = np.column_stack( (orig_ripples_detect, np.zeros(len(orig_ripples_detect)), np.ones(len(orig_ripples_detect))))\n",
    "\n",
    "events_array_orig = events_array_orig.astype(int)\n",
    "print(events_array_orig)\n",
    "\n",
    "events_id_orig = {'putative_ripple_Ngo': 1}\n",
    "event_color_orig = {'putative_ripple_Ngo': 'm'}"
   ]
  },
  {
   "cell_type": "code",
   "execution_count": 13,
   "metadata": {},
   "outputs": [
    {
     "name": "stdout",
     "output_type": "stream",
     "text": [
      "Using qt as 2D backend.\n",
      "Channels marked as bad:\n",
      "none\n"
     ]
    },
    {
     "data": {
      "text/plain": [
       "<mne_qt_browser._pg_figure.MNEQtBrowser at 0x7f7947a8c9d0>"
      ]
     },
     "execution_count": 13,
     "metadata": {},
     "output_type": "execute_result"
    }
   ],
   "source": [
    "seeg_channels = mne.pick_types(mne_data.info, seeg=True)\n",
    "mne_data.plot(duration=30, order=seeg_channels, n_channels=len(seeg_channels),\n",
    "         remove_dc=False, scalings = 'auto', block=True, color=dict(seeg='b'),\n",
    "         events=events_array_orig, event_id=events_id_orig, event_color=event_color_orig)"
   ]
  },
  {
   "cell_type": "code",
   "execution_count": 14,
   "metadata": {},
   "outputs": [
    {
     "name": "stdout",
     "output_type": "stream",
     "text": [
      "Not setting metadata\n",
      "939 matching events found\n",
      "Setting baseline interval to [-0.5, 0.0] s\n",
      "Applying baseline correction (mode: mean)\n",
      "0 projection items activated\n",
      "Using data from preloaded Raw for 939 events and 1001 original time points ...\n",
      "0 bad epochs dropped\n",
      "Not setting metadata\n",
      "939 matching events found\n",
      "No baseline correction applied\n",
      "0 projection items activated\n"
     ]
    },
    {
     "name": "stderr",
     "output_type": "stream",
     "text": [
      "/tmp/ipykernel_146655/3756777855.py:2: RuntimeWarning: Only one channel in group \"seeg\"; cannot combine by method \"mean\".\n",
      "  epochs.plot_image(combine=\"mean\")\n"
     ]
    },
    {
     "name": "stdout",
     "output_type": "stream",
     "text": [
      "combining channels using \"mean\"\n"
     ]
    },
    {
     "name": "stderr",
     "output_type": "stream",
     "text": [
      "/tmp/ipykernel_146655/3756777855.py:2: RuntimeWarning: Only 1 channel in \"picks\"; cannot combine by method \"mean\".\n",
      "  epochs.plot_image(combine=\"mean\")\n"
     ]
    },
    {
     "data": {
      "text/plain": [
       "[<Figure size 640x480 with 3 Axes>]"
      ]
     },
     "execution_count": 14,
     "metadata": {},
     "output_type": "execute_result"
    }
   ],
   "source": [
    "epochs = mne.Epochs(mne_data, events_array_orig, tmin=-0.5, tmax=0.5, event_id=events_id_orig, preload=True)\n",
    "epochs.plot_image(combine=\"mean\")"
   ]
  },
  {
   "cell_type": "code",
   "execution_count": 15,
   "metadata": {},
   "outputs": [
    {
     "name": "stdout",
     "output_type": "stream",
     "text": [
      "Not setting metadata\n"
     ]
    }
   ],
   "source": [
    "min_freq = 65\n",
    "max_freq = 135\n",
    "freqs = np.arange(min_freq, max_freq+2, 2)  # \n",
    "n_cycles = freqs/500\n",
    "t_win = n_cycles / freqs\n",
    "\n",
    "power = mne.time_frequency.tfr_multitaper(\n",
    "    epochs,\n",
    "    freqs = freqs,\n",
    "    n_cycles = freqs,\n",
    "    use_fft = True,\n",
    "    return_itc = False,\n",
    "    average = False,\n",
    "    decim = 2,\n",
    ")"
   ]
  },
  {
   "cell_type": "code",
   "execution_count": 16,
   "metadata": {},
   "outputs": [
    {
     "name": "stdout",
     "output_type": "stream",
     "text": [
      "Applying baseline correction (mode: zscore)\n",
      "NOTE: pick_channels() is a legacy function. New code should use inst.pick(...).\n",
      "No baseline correction applied\n"
     ]
    },
    {
     "data": {
      "text/plain": [
       "[<Figure size 640x480 with 2 Axes>]"
      ]
     },
     "execution_count": 16,
     "metadata": {},
     "output_type": "execute_result"
    }
   ],
   "source": [
    "#power['putative_ripple'].average().plot()\n",
    "power.apply_baseline(baseline=(-0.5, -0.2), mode=\"zscore\").average().plot()"
   ]
  },
  {
   "cell_type": "code",
   "execution_count": 17,
   "metadata": {},
   "outputs": [],
   "source": [
    "freqs = np.logspace(*np.log10([60, 160]), num=30)\n",
    "n_cycles = freqs / 2.0  # different number of cycle per frequency\n",
    "power, itc = mne.time_frequency.tfr_morlet(\n",
    "    epochs,\n",
    "    freqs=freqs,\n",
    "    n_cycles=n_cycles,\n",
    "    use_fft=True,\n",
    "    return_itc=True,\n",
    "    decim=3,\n",
    "    n_jobs=None,\n",
    ")"
   ]
  },
  {
   "cell_type": "code",
   "execution_count": 18,
   "metadata": {},
   "outputs": [
    {
     "name": "stdout",
     "output_type": "stream",
     "text": [
      "NOTE: pick_channels() is a legacy function. New code should use inst.pick(...).\n",
      "Applying baseline correction (mode: logratio)\n"
     ]
    },
    {
     "data": {
      "text/plain": [
       "[<Figure size 640x480 with 2 Axes>]"
      ]
     },
     "execution_count": 18,
     "metadata": {},
     "output_type": "execute_result"
    }
   ],
   "source": [
    "power.plot(baseline=(-0.7, -0.2), mode=\"logratio\")"
   ]
  },
  {
   "cell_type": "code",
   "execution_count": 23,
   "metadata": {},
   "outputs": [
    {
     "data": {
      "text/plain": [
       "<module 'SpikeWaveDetectorClass' from '/home/lfa-01/Documentos/RepositoriosGit/ripple_IIS_detection/source/SpikeWaveDetectorClass.py'>"
      ]
     },
     "execution_count": 23,
     "metadata": {},
     "output_type": "execute_result"
    }
   ],
   "source": [
    "importlib.reload(SpikeWaveDetectorClass)"
   ]
  },
  {
   "cell_type": "code",
   "execution_count": 16,
   "metadata": {},
   "outputs": [
    {
     "data": {
      "text/plain": [
       "(1, 28799616)"
      ]
     },
     "execution_count": 16,
     "metadata": {},
     "output_type": "execute_result"
    }
   ],
   "source": [
    "ieee_signal.shape"
   ]
  },
  {
   "cell_type": "code",
   "execution_count": 19,
   "metadata": {},
   "outputs": [
    {
     "name": "stdout",
     "output_type": "stream",
     "text": [
      "[[ 1.43052334e-02 -5.01535413e-04 -3.57857506e-02 ...  1.57342652e+00\n",
      "   1.55924984e+00  1.55168891e+00]]\n",
      "0\n"
     ]
    }
   ],
   "source": [
    "zs_amp_all = stats.zscore(ieee_signal, axis=1) \n",
    "import matplotlib.pyplot as plt\n",
    "\n",
    "plt.figure(figsize=(10, 5))\n",
    "plt.plot(times, ieee_signal.T)\n",
    "plt.xlabel('Time')\n",
    "plt.ylabel('Ampl')\n",
    "plt.title('Signal')\n",
    "plt.show()\n",
    "\n",
    "# Plot zscore along time\n",
    "plt.figure(figsize=(10, 5))\n",
    "plt.plot(times, zs_amp_all.T)\n",
    "plt.xlabel('Time')\n",
    "plt.ylabel('Zscore')\n",
    "plt.title('Zscore along Time')\n",
    "plt.show()\n",
    "\n",
    "# Plot histogram\n",
    "plt.figure(figsize=(10, 5))\n",
    "plt.hist(zs_amp_all.flatten(), bins=50)\n",
    "plt.xlabel('Zscore')\n",
    "plt.ylabel('Frequency')\n",
    "plt.title('Histogram of Zscore')\n",
    "plt.show()\n",
    "\n",
    "print(zs_amp_all)\n",
    "print(np.count_nonzero(np.isnan(ieee_signal)))"
   ]
  },
  {
   "cell_type": "code",
   "execution_count": 29,
   "metadata": {},
   "outputs": [],
   "source": [
    "# Instantiate SpikeWaveDetectorClass\n",
    "IIS_det = SpikeWaveDetectorClass.SpikeWaveDetectorClass(int(fsample))"
   ]
  },
  {
   "cell_type": "code",
   "execution_count": 30,
   "metadata": {},
   "outputs": [],
   "source": [
    "#peak_time, passed_condition = IIS_det.detect_times(ieee_signal, True)\n",
    "peak_times, peak_stats = IIS_det.detect_times(ieee_signal, True)"
   ]
  },
  {
   "cell_type": "code",
   "execution_count": 31,
   "metadata": {},
   "outputs": [
    {
     "name": "stdout",
     "output_type": "stream",
     "text": [
      "dict_keys(['zscores_per_peaks_max', 'zscores_per_peaks_env', 'zscores_per_peaks_amp', 'zscores_per_peaks_grad', 'inds_per_peak', 'passed_conditions'])\n",
      "1283\n",
      "1283\n",
      "1283\n",
      "1283\n",
      "1283\n",
      "1283\n",
      "<class 'list'>\n",
      "<class 'list'>\n",
      "<class 'list'>\n",
      "<class 'list'>\n",
      "<class 'list'>\n",
      "<class 'list'>\n"
     ]
    }
   ],
   "source": [
    "keys = peak_stats.keys()\n",
    "print(keys)\n",
    "\n",
    "print(len(peak_stats['zscores_per_peaks_max']))\n",
    "print(len(peak_stats['zscores_per_peaks_env']))\n",
    "print(len(peak_stats['zscores_per_peaks_amp']))\n",
    "print(len(peak_stats['zscores_per_peaks_grad']))\n",
    "print(len(peak_stats['inds_per_peak']))\n",
    "print(len(peak_stats['passed_conditions']))\n",
    "\n",
    "print(type(peak_stats['zscores_per_peaks_max']))\n",
    "print(type(peak_stats['zscores_per_peaks_env']))\n",
    "print(type(peak_stats['zscores_per_peaks_amp']))\n",
    "print(type(peak_stats['zscores_per_peaks_grad']))\n",
    "print(type(peak_stats['inds_per_peak']))\n",
    "print(type(peak_stats['passed_conditions']))"
   ]
  },
  {
   "cell_type": "code",
   "execution_count": 23,
   "metadata": {},
   "outputs": [],
   "source": [
    "plot_z_scores = True\n",
    "IIS_det.plot_spike_waves(ieee_signal, peak_times, 1, peak_stats, plot_z_scores)  "
   ]
  },
  {
   "cell_type": "code",
   "execution_count": 32,
   "metadata": {},
   "outputs": [
    {
     "name": "stdout",
     "output_type": "stream",
     "text": [
      "dict_keys(['key1', 'key2', 'key3'])\n",
      "Key: key1, Value: value1\n",
      "Key: key2, Value: value2\n",
      "Key: key3, Value: {'nested_key1': 'nested_value1', 'nested_key2': 'nested_value2'}\n"
     ]
    },
    {
     "data": {
      "text/plain": [
       "dict"
      ]
     },
     "execution_count": 32,
     "metadata": {},
     "output_type": "execute_result"
    }
   ],
   "source": [
    "# Assume you have a dictionary called 'my_dict'\n",
    "my_dict = {'key1': 'value1', 'key2': 'value2', 'key3': {'nested_key1': 'nested_value1', 'nested_key2': 'nested_value2'}}\n",
    "\n",
    "# Get the keys of the dictionary\n",
    "keys = my_dict.keys()\n",
    "\n",
    "# Print the keys\n",
    "print(keys)\n",
    "\n",
    "# Access the values associated with each key\n",
    "for key in keys:\n",
    "    value = my_dict[key]\n",
    "    print(f\"Key: {key}, Value: {value}\")\n",
    "type(peak_stats)"
   ]
  },
  {
   "cell_type": "markdown",
   "metadata": {},
   "source": [
    "## Deteccion de Ripples"
   ]
  },
  {
   "cell_type": "code",
   "execution_count": 33,
   "metadata": {},
   "outputs": [
    {
     "data": {
      "text/plain": [
       "<module 'RippleDetectorClass' from '/home/lfa-01/Documentos/RepositoriosGit/ripple_IIS_detection/source/RippleDetectorClass.py'>"
      ]
     },
     "execution_count": 33,
     "metadata": {},
     "output_type": "execute_result"
    }
   ],
   "source": [
    "importlib.reload(RippleDetectorClass)"
   ]
  },
  {
   "cell_type": "code",
   "execution_count": 34,
   "metadata": {},
   "outputs": [],
   "source": [
    "# Instantiate RippleDetectorClass\n",
    "Ripp_det = RippleDetectorClass.RippleDetectorClass(int(fsample))"
   ]
  },
  {
   "cell_type": "code",
   "execution_count": 35,
   "metadata": {},
   "outputs": [],
   "source": [
    "ripple_times, ripple_start_end = Ripp_det.detect_ripple(ieee_signal, None, peak_times, None)"
   ]
  },
  {
   "cell_type": "code",
   "execution_count": 36,
   "metadata": {},
   "outputs": [
    {
     "data": {
      "text/plain": [
       "2397"
      ]
     },
     "execution_count": 36,
     "metadata": {},
     "output_type": "execute_result"
    }
   ],
   "source": [
    "len(ripple_times)"
   ]
  },
  {
   "cell_type": "code",
   "execution_count": 15,
   "metadata": {},
   "outputs": [],
   "source": [
    "Ripp_det.plot_ripples(ieee_signal, ripple_times, None)"
   ]
  },
  {
   "cell_type": "code",
   "execution_count": 37,
   "metadata": {},
   "outputs": [
    {
     "name": "stdout",
     "output_type": "stream",
     "text": [
      "[[     337        0        2]\n",
      " [   28198        0        2]\n",
      " [   32776        0        2]\n",
      " ...\n",
      " [28722897        0        3]\n",
      " [28725653        0        3]\n",
      " [28725845        0        3]]\n"
     ]
    }
   ],
   "source": [
    "events_array = np.column_stack((np.concatenate((ripple_times, peak_times)), np.zeros(len(ripple_times)+len(peak_times)), np.concatenate((2*np.ones(len(ripple_times)),3*np.ones(len(peak_times))))))\n",
    "#events_array = np.column_stack((ripple_times, np.zeros(len(ripple_times)), np.ones(len(ripple_times))))\n",
    "\n",
    "events_array = events_array.astype(int)\n",
    "print(events_array)"
   ]
  },
  {
   "cell_type": "code",
   "execution_count": 38,
   "metadata": {},
   "outputs": [
    {
     "name": "stdout",
     "output_type": "stream",
     "text": [
      "Creating RawArray with float64 data, n_channels=1, n_times=28799616\n",
      "    Range : 0 ... 28799615 =      0.000 ... 28799.615 secs\n",
      "Ready.\n"
     ]
    },
    {
     "data": {
      "text/html": [
       "<table class=\"table table-hover table-striped table-sm table-responsive small\">\n",
       "    <tr>\n",
       "        <th>Measurement date</th>\n",
       "        \n",
       "        <td>Unknown</td>\n",
       "        \n",
       "    </tr>\n",
       "    <tr>\n",
       "        <th>Experimenter</th>\n",
       "        \n",
       "        <td>Unknown</td>\n",
       "        \n",
       "    </tr>\n",
       "        <th>Participant</th>\n",
       "        \n",
       "        <td>Unknown</td>\n",
       "        \n",
       "    </tr>\n",
       "    <tr>\n",
       "        <th>Digitized points</th>\n",
       "        \n",
       "        <td>0 points</td>\n",
       "        \n",
       "    </tr>\n",
       "    <tr>\n",
       "        <th>Good channels</th>\n",
       "        <td>1 sEEG, 1 Stimulus</td>\n",
       "    </tr>\n",
       "    <tr>\n",
       "        <th>Bad channels</th>\n",
       "        <td>None</td>\n",
       "    </tr>\n",
       "    <tr>\n",
       "        <th>EOG channels</th>\n",
       "        <td>Not available</td>\n",
       "    </tr>\n",
       "    <tr>\n",
       "        <th>ECG channels</th>\n",
       "        <td>Not available</td>\n",
       "    \n",
       "    <tr>\n",
       "        <th>Sampling frequency</th>\n",
       "        <td>1000.00 Hz</td>\n",
       "    </tr>\n",
       "    \n",
       "    \n",
       "    <tr>\n",
       "        <th>Highpass</th>\n",
       "        <td>0.00 Hz</td>\n",
       "    </tr>\n",
       "    \n",
       "    \n",
       "    <tr>\n",
       "        <th>Lowpass</th>\n",
       "        <td>500.00 Hz</td>\n",
       "    </tr>\n",
       "    \n",
       "    \n",
       "    \n",
       "    <tr>\n",
       "        <th>Duration</th>\n",
       "        <td>07:59:60 (HH:MM:SS)</td>\n",
       "    </tr>\n",
       "</table>"
      ],
      "text/plain": [
       "<RawArray | 2 x 28799616 (28799.6 s), ~439.5 MB, data loaded>"
      ]
     },
     "execution_count": 38,
     "metadata": {},
     "output_type": "execute_result"
    }
   ],
   "source": [
    "#Creacion de canal para incluir la informacion de eventos\n",
    "#Originalmente es una senal digital que se transforma a analogica para crear el dataset de mne\n",
    "stim_chann = np.zeros((1, len(ieee_signal[0])))\n",
    "info_stim = mne.create_info(['STIM'], mne_data.info['sfreq'], ['stim'])\n",
    "stim_raw = mne.io.RawArray(stim_chann, info_stim)\n",
    "mne_data.add_channels([stim_raw], force_update_info=True)"
   ]
  },
  {
   "cell_type": "code",
   "execution_count": 39,
   "metadata": {},
   "outputs": [],
   "source": [
    "# Se agrega la informacion de los eventos como canal STIM\n",
    "mne_data.add_events(events_array, stim_channel='STIM', replace=True)"
   ]
  },
  {
   "cell_type": "markdown",
   "metadata": {},
   "source": [
    "Se contatenan los eventos originales de Ngo con los eventos nuevo obtenidos por mi"
   ]
  },
  {
   "cell_type": "code",
   "execution_count": 40,
   "metadata": {},
   "outputs": [
    {
     "name": "stdout",
     "output_type": "stream",
     "text": [
      "[[    3832        0        1]\n",
      " [    7052        0        1]\n",
      " [   28194        0        1]\n",
      " ...\n",
      " [28722897        0        3]\n",
      " [28725653        0        3]\n",
      " [28725845        0        3]]\n"
     ]
    }
   ],
   "source": [
    "events_array_full = np.vstack((events_array_orig, events_array))\n",
    "print(events_array_full) "
   ]
  },
  {
   "cell_type": "code",
   "execution_count": 41,
   "metadata": {},
   "outputs": [],
   "source": [
    "events_id = {'putative_ripple_ngo': 1, 'putative_ripple': 2, 'putative_IIS': 3}\n",
    "event_color = {'putative_ripple_ngo': 'm', 'putative_ripple': 'r', 'putative_IIS': 'k'}\n",
    "\n",
    "#events_id = {'putative_ripple': 1, 'putative_IIS': 2}\n",
    "#event_color = {'putative_ripple': 'r', 'putative_IIS': 'k'}"
   ]
  },
  {
   "cell_type": "code",
   "execution_count": 44,
   "metadata": {},
   "outputs": [
    {
     "name": "stdout",
     "output_type": "stream",
     "text": [
      "Channels marked as bad:\n",
      "none\n"
     ]
    },
    {
     "data": {
      "text/plain": [
       "<mne_qt_browser._pg_figure.MNEQtBrowser at 0x7f7935176290>"
      ]
     },
     "execution_count": 44,
     "metadata": {},
     "output_type": "execute_result"
    }
   ],
   "source": [
    "#seeg_channels = mne.pick_types(mne_data.info, seeg=True)\n",
    "mne_data.plot(events=events_array_full, event_id=events_id, event_color=event_color, duration=10, order=seeg_channels, n_channels=len(seeg_channels),\n",
    "         remove_dc=False, scalings = 'auto', block=True, color=dict(seeg='b'))"
   ]
  },
  {
   "cell_type": "code",
   "execution_count": 43,
   "metadata": {},
   "outputs": [
    {
     "name": "stdout",
     "output_type": "stream",
     "text": [
      "(1, 28799616)\n"
     ]
    }
   ],
   "source": [
    "zs_amp_all = stats.zscore(ieee_signal, axis=1) \n",
    "print(zs_amp_all.shape)"
   ]
  },
  {
   "cell_type": "code",
   "execution_count": 33,
   "metadata": {},
   "outputs": [
    {
     "name": "stdout",
     "output_type": "stream",
     "text": [
      "(21600384,)\n",
      "(30000,)\n",
      "(30000,)\n",
      "(30000,)\n",
      "(30000,)\n",
      "(30000,)\n",
      "(30000,)\n",
      "(30000,)\n",
      "(30000,)\n",
      "(30000,)\n",
      "(30000,)\n",
      "(30000,)\n",
      "(30000,)\n",
      "(30000,)\n",
      "(30000,)\n",
      "(30000,)\n",
      "(30000,)\n",
      "(30000,)\n",
      "(30000,)\n",
      "(30000,)\n",
      "(30000,)\n",
      "(30000,)\n",
      "(30000,)\n",
      "(30000,)\n",
      "(30000,)\n",
      "(30000,)\n",
      "(30000,)\n",
      "(30000,)\n",
      "(30000,)\n",
      "(30000,)\n",
      "(30000,)\n",
      "(30000,)\n",
      "(30000,)\n",
      "(30000,)\n",
      "(30000,)\n",
      "(30000,)\n",
      "(30000,)\n",
      "(30000,)\n",
      "(30000,)\n",
      "(30000,)\n",
      "(30000,)\n",
      "(30000,)\n",
      "(30000,)\n",
      "(30000,)\n",
      "(30000,)\n",
      "(30000,)\n",
      "(30000,)\n",
      "(30000,)\n",
      "(30000,)\n",
      "(30000,)\n",
      "(30000,)\n",
      "(30000,)\n",
      "(30000,)\n",
      "(30000,)\n",
      "(30000,)\n",
      "(30000,)\n",
      "(30000,)\n",
      "(30000,)\n",
      "(30000,)\n",
      "(30000,)\n",
      "(30000,)\n",
      "(30000,)\n",
      "(30000,)\n",
      "(30000,)\n",
      "(30000,)\n",
      "(30000,)\n",
      "(30000,)\n",
      "(30000,)\n",
      "(30000,)\n",
      "(30000,)\n",
      "(30000,)\n",
      "(30000,)\n",
      "(30000,)\n",
      "(30000,)\n",
      "(30000,)\n",
      "(30000,)\n",
      "(30000,)\n",
      "(30000,)\n",
      "(30000,)\n",
      "(30000,)\n",
      "(30000,)\n",
      "(30000,)\n",
      "(30000,)\n",
      "(30000,)\n",
      "(30000,)\n",
      "(30000,)\n",
      "(30000,)\n",
      "(30000,)\n",
      "(30000,)\n",
      "(30000,)\n",
      "(30000,)\n",
      "(30000,)\n",
      "(30000,)\n",
      "(30000,)\n",
      "(30000,)\n",
      "(30000,)\n",
      "(30000,)\n",
      "(30000,)\n",
      "(30000,)\n",
      "(30000,)\n",
      "(30000,)\n",
      "(30000,)\n",
      "(30000,)\n",
      "(30000,)\n",
      "(30000,)\n",
      "(30000,)\n",
      "(30000,)\n",
      "(30000,)\n",
      "(30000,)\n",
      "(30000,)\n",
      "(30000,)\n",
      "(30000,)\n",
      "(30000,)\n",
      "(30000,)\n",
      "(30000,)\n",
      "(30000,)\n",
      "(30000,)\n",
      "(30000,)\n",
      "(30000,)\n",
      "(30000,)\n",
      "(30000,)\n",
      "(30000,)\n",
      "(30000,)\n",
      "(30000,)\n",
      "(30000,)\n",
      "(30000,)\n",
      "(30000,)\n",
      "(30000,)\n",
      "(30000,)\n",
      "(30000,)\n",
      "(30000,)\n",
      "(30000,)\n",
      "(30000,)\n",
      "(30000,)\n",
      "(30000,)\n",
      "(30000,)\n",
      "(30000,)\n",
      "(30000,)\n",
      "(30000,)\n",
      "(30000,)\n",
      "(30000,)\n",
      "(30000,)\n",
      "(30000,)\n",
      "(30000,)\n",
      "(30000,)\n",
      "(30000,)\n",
      "(30000,)\n",
      "(30000,)\n",
      "(30000,)\n",
      "(30000,)\n",
      "(30000,)\n",
      "(30000,)\n",
      "(30000,)\n",
      "(30000,)\n",
      "(30000,)\n",
      "(30000,)\n",
      "(30000,)\n",
      "(30000,)\n",
      "(30000,)\n",
      "(30000,)\n",
      "(30000,)\n",
      "(30000,)\n",
      "(30000,)\n",
      "(30000,)\n",
      "(30000,)\n",
      "(30000,)\n",
      "(30000,)\n",
      "(30000,)\n",
      "(30000,)\n",
      "(30000,)\n",
      "(30000,)\n",
      "(30000,)\n",
      "(30000,)\n",
      "(30000,)\n",
      "(30000,)\n",
      "(30000,)\n",
      "(30000,)\n",
      "(30000,)\n",
      "(30000,)\n",
      "(30000,)\n",
      "(30000,)\n",
      "(30000,)\n",
      "(30000,)\n",
      "(30000,)\n",
      "(30000,)\n",
      "(30000,)\n",
      "(30000,)\n",
      "(30000,)\n",
      "(30000,)\n",
      "(30000,)\n",
      "(30000,)\n",
      "(30000,)\n",
      "(30000,)\n",
      "(30000,)\n",
      "(30000,)\n",
      "(30000,)\n",
      "(30000,)\n",
      "(30000,)\n",
      "(30000,)\n",
      "(30000,)\n",
      "(30000,)\n",
      "(30000,)\n",
      "(30000,)\n",
      "(30000,)\n",
      "(30000,)\n",
      "(30000,)\n",
      "(30000,)\n",
      "(30000,)\n",
      "(30000,)\n",
      "(30000,)\n",
      "(30000,)\n",
      "(30000,)\n",
      "(30000,)\n",
      "(30000,)\n",
      "(30000,)\n",
      "(30000,)\n",
      "(30000,)\n",
      "(30000,)\n",
      "(30000,)\n",
      "(30000,)\n",
      "(30000,)\n",
      "(30000,)\n",
      "(30000,)\n",
      "(30000,)\n",
      "(30000,)\n",
      "(30000,)\n",
      "(30000,)\n",
      "(30000,)\n",
      "(30000,)\n",
      "(30000,)\n",
      "(30000,)\n",
      "(30000,)\n",
      "(30000,)\n",
      "(30000,)\n",
      "(30000,)\n",
      "(30000,)\n",
      "(30000,)\n",
      "(30000,)\n",
      "(30000,)\n",
      "(30000,)\n",
      "(30000,)\n",
      "(30000,)\n",
      "(30000,)\n",
      "(30000,)\n",
      "(30000,)\n",
      "(30000,)\n",
      "(30000,)\n",
      "(30000,)\n",
      "(30000,)\n",
      "(30000,)\n",
      "(30000,)\n",
      "(30000,)\n",
      "(30000,)\n",
      "(30000,)\n",
      "(30000,)\n",
      "(30000,)\n",
      "(30000,)\n",
      "(30000,)\n",
      "(30000,)\n",
      "(30000,)\n",
      "(30000,)\n",
      "(30000,)\n",
      "(30000,)\n",
      "(30000,)\n",
      "(30000,)\n",
      "(30000,)\n",
      "(30000,)\n",
      "(30000,)\n",
      "(30000,)\n",
      "(30000,)\n",
      "(30000,)\n",
      "(30000,)\n",
      "(30000,)\n",
      "(30000,)\n",
      "(30000,)\n",
      "(30000,)\n",
      "(30000,)\n",
      "(30000,)\n",
      "(30000,)\n",
      "(30000,)\n",
      "(30000,)\n",
      "(30000,)\n",
      "(30000,)\n",
      "(30000,)\n",
      "(30000,)\n",
      "(30000,)\n",
      "(30000,)\n",
      "(30000,)\n",
      "(30000,)\n",
      "(30000,)\n",
      "(30000,)\n",
      "(30000,)\n",
      "(30000,)\n",
      "(30000,)\n",
      "(30000,)\n",
      "(30000,)\n",
      "(30000,)\n",
      "(30000,)\n",
      "(30000,)\n",
      "(30000,)\n",
      "(30000,)\n",
      "(30000,)\n",
      "(30000,)\n",
      "(30000,)\n",
      "(30000,)\n",
      "(30000,)\n",
      "(30000,)\n",
      "(30000,)\n",
      "(30000,)\n",
      "(30000,)\n",
      "(30000,)\n",
      "(30000,)\n",
      "(30000,)\n",
      "(30000,)\n",
      "(30000,)\n",
      "(30000,)\n",
      "(30000,)\n",
      "(30000,)\n",
      "(30000,)\n",
      "(30000,)\n",
      "(30000,)\n",
      "(30000,)\n",
      "(30000,)\n",
      "(30000,)\n",
      "(30000,)\n",
      "(30000,)\n",
      "(30000,)\n",
      "(30000,)\n",
      "(30000,)\n",
      "(30000,)\n",
      "(30000,)\n",
      "(30000,)\n",
      "(30000,)\n",
      "(30000,)\n",
      "(30000,)\n",
      "(30000,)\n",
      "(30000,)\n",
      "(30000,)\n",
      "(30000,)\n",
      "(30000,)\n",
      "(30000,)\n",
      "(30000,)\n",
      "(30000,)\n",
      "(30000,)\n",
      "(30000,)\n",
      "(30000,)\n",
      "(30000,)\n",
      "(30000,)\n",
      "(30000,)\n",
      "(30000,)\n",
      "(30000,)\n",
      "(30000,)\n",
      "(30000,)\n",
      "(30000,)\n",
      "(30000,)\n",
      "(30000,)\n",
      "(30000,)\n",
      "(30000,)\n",
      "(30000,)\n",
      "(30000,)\n",
      "(30000,)\n",
      "(30000,)\n",
      "(30000,)\n",
      "(30000,)\n",
      "(30000,)\n",
      "(30000,)\n",
      "(30000,)\n",
      "(30000,)\n",
      "(30000,)\n",
      "(30000,)\n",
      "(30000,)\n",
      "(30000,)\n",
      "(30000,)\n",
      "(30000,)\n",
      "(30000,)\n",
      "(30000,)\n",
      "(30000,)\n",
      "(30000,)\n",
      "(30000,)\n",
      "(30000,)\n",
      "(30000,)\n",
      "(30000,)\n",
      "(30000,)\n",
      "(30000,)\n",
      "(30000,)\n",
      "(30000,)\n",
      "(30000,)\n",
      "(30000,)\n",
      "(30000,)\n",
      "(30000,)\n",
      "(30000,)\n",
      "(30000,)\n",
      "(30000,)\n",
      "(30000,)\n",
      "(30000,)\n",
      "(30000,)\n",
      "(30000,)\n",
      "(30000,)\n",
      "(30000,)\n",
      "(30000,)\n",
      "(30000,)\n",
      "(30000,)\n",
      "(30000,)\n",
      "(30000,)\n",
      "(30000,)\n",
      "(30000,)\n",
      "(30000,)\n",
      "(30000,)\n",
      "(30000,)\n",
      "(30000,)\n",
      "(30000,)\n",
      "(30000,)\n",
      "(30000,)\n",
      "(30000,)\n",
      "(30000,)\n",
      "(30000,)\n",
      "(30000,)\n",
      "(30000,)\n",
      "(30000,)\n",
      "(30000,)\n",
      "(30000,)\n",
      "(30000,)\n",
      "(30000,)\n",
      "(30000,)\n",
      "(30000,)\n",
      "(30000,)\n",
      "(30000,)\n",
      "(30000,)\n",
      "(30000,)\n",
      "(30000,)\n",
      "(30000,)\n",
      "(30000,)\n",
      "(30000,)\n",
      "(30000,)\n",
      "(30000,)\n",
      "(30000,)\n",
      "(30000,)\n",
      "(30000,)\n",
      "(30000,)\n",
      "(30000,)\n",
      "(30000,)\n",
      "(30000,)\n",
      "(30000,)\n",
      "(30000,)\n",
      "(30000,)\n",
      "(30000,)\n",
      "(30000,)\n",
      "(30000,)\n",
      "(30000,)\n",
      "(30000,)\n",
      "(30000,)\n",
      "(30000,)\n",
      "(30000,)\n",
      "(30000,)\n",
      "(30000,)\n",
      "(30000,)\n",
      "(30000,)\n",
      "(30000,)\n",
      "(30000,)\n",
      "(30000,)\n",
      "(30000,)\n",
      "(30000,)\n",
      "(30000,)\n",
      "(30000,)\n",
      "(30000,)\n",
      "(30000,)\n",
      "(30000,)\n",
      "(30000,)\n",
      "(30000,)\n",
      "(30000,)\n",
      "(30000,)\n",
      "(30000,)\n",
      "(30000,)\n",
      "(30000,)\n",
      "(30000,)\n",
      "(30000,)\n",
      "(30000,)\n",
      "(30000,)\n",
      "(30000,)\n",
      "(30000,)\n",
      "(30000,)\n",
      "(30000,)\n",
      "(30000,)\n",
      "(30000,)\n",
      "(30000,)\n",
      "(30000,)\n",
      "(30000,)\n",
      "(30000,)\n",
      "(30000,)\n",
      "(30000,)\n",
      "(30000,)\n",
      "(30000,)\n",
      "(30000,)\n",
      "(30000,)\n",
      "(30000,)\n",
      "(30000,)\n",
      "(30000,)\n",
      "(30000,)\n",
      "(30000,)\n",
      "(30000,)\n",
      "(30000,)\n",
      "(30000,)\n",
      "(30000,)\n",
      "(30000,)\n",
      "(30000,)\n",
      "(30000,)\n",
      "(30000,)\n",
      "(30000,)\n",
      "(30000,)\n",
      "(30000,)\n",
      "(30000,)\n",
      "(30000,)\n",
      "(30000,)\n",
      "(30000,)\n",
      "(30000,)\n",
      "(30000,)\n",
      "(30000,)\n",
      "(30000,)\n",
      "(30000,)\n",
      "(30000,)\n",
      "(30000,)\n",
      "(30000,)\n",
      "(30000,)\n",
      "(30000,)\n",
      "(30000,)\n",
      "(30000,)\n",
      "(30000,)\n",
      "(30000,)\n",
      "(30000,)\n",
      "(30000,)\n",
      "(30000,)\n",
      "(30000,)\n",
      "(30000,)\n",
      "(30000,)\n",
      "(30000,)\n",
      "(30000,)\n",
      "(30000,)\n",
      "(30000,)\n",
      "(30000,)\n",
      "(30000,)\n",
      "(30000,)\n",
      "(30000,)\n",
      "(30000,)\n",
      "(30000,)\n",
      "(30000,)\n",
      "(30000,)\n",
      "(30000,)\n",
      "(30000,)\n",
      "(30000,)\n",
      "(30000,)\n",
      "(30000,)\n",
      "(30000,)\n",
      "(30000,)\n",
      "(30000,)\n",
      "(30000,)\n",
      "(30000,)\n",
      "(30000,)\n",
      "(30000,)\n",
      "(30000,)\n",
      "(30000,)\n",
      "(30000,)\n",
      "(30000,)\n",
      "(30000,)\n",
      "(30000,)\n",
      "(30000,)\n",
      "(30000,)\n",
      "(30000,)\n",
      "(30000,)\n",
      "(30000,)\n",
      "(30000,)\n",
      "(30000,)\n",
      "(30000,)\n",
      "(30000,)\n",
      "(30000,)\n",
      "(30000,)\n",
      "(30000,)\n",
      "(30000,)\n",
      "(30000,)\n",
      "(30000,)\n",
      "(30000,)\n",
      "(30000,)\n",
      "(30000,)\n",
      "(30000,)\n",
      "(30000,)\n",
      "(30000,)\n",
      "(30000,)\n",
      "(30000,)\n",
      "(30000,)\n",
      "(30000,)\n",
      "(30000,)\n",
      "(30000,)\n",
      "(30000,)\n",
      "(30000,)\n",
      "(30000,)\n",
      "(30000,)\n",
      "(30000,)\n",
      "(30000,)\n",
      "(30000,)\n",
      "(30000,)\n",
      "(30000,)\n",
      "(30000,)\n",
      "(30000,)\n",
      "(30000,)\n",
      "(30000,)\n",
      "(30000,)\n",
      "(30000,)\n",
      "(30000,)\n",
      "(30000,)\n",
      "(30000,)\n",
      "(30000,)\n",
      "(30000,)\n",
      "(30000,)\n",
      "(30000,)\n",
      "(30000,)\n",
      "(30000,)\n",
      "(30000,)\n",
      "(30000,)\n",
      "(30000,)\n",
      "(30000,)\n",
      "(30000,)\n",
      "(30000,)\n",
      "(30000,)\n",
      "(30000,)\n",
      "(30000,)\n",
      "(30000,)\n",
      "(30000,)\n",
      "(30000,)\n",
      "(30000,)\n",
      "(30000,)\n",
      "(30000,)\n",
      "(30000,)\n",
      "(30000,)\n",
      "(30000,)\n",
      "(30000,)\n",
      "(30000,)\n",
      "(30000,)\n",
      "(30000,)\n",
      "(30000,)\n",
      "(30000,)\n",
      "(30000,)\n",
      "(30000,)\n",
      "(30000,)\n",
      "(30000,)\n",
      "(30000,)\n",
      "(30000,)\n",
      "(30000,)\n",
      "(30000,)\n",
      "(30000,)\n",
      "(30000,)\n",
      "(30000,)\n",
      "(30000,)\n",
      "(30000,)\n",
      "(30000,)\n",
      "(30000,)\n",
      "(30000,)\n",
      "(30000,)\n",
      "(30000,)\n",
      "(30000,)\n",
      "(30000,)\n",
      "(30000,)\n",
      "(30000,)\n",
      "(30000,)\n",
      "(30000,)\n",
      "(30000,)\n",
      "(30000,)\n",
      "(30000,)\n",
      "(30000,)\n",
      "(30000,)\n",
      "(30000,)\n",
      "(30000,)\n",
      "(30000,)\n",
      "(30000,)\n",
      "(30000,)\n",
      "(30000,)\n",
      "(30000,)\n",
      "(30000,)\n",
      "(30000,)\n",
      "(30000,)\n",
      "(30000,)\n",
      "(30000,)\n",
      "(30000,)\n",
      "(30000,)\n",
      "(30000,)\n",
      "(30000,)\n",
      "(30000,)\n",
      "(30000,)\n",
      "(30000,)\n",
      "(30000,)\n",
      "(30000,)\n",
      "(30000,)\n",
      "(30000,)\n",
      "(30000,)\n",
      "(30000,)\n",
      "(30000,)\n",
      "(30000,)\n",
      "(30000,)\n",
      "(30000,)\n",
      "(30000,)\n",
      "(30000,)\n",
      "(30000,)\n",
      "(30000,)\n",
      "(30000,)\n",
      "(30000,)\n",
      "(30000,)\n",
      "(30000,)\n",
      "(30000,)\n",
      "(30000,)\n",
      "(30000,)\n",
      "(30000,)\n",
      "(30000,)\n",
      "(30000,)\n",
      "(30000,)\n",
      "(30000,)\n",
      "(30000,)\n",
      "(30000,)\n",
      "(30000,)\n",
      "(30000,)\n",
      "(30000,)\n",
      "(30000,)\n",
      "(30000,)\n",
      "(30000,)\n"
     ]
    }
   ],
   "source": [
    "points_in_block = 30000\n",
    "n_blocks = 720\n",
    "data = ieee_signal\n",
    "print(data[0].shape)\n",
    "\n",
    "for i_block in range(1, n_blocks + 1):\n",
    "    curr_block = data[0][(i_block - 1) * points_in_block:i_block * points_in_block]\n",
    "    n_curr_block = len(curr_block)\n",
    "    #print(n_curr_block)\n",
    "    data_gradient = np.concatenate([[0], np.diff(curr_block)])\n",
    "    print(data_gradient.shape)\n"
   ]
  },
  {
   "cell_type": "code",
   "execution_count": 25,
   "metadata": {},
   "outputs": [
    {
     "data": {
      "text/plain": [
       "21600384"
      ]
     },
     "execution_count": 25,
     "metadata": {},
     "output_type": "execute_result"
    }
   ],
   "source": [
    "len(ieee_signal[0])"
   ]
  },
  {
   "cell_type": "code",
   "execution_count": 5,
   "metadata": {},
   "outputs": [
    {
     "data": {
      "text/plain": [
       "False"
      ]
     },
     "execution_count": 5,
     "metadata": {},
     "output_type": "execute_result"
    }
   ],
   "source": [
    "IIS_det.useConjAmpEnv"
   ]
  },
  {
   "cell_type": "code",
   "execution_count": 69,
   "metadata": {},
   "outputs": [
    {
     "name": "stdout",
     "output_type": "stream",
     "text": [
      "28483712\n",
      "['seeg']\n"
     ]
    }
   ],
   "source": [
    "ieee_signal = mat_data['trial'][0][0][0]\n",
    "print(len(ieee_signal))\n",
    "\n",
    "ch_types=['seeg']*cant_chan\n",
    "print(ch_types)"
   ]
  },
  {
   "cell_type": "code",
   "execution_count": 12,
   "metadata": {},
   "outputs": [
    {
     "name": "stdout",
     "output_type": "stream",
     "text": [
      "dict_keys(['#refs#', 'fsample', 'label', 'sampleinfo', 'time', 'trial'])\n"
     ]
    }
   ],
   "source": [
    "import h5py\n",
    "import numpy as np\n",
    "# Load the .mat file\n",
    "\n",
    "# FILEPATH: Untitled-1.ipynb\n",
    "filepath = '/home/lfa-01/Descargas/pat01_HIPP.mat'\n",
    "f = h5py.File(filepath)\n",
    "\n",
    "arrays = {}\n",
    "for k, v in f.items():\n",
    "    arrays[k] = np.array(v)\n",
    "\n",
    "type(arrays)\n",
    "print(arrays.keys())\n"
   ]
  },
  {
   "cell_type": "code",
   "execution_count": 23,
   "metadata": {},
   "outputs": [
    {
     "name": "stdout",
     "output_type": "stream",
     "text": [
      "[[1000.]]\n"
     ]
    }
   ],
   "source": [
    "time_data = arrays['fsample']\n",
    "print(time_data)\n"
   ]
  },
  {
   "cell_type": "code",
   "execution_count": 25,
   "metadata": {},
   "outputs": [
    {
     "data": {
      "text/plain": [
       "numpy.ndarray"
      ]
     },
     "execution_count": 25,
     "metadata": {},
     "output_type": "execute_result"
    }
   ],
   "source": [
    "type(arrays['time'])"
   ]
  },
  {
   "cell_type": "code",
   "execution_count": null,
   "metadata": {},
   "outputs": [],
   "source": [
    "# Convert the loaded data to a MNE-Python object\n",
    "mne_data = mne.io.RawArray(mat_data['data'], info=mne.create_info(ch_names=mat_data['channel_names'], sfreq=mat_data['sampling_rate']))\n",
    "\n",
    "# Now you can work with the MNE-Python object"
   ]
  }
 ],
 "metadata": {
  "kernelspec": {
   "display_name": "env_mne_1_5",
   "language": "python",
   "name": "python3"
  },
  "language_info": {
   "codemirror_mode": {
    "name": "ipython",
    "version": 3
   },
   "file_extension": ".py",
   "mimetype": "text/x-python",
   "name": "python",
   "nbconvert_exporter": "python",
   "pygments_lexer": "ipython3",
   "version": "3.11.6"
  }
 },
 "nbformat": 4,
 "nbformat_minor": 2
}
