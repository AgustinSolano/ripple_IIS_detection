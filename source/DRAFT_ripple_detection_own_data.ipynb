{
 "cells": [
  {
   "cell_type": "code",
   "execution_count": 1,
   "metadata": {},
   "outputs": [],
   "source": [
    "%matplotlib qt5"
   ]
  },
  {
   "cell_type": "code",
   "execution_count": 2,
   "metadata": {},
   "outputs": [],
   "source": [
    "import mne\n",
    "import numpy as np\n",
    "from scipy import signal\n",
    "import matplotlib.pyplot as plt\n",
    "import mne_bids \n",
    "import mne_bids.utils \n",
    "import pandas as pd"
   ]
  },
  {
   "cell_type": "code",
   "execution_count": 3,
   "metadata": {},
   "outputs": [],
   "source": [
    "import sys\n",
    "sys.path.append('/home/lfa-01/Documentos/RepositoriosGit/ripple_IIS_detection/source/')\n",
    "\n",
    "import SpikeWaveDetectorClass \n",
    "import RippleDetectorClass"
   ]
  },
  {
   "cell_type": "code",
   "execution_count": 102,
   "metadata": {},
   "outputs": [
    {
     "data": {
      "text/plain": [
       "<module 'RippleDetectorClass' from '/home/lfa-01/Documentos/RepositoriosGit/ripple_IIS_detection/source/RippleDetectorClass.py'>"
      ]
     },
     "execution_count": 102,
     "metadata": {},
     "output_type": "execute_result"
    }
   ],
   "source": [
    "import importlib\n",
    "importlib.reload(SpikeWaveDetectorClass)\n",
    "importlib.reload(RippleDetectorClass)"
   ]
  },
  {
   "cell_type": "markdown",
   "metadata": {},
   "source": [
    "Se indica la ruta del proyecto base con los datos organizados en formato BIDS"
   ]
  },
  {
   "cell_type": "code",
   "execution_count": 4,
   "metadata": {},
   "outputs": [
    {
     "name": "stdout",
     "output_type": "stream",
     "text": [
      "|Datos_Proyecto_LFA-ENYS_BIDS/\n",
      "|--- README\n",
      "|--- dataset_description.json\n",
      "|--- participants.json\n",
      "|--- participants.tsv\n",
      "|--- sub-03/\n",
      "|------ ses-day1/\n",
      "|--------- sub-03_ses-day1_scans.tsv\n",
      "|--------- beh/\n",
      "|--------- ieeg/\n",
      "|------------ sub-03_ses-day1_task-msl_channels.tsv\n",
      "|------------ sub-03_ses-day1_task-msl_events.tsv\n",
      "|------------ sub-03_ses-day1_task-msl_ieeg.edf\n",
      "|------------ sub-03_ses-day1_task-msl_ieeg.json\n",
      "|--- sub-04/\n",
      "|------ ses-day1/\n",
      "|--------- sub-04_ses-day1_scans.tsv\n",
      "|--------- beh/\n",
      "|------------ sub-04_ses-day1_task-mslCtr_desc-results_beh.mat\n",
      "|------------ sub-04_ses-day1_task-mslExp_desc-results_beh.mat\n",
      "|------------ sub-04_ses-day1_task-vmaBaseline_beh.mat\n",
      "|------------ sub-04_ses-day1_task-vmaClamp_beh.mat\n",
      "|--------- ieeg/\n",
      "|------------ sub-04_ses-day1_task-msl_channels.tsv\n",
      "|------------ sub-04_ses-day1_task-msl_events.tsv\n",
      "|------------ sub-04_ses-day1_task-msl_ieeg.edf\n",
      "|------------ sub-04_ses-day1_task-msl_ieeg.json\n",
      "|------------ sub-04_ses-day1_task-vma_channels.tsv\n",
      "|------------ sub-04_ses-day1_task-vma_events.tsv\n",
      "|------------ sub-04_ses-day1_task-vma_ieeg.edf\n",
      "|------------ sub-04_ses-day1_task-vma_ieeg.json\n",
      "|--- sub-05/\n",
      "|------ ses-day1/\n",
      "|--------- sub-05_ses-day1_scans.tsv\n",
      "|--------- beh/\n",
      "|------------ sub-05_ses-day1_task-mslCtr_desc-results_beh.mat\n",
      "|------------ sub-05_ses-day1_task-mslExp_desc-results_beh.mat\n",
      "|------------ sub-05_ses-day1_task-vmaBaseline_beh.mat\n",
      "|------------ sub-05_ses-day1_task-vmaClamp_beh.mat\n",
      "|--------- ieeg/\n",
      "|------------ sub-05_ses-day1_task-msl_channels.tsv\n",
      "|------------ sub-05_ses-day1_task-msl_events.tsv\n",
      "|------------ sub-05_ses-day1_task-msl_ieeg.edf\n",
      "|------------ sub-05_ses-day1_task-msl_ieeg.json\n",
      "|------------ sub-05_ses-day1_task-vma_channels.tsv\n",
      "|------------ sub-05_ses-day1_task-vma_events.tsv\n",
      "|------------ sub-05_ses-day1_task-vma_ieeg.edf\n",
      "|------------ sub-05_ses-day1_task-vma_ieeg.json\n",
      "|--- sub-06/\n",
      "|------ ses-day1/\n",
      "|--------- sub-06_ses-day1_scans.tsv\n",
      "|--------- beh/\n",
      "|------------ sub-06_ses-day1_task-mslCtr_desc-results_beh.mat\n",
      "|------------ sub-06_ses-day1_task-mslExp_desc-results_beh.mat\n",
      "|------------ sub-06_ses-day1_task-vmaBaseline_beh.mat\n",
      "|------------ sub-06_ses-day1_task-vmaClamp_beh.mat\n",
      "|--------- ieeg/\n",
      "|------------ sub-06_ses-day1_task-msl_channels.tsv\n",
      "|------------ sub-06_ses-day1_task-msl_events.tsv\n",
      "|------------ sub-06_ses-day1_task-msl_ieeg.edf\n",
      "|------------ sub-06_ses-day1_task-msl_ieeg.json\n",
      "|------------ sub-06_ses-day1_task-msl_rejectAnnot.csv\n",
      "|------------ sub-06_ses-day1_task-vma_channels.tsv\n",
      "|------------ sub-06_ses-day1_task-vma_events.tsv\n",
      "|------------ sub-06_ses-day1_task-vma_ieeg.edf\n",
      "|------------ sub-06_ses-day1_task-vma_ieeg.json\n",
      "|--- sub-07/\n",
      "|------ ses-day1/\n",
      "|--------- sub-07_ses-day1_scans.tsv\n",
      "|--------- beh/\n",
      "|------------ sub-07_ses-day1_task-mslCtr_desc-results_beh.mat\n",
      "|------------ sub-07_ses-day1_task-mslExp_desc-results_beh.mat\n",
      "|------------ sub-07_ses-day1_task-vmaBaseline_beh.mat\n",
      "|------------ sub-07_ses-day1_task-vmaClamp_beh.mat\n",
      "|--------- ieeg/\n",
      "|------------ sub-07_ses-day1_indices.txt\n",
      "|------------ sub-07_ses-day1_task-msl_channels.tsv\n",
      "|------------ sub-07_ses-day1_task-msl_events.tsv\n",
      "|------------ sub-07_ses-day1_task-msl_ieeg.edf\n",
      "|------------ sub-07_ses-day1_task-msl_ieeg.json\n",
      "|------------ sub-07_ses-day1_task-vma_channels.tsv\n",
      "|------------ sub-07_ses-day1_task-vma_events.tsv\n",
      "|------------ sub-07_ses-day1_task-vma_ieeg.edf\n",
      "|------------ sub-07_ses-day1_task-vma_ieeg.json\n",
      "|--- sub-08/\n",
      "|------ ses-day1/\n",
      "|--------- sub-08_ses-day1_scans.tsv\n",
      "|--------- beh/\n",
      "|------------ sub-08_ses-day1_task-mslCtr_desc-results_beh.mat\n",
      "|------------ sub-08_ses-day1_task-mslExp_desc-results_beh.mat\n",
      "|--------- ieeg/\n",
      "|------------ sub-08_ses-day1_task-msl_channels.tsv\n",
      "|------------ sub-08_ses-day1_task-msl_events.tsv\n",
      "|------------ sub-08_ses-day1_task-msl_ieeg.edf\n",
      "|------------ sub-08_ses-day1_task-msl_ieeg.json\n",
      "|--- sub-09/\n",
      "|------ ses-day1/\n",
      "|--------- sub-09_ses-day1_scans.tsv\n",
      "|--------- beh/\n",
      "|------------ sub-09_ses-day1_task-mslCtr_desc-results_beh.mat\n",
      "|------------ sub-09_ses-day1_task-mslExp_desc-results_beh.mat\n",
      "|------------ sub-09_ses-day1_task-vmaBaseline_beh.mat\n",
      "|------------ sub-09_ses-day1_task-vmaClamp_beh.mat\n",
      "|--------- ieeg/\n",
      "|------------ sub-09_ses-day1_task-msl_channels.tsv\n",
      "|------------ sub-09_ses-day1_task-msl_events.tsv\n",
      "|------------ sub-09_ses-day1_task-msl_ieeg.edf\n",
      "|------------ sub-09_ses-day1_task-msl_ieeg.json\n",
      "|------------ sub-09_ses-day1_task-vma_channels.tsv\n",
      "|------------ sub-09_ses-day1_task-vma_events.tsv\n",
      "|------------ sub-09_ses-day1_task-vma_ieeg.edf\n",
      "|------------ sub-09_ses-day1_task-vma_ieeg.json\n",
      "|--- sub-10/\n",
      "|------ ses-day1/\n",
      "|--------- sub-10_ses-day1_scans.tsv\n",
      "|--------- beh/\n",
      "|------------ sub-10_ses-day1_task-mslCtr_desc-results_beh.mat\n",
      "|------------ sub-10_ses-day1_task-mslExp_desc-results_beh.mat\n",
      "|------------ sub-10_ses-day1_task-vmaBaseline_beh.mat\n",
      "|------------ sub-10_ses-day1_task-vmaClamp_beh.mat\n",
      "|--------- ieeg/\n",
      "|------------ sub-10_ses-day1_task-msl_channels.tsv\n",
      "|------------ sub-10_ses-day1_task-msl_events.tsv\n",
      "|------------ sub-10_ses-day1_task-msl_ieeg.edf\n",
      "|------------ sub-10_ses-day1_task-msl_ieeg.json\n",
      "|------------ sub-10_ses-day1_task-vma_channels.tsv\n",
      "|------------ sub-10_ses-day1_task-vma_events.tsv\n",
      "|------------ sub-10_ses-day1_task-vma_ieeg.edf\n",
      "|------------ sub-10_ses-day1_task-vma_ieeg.json\n",
      "|--- sub-11/\n",
      "|------ ses-day1/\n",
      "|--------- sub-11_ses-day1_scans.tsv\n",
      "|--------- beh/\n",
      "|------------ sub-11_ses-day1_task-mslCtr_desc-results_beh.mat\n",
      "|------------ sub-11_ses-day1_task-mslExp_desc-results_beh.mat\n",
      "|------------ sub-11_ses-day1_task-vmaBaseline_beh.mat\n",
      "|------------ sub-11_ses-day1_task-vmaClamp_beh.mat\n",
      "|--------- ieeg/\n",
      "|------------ sub-11_ses-day1_task-msl_channels.tsv\n",
      "|------------ sub-11_ses-day1_task-msl_events.tsv\n",
      "|------------ sub-11_ses-day1_task-msl_ieeg.edf\n",
      "|------------ sub-11_ses-day1_task-msl_ieeg.json\n",
      "|--- sub-12/\n",
      "|------ ses-day1/\n",
      "|--------- sub-12_ses-day1_scans.tsv\n",
      "|--------- beh/\n",
      "|------------ sub-12_ses-day1_task-mslCtr_desc-results_beh.mat\n",
      "|------------ sub-12_ses-day1_task-mslExp_desc-results_beh.mat\n",
      "|------------ sub-12_ses-day1_task-vmaBaseline_beh.mat\n",
      "|------------ sub-12_ses-day1_task-vmaClamp_beh.mat\n",
      "|--------- ieeg/\n",
      "|------------ sub-12_ses-day1_task-msl_channels.tsv\n",
      "|------------ sub-12_ses-day1_task-msl_events.tsv\n",
      "|------------ sub-12_ses-day1_task-msl_ieeg.edf\n",
      "|------------ sub-12_ses-day1_task-msl_ieeg.json\n",
      "|------------ sub-12_ses-day1_task-vma_channels.tsv\n",
      "|------------ sub-12_ses-day1_task-vma_events.tsv\n",
      "|------------ sub-12_ses-day1_task-vma_ieeg.edf\n",
      "|------------ sub-12_ses-day1_task-vma_ieeg.json\n"
     ]
    }
   ],
   "source": [
    "bids_root = '/home/lfa-01/Documentos/Datos_Proyecto_LFA-ENYS_BIDS'\n",
    "mne_bids.print_dir_tree(bids_root, max_depth=4)"
   ]
  },
  {
   "cell_type": "markdown",
   "metadata": {},
   "source": [
    "Se indica informacion especifica para ubicar a un sujeto y tarea particular"
   ]
  },
  {
   "cell_type": "code",
   "execution_count": 5,
   "metadata": {},
   "outputs": [
    {
     "name": "stdout",
     "output_type": "stream",
     "text": [
      "['03', '04', '05', '06', '07', '08', '09', '10', '11', '12']\n",
      "['msl', 'mslCtr', 'mslExp', 'vma', 'vmaBaseline', 'vmaClamp']\n",
      "['day1']\n",
      "[]\n"
     ]
    }
   ],
   "source": [
    "session = 'day1'\n",
    "datatype = 'ieeg'\n",
    "subjects = mne_bids.get_entity_vals(bids_root, 'subject')\n",
    "tasks = mne_bids.get_entity_vals(bids_root, 'task')\n",
    "suffix = 'ieeg'\n",
    "\n",
    "print(mne_bids.get_entity_vals(bids_root, 'subject'))\n",
    "print(mne_bids.get_entity_vals(bids_root, 'task'))\n",
    "print(mne_bids.get_entity_vals(bids_root, 'session'))\n",
    "print(mne_bids.get_entity_vals(bids_root, 'run'))"
   ]
  },
  {
   "cell_type": "markdown",
   "metadata": {},
   "source": [
    "Creacion del BIDS path"
   ]
  },
  {
   "cell_type": "code",
   "execution_count": 6,
   "metadata": {},
   "outputs": [
    {
     "name": "stdout",
     "output_type": "stream",
     "text": [
      "[BIDSPath(\n",
      "root: /home/lfa-01/Documentos/Datos_Proyecto_LFA-ENYS_BIDS\n",
      "datatype: ieeg\n",
      "basename: sub-03_ses-day1_task-msl_ieeg.edf)]\n"
     ]
    }
   ],
   "source": [
    "idx_sub = 0 # Indice del sujeto analizado\n",
    "idx_task = 0 # Indice de la tarea\n",
    "\n",
    "bids_path = mne_bids.BIDSPath(root=bids_root, subject = subjects[idx_sub], task = tasks[idx_task], session=session, suffix=suffix, datatype=datatype)\n",
    "print(bids_path.match(ignore_json=True))"
   ]
  },
  {
   "cell_type": "markdown",
   "metadata": {},
   "source": [
    "Path derivatives"
   ]
  },
  {
   "cell_type": "code",
   "execution_count": 7,
   "metadata": {},
   "outputs": [
    {
     "name": "stdout",
     "output_type": "stream",
     "text": [
      "|Derivatives_Proyecto_LFA-ENYS_BIDS/\n",
      "|--- README\n",
      "|--- Referencias_guia_tener_en_cuenta.odt\n",
      "|--- dataset_description.json\n",
      "|--- participants.json\n",
      "|--- participants.tsv\n",
      "|--- sub-03/\n",
      "|------ ses-day1/\n",
      "|--------- sub-03_ses-day1_scans.tsv\n",
      "|--------- PSD_epochs/\n",
      "|------------ sub-03_ses-day1_desc-ctrTask_spectrumPSD_epo-epoch.npz\n",
      "|------------ sub-03_ses-day1_desc-ctrTask_spectrumPSD_epo-rest.npz\n",
      "|------------ sub-03_ses-day1_desc-ctrTask_spectrumPSD_epo-task.npz\n",
      "|------------ sub-03_ses-day1_desc-secTask_spectrumPSD_epo-epoch.npz\n",
      "|------------ sub-03_ses-day1_desc-secTask_spectrumPSD_epo-rest.npz\n",
      "|------------ sub-03_ses-day1_desc-secTask_spectrumPSD_epo-task.npz\n",
      "|--------- ieeg/\n",
      "|------------ sub-03_ses-day1_selectedChannels.tsv\n",
      "|------------ sub-03_ses-day1_task-msl_desc-baselineSegm1_channels.tsv\n",
      "|------------ sub-03_ses-day1_task-msl_desc-baselineSegm1_events.tsv\n",
      "|------------ sub-03_ses-day1_task-msl_desc-baselineSegm1_ieeg.edf\n",
      "|------------ sub-03_ses-day1_task-msl_desc-baselineSegm1_ieeg.json\n",
      "|------------ sub-03_ses-day1_task-msl_desc-baselineSegm2_channels.tsv\n",
      "|------------ sub-03_ses-day1_task-msl_desc-baselineSegm2_events.tsv\n",
      "|------------ sub-03_ses-day1_task-msl_desc-baselineSegm2_ieeg.edf\n",
      "|------------ sub-03_ses-day1_task-msl_desc-baselineSegm2_ieeg.json\n",
      "|------------ sub-03_ses-day1_task-msl_desc-baselineSegm3_channels.tsv\n",
      "|------------ sub-03_ses-day1_task-msl_desc-baselineSegm3_events.tsv\n",
      "|------------ sub-03_ses-day1_task-msl_desc-baselineSegm3_ieeg.edf\n",
      "|------------ sub-03_ses-day1_task-msl_desc-baselineSegm3_ieeg.json\n",
      "|------------ sub-03_ses-day1_task-msl_desc-ctrTask_channels.tsv\n",
      "|------------ sub-03_ses-day1_task-msl_desc-ctrTask_events.tsv\n",
      "|------------ sub-03_ses-day1_task-msl_desc-ctrTask_ieeg.edf\n",
      "|------------ sub-03_ses-day1_task-msl_desc-ctrTask_ieeg.json\n",
      "|------------ sub-03_ses-day1_task-msl_desc-secTask_channels.tsv\n",
      "|------------ sub-03_ses-day1_task-msl_desc-secTask_events.tsv\n",
      "|------------ sub-03_ses-day1_task-msl_desc-secTask_ieeg.edf\n",
      "|------------ sub-03_ses-day1_task-msl_desc-secTask_ieeg.json\n",
      "|--------- spectral_fit/\n",
      "|------------ sub-03_ses-day1_desc-ctrTask_spectralFit_all_segments.csv\n",
      "|------------ sub-03_ses-day1_desc-ctrTask_spectralFit_epo-epoch_all_epochs.csv\n",
      "|------------ sub-03_ses-day1_desc-ctrTask_spectralFit_epo-rest_all_epochs.csv\n",
      "|------------ sub-03_ses-day1_desc-ctrTask_spectralFit_epo-task_all_epochs.csv\n",
      "|------------ sub-03_ses-day1_desc-secTask_spectralFit_all_segments.csv\n",
      "|------------ sub-03_ses-day1_desc-secTask_spectralFit_epo-epoch_all_epochs.csv\n",
      "|------------ sub-03_ses-day1_desc-secTask_spectralFit_epo-rest_all_epochs.csv\n",
      "|------------ sub-03_ses-day1_desc-secTask_spectralFit_epo-task_all_epochs.csv\n",
      "|------------ fooof_fit_figures/\n",
      "|------------ fooof_fit_params/\n",
      "|--- sub-04/\n",
      "|------ ses-day1/\n",
      "|--------- sub-04_ses-day1_scans.tsv\n",
      "|--------- PSD_epochs/\n",
      "|------------ sub-04_ses-day1_desc-ctrTask_spectrumPSD_epo-epoch.npz\n",
      "|------------ sub-04_ses-day1_desc-ctrTask_spectrumPSD_epo-rest.npz\n",
      "|------------ sub-04_ses-day1_desc-ctrTask_spectrumPSD_epo-task.npz\n",
      "|------------ sub-04_ses-day1_desc-secTask_spectrumPSD_epo-epoch.npz\n",
      "|------------ sub-04_ses-day1_desc-secTask_spectrumPSD_epo-rest.npz\n",
      "|------------ sub-04_ses-day1_desc-secTask_spectrumPSD_epo-task.npz\n",
      "|--------- ieeg/\n",
      "|------------ sub-04_ses-day1_selectedChannels.tsv\n",
      "|------------ sub-04_ses-day1_task-msl_desc-baselineSegm1_channels.tsv\n",
      "|------------ sub-04_ses-day1_task-msl_desc-baselineSegm1_events.tsv\n",
      "|------------ sub-04_ses-day1_task-msl_desc-baselineSegm1_ieeg.edf\n",
      "|------------ sub-04_ses-day1_task-msl_desc-baselineSegm1_ieeg.json\n",
      "|------------ sub-04_ses-day1_task-msl_desc-baselineSegm2_channels.tsv\n",
      "|------------ sub-04_ses-day1_task-msl_desc-baselineSegm2_events.tsv\n",
      "|------------ sub-04_ses-day1_task-msl_desc-baselineSegm2_ieeg.edf\n",
      "|------------ sub-04_ses-day1_task-msl_desc-baselineSegm2_ieeg.json\n",
      "|------------ sub-04_ses-day1_task-msl_desc-baselineSegm3_channels.tsv\n",
      "|------------ sub-04_ses-day1_task-msl_desc-baselineSegm3_events.tsv\n",
      "|------------ sub-04_ses-day1_task-msl_desc-baselineSegm3_ieeg.edf\n",
      "|------------ sub-04_ses-day1_task-msl_desc-baselineSegm3_ieeg.json\n",
      "|------------ sub-04_ses-day1_task-msl_desc-ctrTask_channels.tsv\n",
      "|------------ sub-04_ses-day1_task-msl_desc-ctrTask_events.tsv\n",
      "|------------ sub-04_ses-day1_task-msl_desc-ctrTask_ieeg.edf\n",
      "|------------ sub-04_ses-day1_task-msl_desc-ctrTask_ieeg.json\n",
      "|------------ sub-04_ses-day1_task-msl_desc-secTask_channels.tsv\n",
      "|------------ sub-04_ses-day1_task-msl_desc-secTask_events.tsv\n",
      "|------------ sub-04_ses-day1_task-msl_desc-secTask_ieeg.edf\n",
      "|------------ sub-04_ses-day1_task-msl_desc-secTask_ieeg.json\n",
      "|--------- spectral_fit/\n",
      "|------------ sub-04_ses-day1_desc-ctrTask_spectralFit_all_segments.csv\n",
      "|------------ sub-04_ses-day1_desc-ctrTask_spectralFit_epo-epoch_all_epochs.csv\n",
      "|------------ sub-04_ses-day1_desc-ctrTask_spectralFit_epo-rest_all_epochs.csv\n",
      "|------------ sub-04_ses-day1_desc-ctrTask_spectralFit_epo-task_all_epochs.csv\n",
      "|------------ sub-04_ses-day1_desc-secTask_spectralFit_all_segments.csv\n",
      "|------------ sub-04_ses-day1_desc-secTask_spectralFit_epo-epoch_all_epochs.csv\n",
      "|------------ sub-04_ses-day1_desc-secTask_spectralFit_epo-rest_all_epochs.csv\n",
      "|------------ sub-04_ses-day1_desc-secTask_spectralFit_epo-task_all_epochs.csv\n",
      "|------------ fooof_fit_figures/\n",
      "|------------ fooof_fit_params/\n",
      "|--- sub-06/\n",
      "|------ ses-day1/\n",
      "|--------- sub-06_ses-day1_scans.tsv\n",
      "|--------- PSD_epochs/\n",
      "|------------ sub-06_ses-day1_desc-ctrTask_spectrumPSD_epo-epoch.npz\n",
      "|------------ sub-06_ses-day1_desc-ctrTask_spectrumPSD_epo-rest.npz\n",
      "|------------ sub-06_ses-day1_desc-ctrTask_spectrumPSD_epo-task.npz\n",
      "|------------ sub-06_ses-day1_desc-secTask_spectrumPSD_epo-epoch.npz\n",
      "|------------ sub-06_ses-day1_desc-secTask_spectrumPSD_epo-rest.npz\n",
      "|------------ sub-06_ses-day1_desc-secTask_spectrumPSD_epo-task.npz\n",
      "|--------- ieeg/\n",
      "|------------ sub-06_ses-day1_selectedChannels.tsv\n",
      "|------------ sub-06_ses-day1_task-msl_desc-baselineSegm1_channels.tsv\n",
      "|------------ sub-06_ses-day1_task-msl_desc-baselineSegm1_events.tsv\n",
      "|------------ sub-06_ses-day1_task-msl_desc-baselineSegm1_ieeg.edf\n",
      "|------------ sub-06_ses-day1_task-msl_desc-baselineSegm1_ieeg.json\n",
      "|------------ sub-06_ses-day1_task-msl_desc-baselineSegm2_channels.tsv\n",
      "|------------ sub-06_ses-day1_task-msl_desc-baselineSegm2_events.tsv\n",
      "|------------ sub-06_ses-day1_task-msl_desc-baselineSegm2_ieeg.edf\n",
      "|------------ sub-06_ses-day1_task-msl_desc-baselineSegm2_ieeg.json\n",
      "|------------ sub-06_ses-day1_task-msl_desc-baselineSegm3_channels.tsv\n",
      "|------------ sub-06_ses-day1_task-msl_desc-baselineSegm3_events.tsv\n",
      "|------------ sub-06_ses-day1_task-msl_desc-baselineSegm3_ieeg.edf\n",
      "|------------ sub-06_ses-day1_task-msl_desc-baselineSegm3_ieeg.json\n",
      "|------------ sub-06_ses-day1_task-msl_desc-ctrTask_channels.tsv\n",
      "|------------ sub-06_ses-day1_task-msl_desc-ctrTask_events.tsv\n",
      "|------------ sub-06_ses-day1_task-msl_desc-ctrTask_ieeg.edf\n",
      "|------------ sub-06_ses-day1_task-msl_desc-ctrTask_ieeg.json\n",
      "|------------ sub-06_ses-day1_task-msl_desc-secTask_channels.tsv\n",
      "|------------ sub-06_ses-day1_task-msl_desc-secTask_events.tsv\n",
      "|------------ sub-06_ses-day1_task-msl_desc-secTask_ieeg.edf\n",
      "|------------ sub-06_ses-day1_task-msl_desc-secTask_ieeg.json\n",
      "|--------- spectral_fit/\n",
      "|------------ sub-06_ses-day1_desc-baselineSegm1_spectralFit.json\n",
      "|------------ sub-06_ses-day1_desc-baselineSegm1_spectrumPSD\n",
      "|------------ sub-06_ses-day1_desc-ctrTask_spectralFit_all_segments.csv\n",
      "|------------ sub-06_ses-day1_desc-ctrTask_spectralFit_epo-epoch_all_epochs.csv\n",
      "|------------ sub-06_ses-day1_desc-ctrTask_spectralFit_epo-rest_all_epochs.csv\n",
      "|------------ sub-06_ses-day1_desc-ctrTask_spectralFit_epo-task_all_epochs.csv\n",
      "|------------ sub-06_ses-day1_desc-secTask_spectralFit_all_segments.csv\n",
      "|------------ sub-06_ses-day1_desc-secTask_spectralFit_epo-epoch_all_epochs.csv\n",
      "|------------ sub-06_ses-day1_desc-secTask_spectralFit_epo-rest_all_epochs.csv\n",
      "|------------ sub-06_ses-day1_desc-secTask_spectralFit_epo-task_all_epochs.csv\n",
      "|------------ fooof_fit_figures/\n",
      "|------------ fooof_fit_params/\n",
      "|--- sub-07/\n",
      "|------ ses-day1/\n",
      "|--------- sub-07_ses-day1_scans.tsv\n",
      "|--------- PSD_epochs/\n",
      "|------------ sub-07_ses-day1_desc-ctrTask_spectrumPSD_epo-epoch.npz\n",
      "|------------ sub-07_ses-day1_desc-ctrTask_spectrumPSD_epo-rest.npz\n",
      "|------------ sub-07_ses-day1_desc-ctrTask_spectrumPSD_epo-task.npz\n",
      "|------------ sub-07_ses-day1_desc-secTask_spectrumPSD_epo-epoch.npz\n",
      "|------------ sub-07_ses-day1_desc-secTask_spectrumPSD_epo-rest.npz\n",
      "|------------ sub-07_ses-day1_desc-secTask_spectrumPSD_epo-task.npz\n",
      "|--------- ieeg/\n",
      "|------------ sub-07_ses-day1_selectedChannels.tsv\n",
      "|------------ sub-07_ses-day1_task-msl_desc-baselineSegm1_channels.tsv\n",
      "|------------ sub-07_ses-day1_task-msl_desc-baselineSegm1_events.tsv\n",
      "|------------ sub-07_ses-day1_task-msl_desc-baselineSegm1_ieeg.edf\n",
      "|------------ sub-07_ses-day1_task-msl_desc-baselineSegm1_ieeg.json\n",
      "|------------ sub-07_ses-day1_task-msl_desc-baselineSegm2_channels.tsv\n",
      "|------------ sub-07_ses-day1_task-msl_desc-baselineSegm2_events.tsv\n",
      "|------------ sub-07_ses-day1_task-msl_desc-baselineSegm2_ieeg.edf\n",
      "|------------ sub-07_ses-day1_task-msl_desc-baselineSegm2_ieeg.json\n",
      "|------------ sub-07_ses-day1_task-msl_desc-baselineSegm3_channels.tsv\n",
      "|------------ sub-07_ses-day1_task-msl_desc-baselineSegm3_events.tsv\n",
      "|------------ sub-07_ses-day1_task-msl_desc-baselineSegm3_ieeg.edf\n",
      "|------------ sub-07_ses-day1_task-msl_desc-baselineSegm3_ieeg.json\n",
      "|------------ sub-07_ses-day1_task-msl_desc-ctrTask_channels.tsv\n",
      "|------------ sub-07_ses-day1_task-msl_desc-ctrTask_events.tsv\n",
      "|------------ sub-07_ses-day1_task-msl_desc-ctrTask_ieeg.edf\n",
      "|------------ sub-07_ses-day1_task-msl_desc-ctrTask_ieeg.json\n",
      "|------------ sub-07_ses-day1_task-msl_desc-secTask_channels.tsv\n",
      "|------------ sub-07_ses-day1_task-msl_desc-secTask_events.tsv\n",
      "|------------ sub-07_ses-day1_task-msl_desc-secTask_ieeg.edf\n",
      "|------------ sub-07_ses-day1_task-msl_desc-secTask_ieeg.json\n",
      "|--------- spectral_fit/\n",
      "|------------ sub-07_ses-day1_desc-ctrTask_spectralFit_all_segments.csv\n",
      "|------------ sub-07_ses-day1_desc-ctrTask_spectralFit_epo-epoch_all_epochs.csv\n",
      "|------------ sub-07_ses-day1_desc-ctrTask_spectralFit_epo-rest_all_epochs.csv\n",
      "|------------ sub-07_ses-day1_desc-ctrTask_spectralFit_epo-task_all_epochs.csv\n",
      "|------------ sub-07_ses-day1_desc-secTask_spectralFit_all_segments.csv\n",
      "|------------ sub-07_ses-day1_desc-secTask_spectralFit_epo-epoch_all_epochs.csv\n",
      "|------------ sub-07_ses-day1_desc-secTask_spectralFit_epo-rest_all_epochs.csv\n",
      "|------------ sub-07_ses-day1_desc-secTask_spectralFit_epo-task_all_epochs.csv\n",
      "|------------ fooof_fit_figures/\n",
      "|------------ fooof_fit_params/\n",
      "|--- sub-08/\n",
      "|------ ses-day1/\n",
      "|--------- sub-08_ses-day1_scans.tsv\n",
      "|--------- PSD_epochs/\n",
      "|------------ sub-08_ses-day1_desc-ctrTask_spectrumPSD_epo-epoch.npz\n",
      "|------------ sub-08_ses-day1_desc-ctrTask_spectrumPSD_epo-rest.npz\n",
      "|------------ sub-08_ses-day1_desc-ctrTask_spectrumPSD_epo-task.npz\n",
      "|------------ sub-08_ses-day1_desc-secTask_spectrumPSD_epo-epoch.npz\n",
      "|------------ sub-08_ses-day1_desc-secTask_spectrumPSD_epo-rest.npz\n",
      "|------------ sub-08_ses-day1_desc-secTask_spectrumPSD_epo-task.npz\n",
      "|--------- ieeg/\n",
      "|------------ sub-08_ses-day1_selectedChannels.tsv\n",
      "|------------ sub-08_ses-day1_task-msl_desc-baselineSegm1_channels.tsv\n",
      "|------------ sub-08_ses-day1_task-msl_desc-baselineSegm1_events.tsv\n",
      "|------------ sub-08_ses-day1_task-msl_desc-baselineSegm1_ieeg.edf\n",
      "|------------ sub-08_ses-day1_task-msl_desc-baselineSegm1_ieeg.json\n",
      "|------------ sub-08_ses-day1_task-msl_desc-baselineSegm2_channels.tsv\n",
      "|------------ sub-08_ses-day1_task-msl_desc-baselineSegm2_events.tsv\n",
      "|------------ sub-08_ses-day1_task-msl_desc-baselineSegm2_ieeg.edf\n",
      "|------------ sub-08_ses-day1_task-msl_desc-baselineSegm2_ieeg.json\n",
      "|------------ sub-08_ses-day1_task-msl_desc-baselineSegm3_channels.tsv\n",
      "|------------ sub-08_ses-day1_task-msl_desc-baselineSegm3_events.tsv\n",
      "|------------ sub-08_ses-day1_task-msl_desc-baselineSegm3_ieeg.edf\n",
      "|------------ sub-08_ses-day1_task-msl_desc-baselineSegm3_ieeg.json\n",
      "|------------ sub-08_ses-day1_task-msl_desc-ctrTask_channels.tsv\n",
      "|------------ sub-08_ses-day1_task-msl_desc-ctrTask_events.tsv\n",
      "|------------ sub-08_ses-day1_task-msl_desc-ctrTask_ieeg.edf\n",
      "|------------ sub-08_ses-day1_task-msl_desc-ctrTask_ieeg.json\n",
      "|------------ sub-08_ses-day1_task-msl_desc-secTask_channels.tsv\n",
      "|------------ sub-08_ses-day1_task-msl_desc-secTask_events.tsv\n",
      "|------------ sub-08_ses-day1_task-msl_desc-secTask_ieeg.edf\n",
      "|------------ sub-08_ses-day1_task-msl_desc-secTask_ieeg.json\n",
      "|--------- spectral_fit/\n",
      "|------------ sub-08_ses-day1_desc-ctrTask_spectralFit_all_segments.csv\n",
      "|------------ sub-08_ses-day1_desc-ctrTask_spectralFit_epo-epoch_all_epochs.csv\n",
      "|------------ sub-08_ses-day1_desc-ctrTask_spectralFit_epo-rest_all_epochs.csv\n",
      "|------------ sub-08_ses-day1_desc-ctrTask_spectralFit_epo-task_all_epochs.csv\n",
      "|------------ sub-08_ses-day1_desc-secTask_spectralFit_all_segments.csv\n",
      "|------------ sub-08_ses-day1_desc-secTask_spectralFit_epo-epoch_all_epochs.csv\n",
      "|------------ sub-08_ses-day1_desc-secTask_spectralFit_epo-rest_all_epochs.csv\n",
      "|------------ sub-08_ses-day1_desc-secTask_spectralFit_epo-task_all_epochs.csv\n",
      "|------------ fooof_fit_figures/\n",
      "|------------ fooof_fit_params/\n",
      "|--- sub-09/\n",
      "|------ ses-day1/\n",
      "|--------- sub-09_ses-day1_scans.tsv\n",
      "|--------- PSD_epochs/\n",
      "|------------ sub-09_ses-day1_desc-ctrTask_spectrumPSD_epo-epoch.npz\n",
      "|------------ sub-09_ses-day1_desc-ctrTask_spectrumPSD_epo-rest.npz\n",
      "|------------ sub-09_ses-day1_desc-ctrTask_spectrumPSD_epo-task.npz\n",
      "|------------ sub-09_ses-day1_desc-secTask_spectrumPSD_epo-epoch.npz\n",
      "|------------ sub-09_ses-day1_desc-secTask_spectrumPSD_epo-rest.npz\n",
      "|------------ sub-09_ses-day1_desc-secTask_spectrumPSD_epo-task.npz\n",
      "|--------- ieeg/\n",
      "|------------ sub-09_ses-day1_selectedChannels.tsv\n",
      "|------------ sub-09_ses-day1_task-msl_desc-baselineSegm1_channels.tsv\n",
      "|------------ sub-09_ses-day1_task-msl_desc-baselineSegm1_events.tsv\n",
      "|------------ sub-09_ses-day1_task-msl_desc-baselineSegm1_ieeg.edf\n",
      "|------------ sub-09_ses-day1_task-msl_desc-baselineSegm1_ieeg.json\n",
      "|------------ sub-09_ses-day1_task-msl_desc-baselineSegm2_channels.tsv\n",
      "|------------ sub-09_ses-day1_task-msl_desc-baselineSegm2_events.tsv\n",
      "|------------ sub-09_ses-day1_task-msl_desc-baselineSegm2_ieeg.edf\n",
      "|------------ sub-09_ses-day1_task-msl_desc-baselineSegm2_ieeg.json\n",
      "|------------ sub-09_ses-day1_task-msl_desc-baselineSegm3_channels.tsv\n",
      "|------------ sub-09_ses-day1_task-msl_desc-baselineSegm3_events.tsv\n",
      "|------------ sub-09_ses-day1_task-msl_desc-baselineSegm3_ieeg.edf\n",
      "|------------ sub-09_ses-day1_task-msl_desc-baselineSegm3_ieeg.json\n",
      "|------------ sub-09_ses-day1_task-msl_desc-ctrTask_channels.tsv\n",
      "|------------ sub-09_ses-day1_task-msl_desc-ctrTask_events.tsv\n",
      "|------------ sub-09_ses-day1_task-msl_desc-ctrTask_ieeg.edf\n",
      "|------------ sub-09_ses-day1_task-msl_desc-ctrTask_ieeg.json\n",
      "|------------ sub-09_ses-day1_task-msl_desc-secTask_channels.tsv\n",
      "|------------ sub-09_ses-day1_task-msl_desc-secTask_events.tsv\n",
      "|------------ sub-09_ses-day1_task-msl_desc-secTask_ieeg.edf\n",
      "|------------ sub-09_ses-day1_task-msl_desc-secTask_ieeg.json\n",
      "|--------- spectral_fit/\n",
      "|------------ sub-09_ses-day1_desc-ctrTask_spectralFit_all_segments.csv\n",
      "|------------ sub-09_ses-day1_desc-ctrTask_spectralFit_epo-epoch_all_epochs.csv\n",
      "|------------ sub-09_ses-day1_desc-ctrTask_spectralFit_epo-rest_all_epochs.csv\n",
      "|------------ sub-09_ses-day1_desc-ctrTask_spectralFit_epo-task_all_epochs.csv\n",
      "|------------ sub-09_ses-day1_desc-secTask_spectralFit_all_segments.csv\n",
      "|------------ sub-09_ses-day1_desc-secTask_spectralFit_epo-epoch_all_epochs.csv\n",
      "|------------ sub-09_ses-day1_desc-secTask_spectralFit_epo-rest_all_epochs.csv\n",
      "|------------ sub-09_ses-day1_desc-secTask_spectralFit_epo-task_all_epochs.csv\n",
      "|------------ fooof_fit_figures/\n",
      "|------------ fooof_fit_params/\n",
      "[BIDSPath(\n",
      "root: /home/lfa-01/Documentos/Datos_Proyecto_LFA-ENYS_BIDS\n",
      "datatype: ieeg\n",
      "basename: sub-03_ses-day1_task-msl_ieeg.edf)]\n"
     ]
    }
   ],
   "source": [
    "deriv_bids_root = '/home/lfa-01/Documentos/Derivatives_Proyecto_LFA-ENYS_BIDS'\n",
    "mne_bids.print_dir_tree(deriv_bids_root, max_depth=4)\n",
    "\n",
    "bids_path = mne_bids.BIDSPath(root=bids_root, subject = subjects[idx_sub], task = tasks[idx_task], session=session, suffix=suffix, datatype=datatype)\n",
    "print(bids_path.match(ignore_json=True))"
   ]
  },
  {
   "cell_type": "code",
   "execution_count": 8,
   "metadata": {},
   "outputs": [
    {
     "name": "stdout",
     "output_type": "stream",
     "text": [
      "[BIDSPath(\n",
      "root: /home/lfa-01/Documentos/Derivatives_Proyecto_LFA-ENYS_BIDS\n",
      "datatype: ieeg\n",
      "basename: sub-03_ses-day1_task-msl_desc-baselineSegm1_ieeg.edf), BIDSPath(\n",
      "root: /home/lfa-01/Documentos/Derivatives_Proyecto_LFA-ENYS_BIDS\n",
      "datatype: ieeg\n",
      "basename: sub-03_ses-day1_task-msl_desc-baselineSegm2_ieeg.edf), BIDSPath(\n",
      "root: /home/lfa-01/Documentos/Derivatives_Proyecto_LFA-ENYS_BIDS\n",
      "datatype: ieeg\n",
      "basename: sub-03_ses-day1_task-msl_desc-baselineSegm3_ieeg.edf), BIDSPath(\n",
      "root: /home/lfa-01/Documentos/Derivatives_Proyecto_LFA-ENYS_BIDS\n",
      "datatype: ieeg\n",
      "basename: sub-03_ses-day1_task-msl_desc-ctrTask_ieeg.edf), BIDSPath(\n",
      "root: /home/lfa-01/Documentos/Derivatives_Proyecto_LFA-ENYS_BIDS\n",
      "datatype: ieeg\n",
      "basename: sub-03_ses-day1_task-msl_desc-secTask_ieeg.edf)]\n"
     ]
    }
   ],
   "source": [
    "# Se identifica el archivo a levantar\n",
    "deriv_bids_path = mne_bids.BIDSPath(root=deriv_bids_root, subject = subjects[idx_sub], task = tasks[idx_task], \n",
    "                                    session=session, suffix=suffix, datatype=datatype)\n",
    "print(deriv_bids_path.match(ignore_json=True))"
   ]
  },
  {
   "cell_type": "markdown",
   "metadata": {},
   "source": [
    "Se lee el archivo .edf especificado como un objeto MNE"
   ]
  },
  {
   "cell_type": "code",
   "execution_count": 17,
   "metadata": {},
   "outputs": [
    {
     "name": "stderr",
     "output_type": "stream",
     "text": [
      "/tmp/ipykernel_115163/3246288057.py:1: RuntimeWarning: Did not find any electrodes.tsv associated with sub-03_ses-day1_task-msl.\n",
      "\n",
      "The search_str was \"/home/lfa-01/Documentos/Datos_Proyecto_LFA-ENYS_BIDS/sub-03/**/ieeg/sub-03_ses-day1*electrodes.tsv\"\n",
      "  raw_mne = mne_bids.read_raw_bids(bids_path=bids_path, verbose=False)\n",
      "/tmp/ipykernel_115163/3246288057.py:1: RuntimeWarning: Did not find any coordsystem.json associated with sub-03_ses-day1_task-msl.\n",
      "\n",
      "The search_str was \"/home/lfa-01/Documentos/Datos_Proyecto_LFA-ENYS_BIDS/sub-03/**/ieeg/sub-03_ses-day1*coordsystem.json\"\n",
      "  raw_mne = mne_bids.read_raw_bids(bids_path=bids_path, verbose=False)\n"
     ]
    }
   ],
   "source": [
    "raw_mne = mne_bids.read_raw_bids(bids_path=bids_path, verbose=False)\n",
    "srate = raw_mne.info['sfreq']"
   ]
  },
  {
   "cell_type": "markdown",
   "metadata": {},
   "source": [
    "Se levanta lista de canales de interes, en particular lo ubicados en hipocampo/s"
   ]
  },
  {
   "cell_type": "code",
   "execution_count": 24,
   "metadata": {},
   "outputs": [
    {
     "name": "stdout",
     "output_type": "stream",
     "text": [
      "/home/lfa-01/Documentos/Derivatives_Proyecto_LFA-ENYS_BIDS/sub-03/ses-day1/ieeg/sub-03_ses-day1_selectedChannels.tsv\n",
      "['HCD1', 'HCD2', 'HQD1', 'HQD2', 'HCI1', 'HCI2', 'HQI1']\n"
     ]
    }
   ],
   "source": [
    "# Se levantan los canales a utilizar en el registro correspondiente\n",
    "select_chann_fname = str(deriv_bids_path.directory) + '/sub-' + subjects[idx_sub] + '_ses-' + session + '_selectedChannels' + '.tsv'\n",
    "print(select_chann_fname)\n",
    "chann_select_aux = pd.read_csv(select_chann_fname, delimiter='\\t')\n",
    "chann_select = chann_select_aux['name'].to_list()\n",
    "print(chann_select)"
   ]
  },
  {
   "cell_type": "code",
   "execution_count": 30,
   "metadata": {},
   "outputs": [
    {
     "name": "stdout",
     "output_type": "stream",
     "text": [
      "<Info | 8 non-empty values\n",
      " bads: []\n",
      " ch_names: HCD1, HCD2, HQD1, HQD2, HCI1, HCI2, HQI1\n",
      " chs: 7 sEEG\n",
      " custom_ref_applied: False\n",
      " highpass: 0.0 Hz\n",
      " lowpass: 1000.0 Hz\n",
      " meas_date: 2023-04-24 13:16:42 UTC\n",
      " nchan: 7\n",
      " projs: []\n",
      " sfreq: 2000.0 Hz\n",
      " subject_info: 5 items (dict)\n",
      ">\n"
     ]
    }
   ],
   "source": [
    "raw_mne_select_channs = raw_mne.copy().pick(chann_select)\n",
    "print(raw_mne_select_channs.info)"
   ]
  },
  {
   "cell_type": "markdown",
   "metadata": {},
   "source": [
    "Prueba para ver como puedo hacer re-referenciacion bipolar entre canales "
   ]
  },
  {
   "cell_type": "code",
   "execution_count": 31,
   "metadata": {},
   "outputs": [
    {
     "name": "stdout",
     "output_type": "stream",
     "text": [
      "sEEG channel type selected for re-referencing\n",
      "Creating RawArray with float64 data, n_channels=1, n_times=4628000\n",
      "    Range : 0 ... 4627999 =      0.000 ...  2313.999 secs\n",
      "Ready.\n",
      "Added the following bipolar channels:\n",
      "HCD1-HCD2\n"
     ]
    }
   ],
   "source": [
    "raw_mne_select_channs.load_data()\n",
    "raw_mne_select_channs_rref = mne.set_bipolar_reference(raw_mne_select_channs, ['HCD1'],['HCD2'],drop_refs=False)"
   ]
  },
  {
   "cell_type": "code",
   "execution_count": 32,
   "metadata": {},
   "outputs": [
    {
     "name": "stdout",
     "output_type": "stream",
     "text": [
      "<Info | 10 non-empty values\n",
      " bads: []\n",
      " ch_names: HCD1, HCD2, HQD1, HQD2, HCI1, HCI2, HQI1, HCD1-HCD2\n",
      " chs: 8 sEEG\n",
      " custom_ref_applied: True\n",
      " dig: 0 items\n",
      " highpass: 0.0 Hz\n",
      " lowpass: 1000.0 Hz\n",
      " meas_date: 2023-04-24 13:16:42 UTC\n",
      " nchan: 8\n",
      " projs: []\n",
      " sfreq: 2000.0 Hz\n",
      " subject_info: 5 items (dict)\n",
      ">\n"
     ]
    },
    {
     "data": {
      "text/plain": [
       "['HCD1', 'HCD2', 'HQD1', 'HQD2', 'HCI1', 'HCI2', 'HQI1', 'HCD1-HCD2']"
      ]
     },
     "execution_count": 32,
     "metadata": {},
     "output_type": "execute_result"
    }
   ],
   "source": [
    "print(raw_mne_select_channs_rref.info)\n",
    "raw_mne_select_channs_rref.info['ch_names']"
   ]
  },
  {
   "cell_type": "code",
   "execution_count": 33,
   "metadata": {},
   "outputs": [
    {
     "name": "stdout",
     "output_type": "stream",
     "text": [
      "Using qt as 2D backend.\n",
      "Channels marked as bad:\n",
      "none\n"
     ]
    },
    {
     "data": {
      "text/plain": [
       "<mne_qt_browser._pg_figure.MNEQtBrowser at 0x7f70170fb5c0>"
      ]
     },
     "execution_count": 33,
     "metadata": {},
     "output_type": "execute_result"
    }
   ],
   "source": [
    "raw_mne_select_channs_rref.plot(n_channels=10, scalings=dict(eeg=20e-5), start=0, duration=10, block=True)"
   ]
  },
  {
   "cell_type": "markdown",
   "metadata": {},
   "source": [
    "## Identificacion de IISs (Inter-Ictal Spikes)"
   ]
  },
  {
   "cell_type": "code",
   "execution_count": 97,
   "metadata": {},
   "outputs": [
    {
     "name": "stdout",
     "output_type": "stream",
     "text": [
      "<Info | 8 non-empty values\n",
      " bads: []\n",
      " ch_names: HQUI1\n",
      " chs: 1 sEEG\n",
      " custom_ref_applied: False\n",
      " highpass: 0.0 Hz\n",
      " lowpass: 1000.0 Hz\n",
      " meas_date: 2022-12-28 13:19:52 UTC\n",
      " nchan: 1\n",
      " projs: []\n",
      " sfreq: 2000.0 Hz\n",
      " subject_info: 4 items (dict)\n",
      ">\n",
      "Channels marked as bad:\n",
      "none\n"
     ]
    },
    {
     "data": {
      "text/plain": [
       "<mne_qt_browser._pg_figure.MNEQtBrowser at 0x7f23086d1510>"
      ]
     },
     "execution_count": 97,
     "metadata": {},
     "output_type": "execute_result"
    }
   ],
   "source": [
    "# channel index from selected channels\n",
    "chann_idxs = 9\n",
    "\n",
    "raw_mne_selected_channel = raw_mne.copy().pick(chann_select[chann_idxs])\n",
    "print(raw_mne_selected_channel.info)\n",
    "\n",
    "raw_mne_selected_channel.plot(n_channels=10, scalings=dict(eeg=20e-5), start=0, duration=10, block=True)\n"
   ]
  },
  {
   "cell_type": "markdown",
   "metadata": {},
   "source": [
    "### Antes de la detección hay que aplicarle el filtrado notch y pasabanda a los datos raw para eliminar ruido de linea y acotar en banda"
   ]
  },
  {
   "cell_type": "code",
   "execution_count": 98,
   "metadata": {},
   "outputs": [
    {
     "name": "stdout",
     "output_type": "stream",
     "text": [
      "Reading 0 ... 3833999  =      0.000 ...  1916.999 secs...\n"
     ]
    },
    {
     "name": "stdout",
     "output_type": "stream",
     "text": [
      "Filtering raw data in 1 contiguous segment\n",
      "Setting up band-stop filter\n",
      "\n",
      "FIR filter parameters\n",
      "---------------------\n",
      "Designing a one-pass, zero-phase, non-causal bandstop filter:\n",
      "- Windowed time-domain design (firwin) method\n",
      "- Hamming window with 0.0194 passband ripple and 53 dB stopband attenuation\n",
      "- Lower transition bandwidth: 0.50 Hz\n",
      "- Upper transition bandwidth: 0.50 Hz\n",
      "- Filter length: 13201 samples (6.601 s)\n",
      "\n",
      "Filtering raw data in 1 contiguous segment\n",
      "Setting up band-pass filter from 0.01 - 3e+02 Hz\n",
      "\n",
      "FIR filter parameters\n",
      "---------------------\n",
      "Designing a one-pass, zero-phase, non-causal bandpass filter:\n",
      "- Windowed time-domain design (firwin) method\n",
      "- Hamming window with 0.0194 passband ripple and 53 dB stopband attenuation\n",
      "- Lower passband edge: 0.01\n",
      "- Lower transition bandwidth: 0.01 Hz (-6 dB cutoff frequency: 0.01 Hz)\n",
      "- Upper passband edge: 300.00 Hz\n",
      "- Upper transition bandwidth: 75.00 Hz (-6 dB cutoff frequency: 337.50 Hz)\n",
      "- Filter length: 660001 samples (330.000 s)\n",
      "\n"
     ]
    },
    {
     "data": {
      "text/html": [
       "<table class=\"table table-hover table-striped table-sm table-responsive small\">\n",
       "    <tr>\n",
       "        <th>Measurement date</th>\n",
       "        \n",
       "        <td>diciembre 28, 2022  13:19:52 GMT</td>\n",
       "        \n",
       "    </tr>\n",
       "    <tr>\n",
       "        <th>Experimenter</th>\n",
       "        \n",
       "        <td>Unknown</td>\n",
       "        \n",
       "    </tr>\n",
       "        <th>Participant</th>\n",
       "        \n",
       "            \n",
       "            <td>sub-07</td>\n",
       "            \n",
       "        \n",
       "    </tr>\n",
       "    <tr>\n",
       "        <th>Digitized points</th>\n",
       "        \n",
       "        <td>Not available</td>\n",
       "        \n",
       "    </tr>\n",
       "    <tr>\n",
       "        <th>Good channels</th>\n",
       "        <td>1 sEEG</td>\n",
       "    </tr>\n",
       "    <tr>\n",
       "        <th>Bad channels</th>\n",
       "        <td>None</td>\n",
       "    </tr>\n",
       "    <tr>\n",
       "        <th>EOG channels</th>\n",
       "        <td>Not available</td>\n",
       "    </tr>\n",
       "    <tr>\n",
       "        <th>ECG channels</th>\n",
       "        <td>Not available</td>\n",
       "    \n",
       "    <tr>\n",
       "        <th>Sampling frequency</th>\n",
       "        <td>2000.00 Hz</td>\n",
       "    </tr>\n",
       "    \n",
       "    \n",
       "    <tr>\n",
       "        <th>Highpass</th>\n",
       "        <td>0.01 Hz</td>\n",
       "    </tr>\n",
       "    \n",
       "    \n",
       "    <tr>\n",
       "        <th>Lowpass</th>\n",
       "        <td>300.00 Hz</td>\n",
       "    </tr>\n",
       "    \n",
       "    \n",
       "    \n",
       "    <tr>\n",
       "        <th>Filenames</th>\n",
       "        <td>sub-07_ses-day1_task-msl_ieeg.edf</td>\n",
       "    </tr>\n",
       "    \n",
       "    <tr>\n",
       "        <th>Duration</th>\n",
       "        <td>00:31:57 (HH:MM:SS)</td>\n",
       "    </tr>\n",
       "</table>"
      ],
      "text/plain": [
       "<RawEDF | sub-07_ses-day1_task-msl_ieeg.edf, 1 x 3834000 (1917.0 s), ~29.3 MB, data loaded>"
      ]
     },
     "execution_count": 98,
     "metadata": {},
     "output_type": "execute_result"
    }
   ],
   "source": [
    "notch_freqs = [50, 100, 150, 200, 250]\n",
    "PB_min = 0.01\n",
    "PB_max = 300\n",
    "filt_mne_selected_channel = raw_mne_selected_channel.load_data().copy().notch_filter(freqs=notch_freqs)\n",
    "filt_mne_selected_channel.filter(l_freq=PB_min, h_freq=PB_max)"
   ]
  },
  {
   "cell_type": "code",
   "execution_count": 99,
   "metadata": {},
   "outputs": [
    {
     "name": "stdout",
     "output_type": "stream",
     "text": [
      "Channels marked as bad:\n",
      "none\n"
     ]
    },
    {
     "data": {
      "text/plain": [
       "<mne_qt_browser._pg_figure.MNEQtBrowser at 0x7f2308719360>"
      ]
     },
     "execution_count": 99,
     "metadata": {},
     "output_type": "execute_result"
    }
   ],
   "source": [
    "filt_mne_selected_channel.plot(n_channels=10, scalings=dict(eeg=20e-5), start=0, duration=10, block=True)"
   ]
  },
  {
   "cell_type": "markdown",
   "metadata": {},
   "source": [
    "Extract filtered data"
   ]
  },
  {
   "cell_type": "code",
   "execution_count": 100,
   "metadata": {},
   "outputs": [],
   "source": [
    "seeg_data_single_chann, times = filt_mne_selected_channel[:, :]"
   ]
  },
  {
   "cell_type": "markdown",
   "metadata": {},
   "source": [
    "## Identificación de Inter-Ictal spikes"
   ]
  },
  {
   "cell_type": "code",
   "execution_count": 101,
   "metadata": {},
   "outputs": [],
   "source": [
    "# Instantiate SpikeWaveDetectorClass\n",
    "IIS_det = SpikeWaveDetectorClass.SpikeWaveDetectorClass(int(srate))"
   ]
  },
  {
   "cell_type": "code",
   "execution_count": 102,
   "metadata": {},
   "outputs": [],
   "source": [
    "peak_times, peak_stats = IIS_det.detect_times(seeg_data_single_chann, True)"
   ]
  },
  {
   "cell_type": "code",
   "execution_count": 103,
   "metadata": {},
   "outputs": [
    {
     "name": "stdout",
     "output_type": "stream",
     "text": [
      "194\n",
      "[   9112.   15887.   16095.   16298.   16801.   16954.   80430.   80926.\n",
      "  168978.  169159.  218415.  238116.  328004.  328336.  342646.  342851.\n",
      "  371623.  372633.  374046.  438270.  440291.  480455.  527825.  566044.\n",
      "  574457.  576020.  576191.  576305.  576430.  636862.  640109.  747290.\n",
      "  761565.  785701.  792290.  880682.  907149.  924032. 1065352. 1094384.\n",
      " 1102087. 1169780. 1195551. 1196158. 1196323. 1201651. 1213272. 1231281.\n",
      " 1248033. 1371206. 1401205. 1517489. 1555176. 1584302. 1584507. 1584775.\n",
      " 1584918. 1585226. 1585698. 1587075. 1601402. 1603948. 1645222. 1668712.\n",
      " 1688877. 1729458. 1736054. 1762526. 1762674. 1762923. 1784292. 1834770.\n",
      " 1873735. 1875071. 1876013. 1881470. 1884415. 1888510. 1950718. 1988194.\n",
      " 1988538. 1988659. 1988862. 1990394. 2042136. 2069311. 2097672. 2099748.\n",
      " 2100108. 2100216. 2100671. 2101013. 2101978. 2113424. 2174162. 2174619.\n",
      " 2175079. 2321780. 2330585. 2340119. 2340376. 2345791. 2350886. 2363260.\n",
      " 2363919. 2364645. 2400358. 2411092. 2427996. 2436355. 2474021. 2474202.\n",
      " 2479186. 2479289. 2479606. 2484516. 2501885. 2503443. 2569945. 2570169.\n",
      " 2588503. 2591798. 2593202. 2638962. 2645390. 2645889. 2646939. 2652074.\n",
      " 2702375. 2702608. 2754249. 2785619. 2857204. 2963645. 2999987. 3000041.\n",
      " 3012823. 3039151. 3039357. 3039906. 3069242. 3116966. 3155266. 3157211.\n",
      " 3169135. 3175033. 3221368. 3221584. 3222094. 3222247. 3222897. 3223122.\n",
      " 3284761. 3285172. 3287667. 3287938. 3288529. 3293061. 3293282. 3293568.\n",
      " 3300552. 3360264. 3374099. 3374288. 3388600. 3420217. 3420801. 3459118.\n",
      " 3459456. 3460108. 3481123. 3514338. 3514549. 3515276. 3516647. 3572483.\n",
      " 3573577. 3573832. 3582447. 3593588. 3593961. 3653393. 3653567. 3653767.\n",
      " 3654636. 3654982. 3664602. 3664871. 3665758. 3665913. 3666106. 3666647.\n",
      " 3731824. 3735588.]\n"
     ]
    }
   ],
   "source": [
    "print(len(peak_times))\n",
    "print(peak_times)"
   ]
  },
  {
   "cell_type": "code",
   "execution_count": 46,
   "metadata": {},
   "outputs": [
    {
     "name": "stdout",
     "output_type": "stream",
     "text": [
      "dict_keys(['zscores_per_peaks_max', 'zscores_per_peaks_env', 'zscores_per_peaks_amp', 'zscores_per_peaks_grad', 'inds_per_peak', 'passed_conditions'])\n",
      "96\n",
      "96\n",
      "96\n",
      "96\n",
      "96\n",
      "96\n",
      "<class 'list'>\n",
      "<class 'list'>\n",
      "<class 'list'>\n",
      "<class 'list'>\n",
      "<class 'list'>\n",
      "<class 'list'>\n"
     ]
    }
   ],
   "source": [
    "keys = peak_stats.keys()\n",
    "print(keys)\n",
    "\n",
    "print(len(peak_stats['zscores_per_peaks_max']))\n",
    "print(len(peak_stats['zscores_per_peaks_env']))\n",
    "print(len(peak_stats['zscores_per_peaks_amp']))\n",
    "print(len(peak_stats['zscores_per_peaks_grad']))\n",
    "print(len(peak_stats['inds_per_peak']))\n",
    "print(len(peak_stats['passed_conditions']))\n",
    "\n",
    "print(type(peak_stats['zscores_per_peaks_max']))\n",
    "print(type(peak_stats['zscores_per_peaks_env']))\n",
    "print(type(peak_stats['zscores_per_peaks_amp']))\n",
    "print(type(peak_stats['zscores_per_peaks_grad']))\n",
    "print(type(peak_stats['inds_per_peak']))\n",
    "print(type(peak_stats['passed_conditions']))"
   ]
  },
  {
   "cell_type": "code",
   "execution_count": 33,
   "metadata": {},
   "outputs": [],
   "source": [
    "plot_z_scores = True\n",
    "IIS_det.plot_spike_waves(seeg_data_single_chann, peak_times, 1, peak_stats, plot_z_scores)  "
   ]
  },
  {
   "cell_type": "markdown",
   "metadata": {},
   "source": [
    "## Deteccion de Ripples"
   ]
  },
  {
   "cell_type": "code",
   "execution_count": 104,
   "metadata": {},
   "outputs": [],
   "source": [
    "# Instantiate RippleDetectorClass\n",
    "Ripp_det = RippleDetectorClass.RippleDetectorClass(int(srate))"
   ]
  },
  {
   "cell_type": "code",
   "execution_count": 105,
   "metadata": {},
   "outputs": [],
   "source": [
    "ripple_times, ripple_start_end = Ripp_det.detect_ripple(seeg_data_single_chann, None, peak_times, None)"
   ]
  },
  {
   "cell_type": "code",
   "execution_count": 106,
   "metadata": {},
   "outputs": [
    {
     "data": {
      "text/plain": [
       "145"
      ]
     },
     "execution_count": 106,
     "metadata": {},
     "output_type": "execute_result"
    }
   ],
   "source": [
    "len(ripple_times)"
   ]
  },
  {
   "cell_type": "code",
   "execution_count": null,
   "metadata": {},
   "outputs": [],
   "source": [
    "Ripp_det.plot_ripples(seeg_data_single_chann, ripple_times, None)"
   ]
  },
  {
   "cell_type": "markdown",
   "metadata": {},
   "source": [
    "Distribución de la duración de los ripples posible detectados para ver que tenga sentido "
   ]
  },
  {
   "cell_type": "code",
   "execution_count": 107,
   "metadata": {},
   "outputs": [],
   "source": [
    "ripple_len = np.diff(np.array(ripple_start_end)) / filt_mne_selected_channel.info['sfreq']\n",
    "plt.hist(ripple_len, bins=40)\n",
    "plt.xlabel('Ripple Length [seg]')\n",
    "plt.ylabel('Counts')\n",
    "plt.title('Histogram of Ripple Length')\n",
    "plt.show()\n"
   ]
  },
  {
   "cell_type": "markdown",
   "metadata": {},
   "source": [
    "Construccion de matriz de eventos para visualizar junto con la señal"
   ]
  },
  {
   "cell_type": "code",
   "execution_count": 108,
   "metadata": {},
   "outputs": [
    {
     "name": "stdout",
     "output_type": "stream",
     "text": [
      "[[   1035       0       1]\n",
      " [   3437       0       1]\n",
      " [  10942       0       1]\n",
      " ...\n",
      " [3666647       0       2]\n",
      " [3731824       0       2]\n",
      " [3735588       0       2]]\n"
     ]
    }
   ],
   "source": [
    "events_array = np.column_stack((np.concatenate((ripple_times, peak_times)), np.zeros(len(ripple_times)+len(peak_times)), np.concatenate((np.ones(len(ripple_times)),2*np.ones(len(peak_times))))))\n",
    "\n",
    "events_array = events_array.astype(int)\n",
    "print(events_array)\n",
    "\n",
    "events_id = {'putative_ripple': 1, 'putative_IIS': 2}\n",
    "event_color = {'putative_ripple': 'r', 'putative_IIS': 'k'}"
   ]
  },
  {
   "cell_type": "markdown",
   "metadata": {},
   "source": [
    "Plot de la señal con eventos indicando posicles IIS y ripples"
   ]
  },
  {
   "cell_type": "code",
   "execution_count": 109,
   "metadata": {},
   "outputs": [
    {
     "name": "stdout",
     "output_type": "stream",
     "text": [
      "Channels marked as bad:\n",
      "none\n"
     ]
    },
    {
     "data": {
      "text/plain": [
       "<mne_qt_browser._pg_figure.MNEQtBrowser at 0x7f22f2e37c70>"
      ]
     },
     "execution_count": 109,
     "metadata": {},
     "output_type": "execute_result"
    }
   ],
   "source": [
    "filt_mne_selected_channel.plot(events=events_array, event_id=events_id, event_color=event_color, duration=15,\n",
    "         remove_dc=False, scalings = 'auto', block=True, color=dict(seeg='b'))"
   ]
  },
  {
   "cell_type": "markdown",
   "metadata": {},
   "source": [
    "### Identificación de falsos positivos siguiendo las recomendaciones de Ngo et al., 2020, eLife\n",
    "\n",
    "Para ello:\n",
    "* se toman epocas de +-500ms\n",
    "* se computa tiempo-frecuencia, que se hizo con mutitapers en este caso, en el rango de 65 a 130 Hz (de a 2 Hz), y en toda la ventana temporal cada 2 ms\n",
    "* luego se hace un promedio a lo largo del tiempo entre los +-50ms y se conserva solo el perfil resultante en el rango de frecuencias de interes para los ripples, de 80 a 120 Hz\n",
    "* Mirando el perfil de potencia para cada epoca, se determina el maximo de la potencia promedio y un umbral del 80% de este valor. Si al inicio y al final del perfil hay un descenso por debajo del umbral, se considera un ripples valido. Esto es fundamentalmente porque implica que hay un aumento de la porencia concentrado en ese rango de frecuencias. "
   ]
  },
  {
   "cell_type": "markdown",
   "metadata": {},
   "source": [
    "Epocas"
   ]
  },
  {
   "cell_type": "code",
   "execution_count": 110,
   "metadata": {},
   "outputs": [
    {
     "name": "stdout",
     "output_type": "stream",
     "text": [
      "Not setting metadata\n",
      "339 matching events found\n",
      "Setting baseline interval to [-0.5, 0.0] s\n",
      "Applying baseline correction (mode: mean)\n",
      "0 projection items activated\n",
      "Using data from preloaded Raw for 339 events and 2001 original time points ...\n",
      "0 bad epochs dropped\n"
     ]
    },
    {
     "name": "stderr",
     "output_type": "stream",
     "text": [
      "/tmp/ipykernel_828458/1727979436.py:1: RuntimeWarning: The events passed to the Epochs constructor are not chronologically ordered.\n",
      "  epochs = mne.Epochs(filt_mne_selected_channel, events_array, tmin=-0.5, tmax=0.5, event_id=events_id, preload=True)\n"
     ]
    }
   ],
   "source": [
    "epochs = mne.Epochs(filt_mne_selected_channel, events_array, tmin=-0.5, tmax=0.5, event_id=events_id, preload=True)\n",
    "#epochs = mne.Epochs(raw_mne_selected_channel, events_array, tmin=-0.5, tmax=0.5, event_id=events_id, preload=True)\n"
   ]
  },
  {
   "cell_type": "markdown",
   "metadata": {},
   "source": [
    "Tiempo-frecuencia con multitapers"
   ]
  },
  {
   "cell_type": "code",
   "execution_count": 111,
   "metadata": {},
   "outputs": [
    {
     "name": "stdout",
     "output_type": "stream",
     "text": [
      "[ 65  67  69  71  73  75  77  79  81  83  85  87  89  91  93  95  97  99\n",
      " 101 103 105 107 109 111 113 115 117 119 121 123 125 127 129 131 133 135]\n",
      "[0.002 0.002 0.002 0.002 0.002 0.002 0.002 0.002 0.002 0.002 0.002 0.002\n",
      " 0.002 0.002 0.002 0.002 0.002 0.002 0.002 0.002 0.002 0.002 0.002 0.002\n",
      " 0.002 0.002 0.002 0.002 0.002 0.002 0.002 0.002 0.002 0.002 0.002 0.002]\n"
     ]
    }
   ],
   "source": [
    "min_freq = 65\n",
    "max_freq = 135\n",
    "freqs = np.arange(min_freq, max_freq+2, 2)  # \n",
    "n_cycles = freqs/500\n",
    "t_win = n_cycles / freqs\n",
    "#freq_bins = int((max_freq - min_freq)/2)\n",
    "#freqs = np.logspace(*np.log10([min_freq, max_freq]), num=freq_bins)\n",
    "print(freqs)\n",
    "print(t_win)"
   ]
  },
  {
   "cell_type": "code",
   "execution_count": 112,
   "metadata": {},
   "outputs": [
    {
     "name": "stdout",
     "output_type": "stream",
     "text": [
      "Not setting metadata\n"
     ]
    }
   ],
   "source": [
    "power = mne.time_frequency.tfr_multitaper(\n",
    "    epochs,\n",
    "    freqs = freqs,\n",
    "    n_cycles = freqs,\n",
    "    use_fft = True,\n",
    "    return_itc = False,\n",
    "    average = False,\n",
    "    decim = 2,\n",
    ")"
   ]
  },
  {
   "cell_type": "markdown",
   "metadata": {},
   "source": [
    "Identificacion de un perfil de potencia acorde con los ripples"
   ]
  },
  {
   "cell_type": "code",
   "execution_count": 113,
   "metadata": {},
   "outputs": [],
   "source": [
    "def is_prominent_peak(signal, peak_index):\n",
    "    peak_amplitude = signal[peak_index]\n",
    "    threshold_amplitude = 0.8 * peak_amplitude\n",
    "    \n",
    "    # Check if amplitude at the beginning and end is lower than threshold\n",
    "    beginning_amplitude = signal[0]\n",
    "    end_amplitude = signal[-1]\n",
    "    \n",
    "    return beginning_amplitude <= threshold_amplitude and end_amplitude <= threshold_amplitude"
   ]
  },
  {
   "cell_type": "code",
   "execution_count": 114,
   "metadata": {},
   "outputs": [
    {
     "name": "stdout",
     "output_type": "stream",
     "text": [
      "(145, 20)\n",
      "94.0\n",
      "[1. 1. 1. 1. 1. 0. 1. 1. 1. 0. 0. 1. 1. 1. 1. 0. 0. 0. 0. 1. 1. 1. 1. 1.\n",
      " 1. 1. 1. 1. 0. 0. 1. 0. 1. 1. 0. 0. 0. 1. 1. 1. 1. 1. 1. 1. 0. 0. 0. 1.\n",
      " 1. 1. 1. 1. 0. 1. 0. 0. 1. 1. 1. 1. 1. 1. 1. 1. 1. 0. 0. 1. 1. 1. 1. 1.\n",
      " 0. 0. 1. 1. 1. 0. 1. 1. 1. 1. 1. 0. 0. 1. 1. 0. 1. 1. 1. 1. 1. 0. 0. 0.\n",
      " 0. 0. 0. 1. 1. 1. 1. 0. 0. 0. 0. 1. 1. 1. 1. 1. 1. 1. 0. 0. 0. 0. 1. 0.\n",
      " 0. 0. 1. 1. 1. 1. 1. 1. 0. 0. 0. 1. 1. 1. 0. 1. 1. 1. 1. 1. 1. 1. 0. 0.\n",
      " 0.]\n"
     ]
    }
   ],
   "source": [
    "freq_profile = []\n",
    "valid_ripple = np.zeros(len(power['putative_ripple']))\n",
    "\n",
    "for epoch_trf_idx in range(len(power['putative_ripple'])): \n",
    "    #epoch_trf_idx = 0 # index opf the epoch time-freq representation\n",
    "    \n",
    "    ch_idx = 0 # channel index\n",
    "    #print(power['putative_ripple'][epoch_trf_idx].data[:,ch_idx][0].shape)\n",
    "\n",
    "    data_aux = power['putative_ripple'][epoch_trf_idx].data[:,ch_idx][0]\n",
    "    # me quedo con los datos en la ventana de +-50ms\n",
    "    data_aux = data_aux[:, int(data_aux.shape[1]/2)-50:int(data_aux.shape[1]/2)+50]\n",
    "    #print(data_aux.shape)\n",
    "    data_aux_mean = np.mean(data_aux, axis=1)\n",
    "    #print(data_aux_mean.shape)\n",
    "\n",
    "    # se conservan solo las frecuencias de interes\n",
    "    freqs_interest_idx = np.where((freqs >= 80) & (freqs <= 120))\n",
    "    data_aux_mean = data_aux_mean[freqs_interest_idx]\n",
    "    #print(data_aux_mean.shape)\n",
    "\n",
    "    # concatenate freq_profile with data_aux_mean\n",
    "    freq_profile.append(data_aux_mean)\n",
    "    \n",
    "\n",
    "    '''plt.plot(freqs[freqs_interest_idx], data_aux_mean)\n",
    "    plt.xlabel('Frequency')\n",
    "    plt.ylabel('Mean Data')\n",
    "    plt.title('Mean Data vs Frequency')\n",
    "    plt.show()'''\n",
    "\n",
    "    # Se determina el maximo de la potencia promedio dentro de las frecuencias de interés\n",
    "    # y el umbral del 80% de este valor\n",
    "    '''max_value = np.max(data_aux_mean)\n",
    "    threshold = 0.8 * max_value  # 20% del valor máximo\n",
    "\n",
    "\n",
    "    if data_aux_mean[0] <= threshold and data_aux_mean[-1] <= threshold:\n",
    "        #print(\"Los primer y último puntos muestran una caída de al menos el 20% respecto al valor máximo.\")\n",
    "        valid_ripple[epoch_trf_idx] = 1\n",
    "    #else:\n",
    "        #print(\"Los primer y último puntos no muestran una caída de al menos el 20% respecto al valor máximo.\")\n",
    "    '''\n",
    "    # VARIANTE\n",
    "    peaks, _ = signal.find_peaks(data_aux_mean)\n",
    "    if len(peaks) == 0:\n",
    "        valid_ripple[epoch_trf_idx] = 0\n",
    "    else:\n",
    "        # Get the index of the highest peak\n",
    "        prominent_peak_index = np.argmax(data_aux_mean[peaks])\n",
    "\n",
    "        # Check if the prominent peak is prominent enough\n",
    "        if is_prominent_peak(data_aux_mean, peaks[prominent_peak_index]):\n",
    "            valid_ripple[epoch_trf_idx] = 1\n",
    "        else:\n",
    "            valid_ripple[epoch_trf_idx] = 0\n",
    "\n",
    "\n",
    "freq_profile = np.array(freq_profile)\n",
    "print(freq_profile.shape)\n",
    "print(np.sum(valid_ripple))\n",
    "print(valid_ripple)\n"
   ]
  },
  {
   "cell_type": "markdown",
   "metadata": {},
   "source": [
    "Gráfico de todos los perfiles de potencia como control"
   ]
  },
  {
   "cell_type": "code",
   "execution_count": 115,
   "metadata": {},
   "outputs": [],
   "source": [
    "# Plot all rows of freq_profile\n",
    "freq_profile_valid = freq_profile[valid_ripple == 1]\n",
    "for row in freq_profile_valid:\n",
    "    plt.plot(freqs[freqs_interest_idx], row, alpha=0.2)\n",
    "\n",
    "# Set labels and title\n",
    "plt.xlabel('Frequency')\n",
    "plt.ylabel('Mean Data')\n",
    "plt.title('Mean Data vs Frequency')\n",
    "\n",
    "# Show the plot\n",
    "plt.show()"
   ]
  },
  {
   "cell_type": "code",
   "execution_count": 116,
   "metadata": {},
   "outputs": [
    {
     "name": "stdout",
     "output_type": "stream",
     "text": [
      "Not setting metadata\n",
      "94 matching events found\n",
      "No baseline correction applied\n",
      "0 projection items activated\n"
     ]
    },
    {
     "name": "stderr",
     "output_type": "stream",
     "text": [
      "/tmp/ipykernel_828458/655699615.py:1: RuntimeWarning: Only one channel in group \"seeg\"; cannot combine by method \"mean\".\n",
      "  epochs['putative_ripple'][valid_ripple == 1].plot_image(combine=\"mean\")\n"
     ]
    },
    {
     "name": "stdout",
     "output_type": "stream",
     "text": [
      "combining channels using \"mean\"\n"
     ]
    },
    {
     "name": "stderr",
     "output_type": "stream",
     "text": [
      "/tmp/ipykernel_828458/655699615.py:1: RuntimeWarning: Only 1 channel in \"picks\"; cannot combine by method \"mean\".\n",
      "  epochs['putative_ripple'][valid_ripple == 1].plot_image(combine=\"mean\")\n"
     ]
    },
    {
     "data": {
      "text/plain": [
       "[<Figure size 640x480 with 3 Axes>]"
      ]
     },
     "execution_count": 116,
     "metadata": {},
     "output_type": "execute_result"
    }
   ],
   "source": [
    "epochs['putative_ripple'][valid_ripple == 1].plot_image(combine=\"mean\")"
   ]
  },
  {
   "cell_type": "markdown",
   "metadata": {},
   "source": [
    "Construccion de array de eventos filtrado por los supuestos ripples validos"
   ]
  },
  {
   "cell_type": "code",
   "execution_count": 117,
   "metadata": {},
   "outputs": [
    {
     "name": "stdout",
     "output_type": "stream",
     "text": [
      "[[   1035       0       1]\n",
      " [   3437       0       1]\n",
      " [  10942       0       1]\n",
      " [  12181       0       1]\n",
      " [  13850       0       1]\n",
      " [  19464       0       1]\n",
      " [  36488       0       1]\n",
      " [  73310       0       1]\n",
      " [  76204       0       1]\n",
      " [  76819       0       1]\n",
      " [  77557       0       1]\n",
      " [  79289       0       1]\n",
      " [  85815       0       1]\n",
      " [  86521       0       1]\n",
      " [ 110057       0       1]\n",
      " [ 110208       0       1]\n",
      " [ 110889       0       1]\n",
      " [ 111255       0       1]\n",
      " [ 111794       0       1]\n",
      " [ 113616       0       1]\n",
      " [ 143492       0       1]\n",
      " [ 167698       0       1]\n",
      " [ 329587       0       1]\n",
      " [ 330150       0       1]\n",
      " [ 824073       0       1]\n",
      " [ 824545       0       1]\n",
      " [ 824637       0       1]\n",
      " [ 826036       0       1]\n",
      " [ 826412       0       1]\n",
      " [ 827799       0       1]\n",
      " [ 828790       0       1]\n",
      " [ 854118       0       1]\n",
      " [ 865319       0       1]\n",
      " [ 874962       0       1]\n",
      " [ 875537       0       1]\n",
      " [ 876602       0       1]\n",
      " [ 884040       0       1]\n",
      " [ 888997       0       1]\n",
      " [ 889709       0       1]\n",
      " [ 890022       0       1]\n",
      " [ 890367       0       1]\n",
      " [ 890569       0       1]\n",
      " [ 890912       0       1]\n",
      " [ 891921       0       1]\n",
      " [ 892520       0       1]\n",
      " [ 893893       0       1]\n",
      " [ 898601       0       1]\n",
      " [ 934242       0       1]\n",
      " [ 934403       0       1]\n",
      " [ 942782       0       1]\n",
      " [1095967       0       1]\n",
      " [1637701       0       1]\n",
      " [1764195       0       1]\n",
      " [1994141       0       1]\n",
      " [2176680       0       1]\n",
      " [2203957       0       1]\n",
      " [2206583       0       1]\n",
      " [2206745       0       1]\n",
      " [2294672       0       1]\n",
      " [2295581       0       1]\n",
      " [2296093       0       1]\n",
      " [2297282       0       1]\n",
      " [2300880       0       1]\n",
      " [2316981       0       1]\n",
      " [2318197       0       1]\n",
      " [2323238       0       1]\n",
      " [2500074       0       1]\n",
      " [2500280       0       1]\n",
      " [2589978       0       1]\n",
      " [2967422       0       1]\n",
      " [3243223       0       1]\n",
      " [3274798       0       1]\n",
      " [3286382       0       1]\n",
      " [3295263       0       1]\n",
      " [3297429       0       1]\n",
      " [3297927       0       1]\n",
      " [3298734       0       1]\n",
      " [3423233       0       1]\n",
      " [3428228       0       1]\n",
      " [3429108       0       1]\n",
      " [3453126       0       1]\n",
      " [3454201       0       1]\n",
      " [3454572       0       1]\n",
      " [3455328       0       1]\n",
      " [3461778       0       1]\n",
      " [3462469       0       1]\n",
      " [3463189       0       1]\n",
      " [3517972       0       1]\n",
      " [3576546       0       1]\n",
      " [3583602       0       1]\n",
      " [3595637       0       1]\n",
      " [3667898       0       1]\n",
      " [3668288       0       1]\n",
      " [3668542       0       1]\n",
      " [   9112       0       2]\n",
      " [  15887       0       2]\n",
      " [  16095       0       2]\n",
      " [  16298       0       2]\n",
      " [  16801       0       2]\n",
      " [  16954       0       2]\n",
      " [  80430       0       2]\n",
      " [  80926       0       2]\n",
      " [ 168978       0       2]\n",
      " [ 169159       0       2]\n",
      " [ 218415       0       2]\n",
      " [ 238116       0       2]\n",
      " [ 328004       0       2]\n",
      " [ 328336       0       2]\n",
      " [ 342646       0       2]\n",
      " [ 342851       0       2]\n",
      " [ 371623       0       2]\n",
      " [ 372633       0       2]\n",
      " [ 374046       0       2]\n",
      " [ 438270       0       2]\n",
      " [ 440291       0       2]\n",
      " [ 480455       0       2]\n",
      " [ 527825       0       2]\n",
      " [ 566044       0       2]\n",
      " [ 574457       0       2]\n",
      " [ 576020       0       2]\n",
      " [ 576191       0       2]\n",
      " [ 576305       0       2]\n",
      " [ 576430       0       2]\n",
      " [ 636862       0       2]\n",
      " [ 640109       0       2]\n",
      " [ 747290       0       2]\n",
      " [ 761565       0       2]\n",
      " [ 785701       0       2]\n",
      " [ 792290       0       2]\n",
      " [ 880682       0       2]\n",
      " [ 907149       0       2]\n",
      " [ 924032       0       2]\n",
      " [1065352       0       2]\n",
      " [1094384       0       2]\n",
      " [1102087       0       2]\n",
      " [1169780       0       2]\n",
      " [1195551       0       2]\n",
      " [1196158       0       2]\n",
      " [1196323       0       2]\n",
      " [1201651       0       2]\n",
      " [1213272       0       2]\n",
      " [1231281       0       2]\n",
      " [1248033       0       2]\n",
      " [1371206       0       2]\n",
      " [1401205       0       2]\n",
      " [1517489       0       2]\n",
      " [1555176       0       2]\n",
      " [1584302       0       2]\n",
      " [1584507       0       2]\n",
      " [1584775       0       2]\n",
      " [1584918       0       2]\n",
      " [1585226       0       2]\n",
      " [1585698       0       2]\n",
      " [1587075       0       2]\n",
      " [1601402       0       2]\n",
      " [1603948       0       2]\n",
      " [1645222       0       2]\n",
      " [1668712       0       2]\n",
      " [1688877       0       2]\n",
      " [1729458       0       2]\n",
      " [1736054       0       2]\n",
      " [1762526       0       2]\n",
      " [1762674       0       2]\n",
      " [1762923       0       2]\n",
      " [1784292       0       2]\n",
      " [1834770       0       2]\n",
      " [1873735       0       2]\n",
      " [1875071       0       2]\n",
      " [1876013       0       2]\n",
      " [1881470       0       2]\n",
      " [1884415       0       2]\n",
      " [1888510       0       2]\n",
      " [1950718       0       2]\n",
      " [1988194       0       2]\n",
      " [1988538       0       2]\n",
      " [1988659       0       2]\n",
      " [1988862       0       2]\n",
      " [1990394       0       2]\n",
      " [2042136       0       2]\n",
      " [2069311       0       2]\n",
      " [2097672       0       2]\n",
      " [2099748       0       2]\n",
      " [2100108       0       2]\n",
      " [2100216       0       2]\n",
      " [2100671       0       2]\n",
      " [2101013       0       2]\n",
      " [2101978       0       2]\n",
      " [2113424       0       2]\n",
      " [2174162       0       2]\n",
      " [2174619       0       2]\n",
      " [2175079       0       2]\n",
      " [2321780       0       2]\n",
      " [2330585       0       2]\n",
      " [2340119       0       2]\n",
      " [2340376       0       2]\n",
      " [2345791       0       2]\n",
      " [2350886       0       2]\n",
      " [2363260       0       2]\n",
      " [2363919       0       2]\n",
      " [2364645       0       2]\n",
      " [2400358       0       2]\n",
      " [2411092       0       2]\n",
      " [2427996       0       2]\n",
      " [2436355       0       2]\n",
      " [2474021       0       2]\n",
      " [2474202       0       2]\n",
      " [2479186       0       2]\n",
      " [2479289       0       2]\n",
      " [2479606       0       2]\n",
      " [2484516       0       2]\n",
      " [2501885       0       2]\n",
      " [2503443       0       2]\n",
      " [2569945       0       2]\n",
      " [2570169       0       2]\n",
      " [2588503       0       2]\n",
      " [2591798       0       2]\n",
      " [2593202       0       2]\n",
      " [2638962       0       2]\n",
      " [2645390       0       2]\n",
      " [2645889       0       2]\n",
      " [2646939       0       2]\n",
      " [2652074       0       2]\n",
      " [2702375       0       2]\n",
      " [2702608       0       2]\n",
      " [2754249       0       2]\n",
      " [2785619       0       2]\n",
      " [2857204       0       2]\n",
      " [2963645       0       2]\n",
      " [2999987       0       2]\n",
      " [3000041       0       2]\n",
      " [3012823       0       2]\n",
      " [3039151       0       2]\n",
      " [3039357       0       2]\n",
      " [3039906       0       2]\n",
      " [3069242       0       2]\n",
      " [3116966       0       2]\n",
      " [3155266       0       2]\n",
      " [3157211       0       2]\n",
      " [3169135       0       2]\n",
      " [3175033       0       2]\n",
      " [3221368       0       2]\n",
      " [3221584       0       2]\n",
      " [3222094       0       2]\n",
      " [3222247       0       2]\n",
      " [3222897       0       2]\n",
      " [3223122       0       2]\n",
      " [3284761       0       2]\n",
      " [3285172       0       2]\n",
      " [3287667       0       2]\n",
      " [3287938       0       2]\n",
      " [3288529       0       2]\n",
      " [3293061       0       2]\n",
      " [3293282       0       2]\n",
      " [3293568       0       2]\n",
      " [3300552       0       2]\n",
      " [3360264       0       2]\n",
      " [3374099       0       2]\n",
      " [3374288       0       2]\n",
      " [3388600       0       2]\n",
      " [3420217       0       2]\n",
      " [3420801       0       2]\n",
      " [3459118       0       2]\n",
      " [3459456       0       2]\n",
      " [3460108       0       2]\n",
      " [3481123       0       2]\n",
      " [3514338       0       2]\n",
      " [3514549       0       2]\n",
      " [3515276       0       2]\n",
      " [3516647       0       2]\n",
      " [3572483       0       2]\n",
      " [3573577       0       2]\n",
      " [3573832       0       2]\n",
      " [3582447       0       2]\n",
      " [3593588       0       2]\n",
      " [3593961       0       2]\n",
      " [3653393       0       2]\n",
      " [3653567       0       2]\n",
      " [3653767       0       2]\n",
      " [3654636       0       2]\n",
      " [3654982       0       2]\n",
      " [3664602       0       2]\n",
      " [3664871       0       2]\n",
      " [3665758       0       2]\n",
      " [3665913       0       2]\n",
      " [3666106       0       2]\n",
      " [3666647       0       2]\n",
      " [3731824       0       2]\n",
      " [3735588       0       2]]\n"
     ]
    }
   ],
   "source": [
    "events_array_valid = np.column_stack((np.concatenate(([ripple_times[i] for i in np.where(valid_ripple)[0]], peak_times)), \n",
    "                                      np.zeros(len([ripple_times[i] for i in np.where(valid_ripple)[0]])+len(peak_times)), \n",
    "                                      np.concatenate((np.ones(len([ripple_times[i] for i in np.where(valid_ripple)[0]])),\n",
    "                                                      2*np.ones(len(peak_times))))))\n",
    "\n",
    "events_array_valid = events_array_valid.astype(int)\n",
    "print(events_array_valid)\n",
    "\n",
    "events_id = {'putative_ripple': 1, 'putative_IIS': 2}\n",
    "event_color = {'putative_ripple': 'r', 'putative_IIS': 'k'}"
   ]
  },
  {
   "cell_type": "code",
   "execution_count": 92,
   "metadata": {},
   "outputs": [
    {
     "name": "stdout",
     "output_type": "stream",
     "text": [
      "Channels marked as bad:\n",
      "none\n"
     ]
    },
    {
     "data": {
      "text/plain": [
       "<mne_qt_browser._pg_figure.MNEQtBrowser at 0x7f2308a4f520>"
      ]
     },
     "execution_count": 92,
     "metadata": {},
     "output_type": "execute_result"
    }
   ],
   "source": [
    "filt_mne_selected_channel.plot(events=events_array_valid, event_id=events_id, event_color=event_color, duration=15,\n",
    "         remove_dc=False, scalings = 'auto', block=True, color=dict(seeg='b'))"
   ]
  },
  {
   "cell_type": "markdown",
   "metadata": {},
   "source": [
    "Potencia promedio incluyendo solo las epocas validas"
   ]
  },
  {
   "cell_type": "code",
   "execution_count": 118,
   "metadata": {},
   "outputs": [
    {
     "name": "stdout",
     "output_type": "stream",
     "text": [
      "NOTE: pick_channels() is a legacy function. New code should use inst.pick(...).\n",
      "No baseline correction applied\n"
     ]
    },
    {
     "data": {
      "text/plain": [
       "[<Figure size 640x480 with 2 Axes>]"
      ]
     },
     "execution_count": 118,
     "metadata": {},
     "output_type": "execute_result"
    }
   ],
   "source": [
    "power['putative_ripple'][valid_ripple == 1].average().plot()\n",
    "#power['putative_ripple'][0].plot()"
   ]
  },
  {
   "cell_type": "markdown",
   "metadata": {},
   "source": [
    "Aca se realiza un nuevo analisis tiempo frecuencia, pero ahora con waveletes y normalizando respecto a un baseline arbitrario para verificar que se observa una representación consistente con la existencia de ripples"
   ]
  },
  {
   "cell_type": "code",
   "execution_count": 119,
   "metadata": {},
   "outputs": [],
   "source": [
    "freqs_wvlt = np.logspace(*np.log10([60, 160]), num=30)\n",
    "n_cycles_wvlt = freqs_wvlt / 2.0  # different number of cycle per frequency\n",
    "power_wvlt, itc_wvlt = mne.time_frequency.tfr_morlet(\n",
    "    epochs['putative_ripple'][valid_ripple == 1], # filtrada de acuerdo a ripples validos\n",
    "    freqs=freqs_wvlt,\n",
    "    n_cycles=n_cycles_wvlt,\n",
    "    use_fft=True,\n",
    "    return_itc=True,\n",
    "    decim=3,\n",
    "    n_jobs=None,\n",
    ")"
   ]
  },
  {
   "cell_type": "code",
   "execution_count": 120,
   "metadata": {},
   "outputs": [
    {
     "name": "stdout",
     "output_type": "stream",
     "text": [
      "NOTE: pick_channels() is a legacy function. New code should use inst.pick(...).\n",
      "Applying baseline correction (mode: logratio)\n"
     ]
    },
    {
     "data": {
      "text/plain": [
       "[<Figure size 640x480 with 2 Axes>]"
      ]
     },
     "execution_count": 120,
     "metadata": {},
     "output_type": "execute_result"
    }
   ],
   "source": [
    "#power_wvlt.plot()\n",
    "power_wvlt.plot(baseline=(-0.5, -0.2), mode=\"logratio\")"
   ]
  },
  {
   "cell_type": "markdown",
   "metadata": {},
   "source": [
    "### Visualizacion de las epocas en el dominio temporal (stack y promedio)"
   ]
  },
  {
   "cell_type": "code",
   "execution_count": 96,
   "metadata": {},
   "outputs": [],
   "source": [
    "# Plot all rows of freq_profile [900:1100]\n",
    "for n_epoch in range(len(epochs['putative_ripple'][valid_ripple == 1])):\n",
    "    plt.plot(epochs['putative_ripple'][valid_ripple == 1].times,\n",
    "             epochs['putative_ripple'][valid_ripple == 1][n_epoch].get_data()[0][0], color='lightgrey', linewidth=0.5)\n",
    "\n",
    "plt.plot(epochs['putative_ripple'][valid_ripple == 1].times,\n",
    "         epochs['putative_ripple'][valid_ripple == 1][:].get_data().mean(axis=0)[0], color='black', linewidth=1)\n",
    "\n",
    "\n",
    "# Show the plot\n",
    "plt.show()\n",
    "\n",
    "#print(epochs_filt['putative_ripple'][valid_ripple == 1][0].get_data()[0])#"
   ]
  },
  {
   "cell_type": "code",
   "execution_count": 50,
   "metadata": {},
   "outputs": [
    {
     "name": "stdout",
     "output_type": "stream",
     "text": [
      "(2001,)\n"
     ]
    }
   ],
   "source": [
    "print(epochs['putative_ripple'][valid_ripple == 1][:].get_data().mean(axis=0)[0].shape)"
   ]
  },
  {
   "cell_type": "code",
   "execution_count": 43,
   "metadata": {},
   "outputs": [
    {
     "name": "stdout",
     "output_type": "stream",
     "text": [
      "[-0.5    -0.4995 -0.499  ...  0.499   0.4995  0.5   ]\n"
     ]
    }
   ],
   "source": [
    "print(epochs['putative_ripple'][valid_ripple == 1][0].times)"
   ]
  },
  {
   "cell_type": "code",
   "execution_count": 40,
   "metadata": {},
   "outputs": [
    {
     "name": "stderr",
     "output_type": "stream",
     "text": [
      "/tmp/ipykernel_203892/165650962.py:1: FutureWarning: The current default events=None is deprecated and will change to events=True in MNE 1.6. Set events=False to suppress this warning.\n",
      "  epochs['putative_ripple'][valid_ripple == 1].plot()\n"
     ]
    },
    {
     "data": {
      "text/plain": [
       "<mne_qt_browser._pg_figure.MNEQtBrowser at 0x7f163869fd90>"
      ]
     },
     "execution_count": 40,
     "metadata": {},
     "output_type": "execute_result"
    },
    {
     "name": "stdout",
     "output_type": "stream",
     "text": [
      "Dropped 0 epochs: \n",
      "The following epochs were marked as bad and are dropped:\n",
      "[]\n",
      "Channels marked as bad:\n",
      "none\n"
     ]
    }
   ],
   "source": [
    "epochs['putative_ripple'][valid_ripple == 1].plot()"
   ]
  },
  {
   "cell_type": "code",
   "execution_count": 10,
   "metadata": {},
   "outputs": [
    {
     "name": "stdout",
     "output_type": "stream",
     "text": [
      "[-20.         -17.80475941 -15.60951881 -13.41427822 -11.21903762\n",
      "  -9.02379703  -6.82855643  -4.63331584  -2.43807525  -0.24283465\n",
      "   1.95240594   4.14764654   6.34288713   8.53812773  10.73336832\n",
      "  12.92860892  15.12384951  17.3190901   19.5143307  -18.29042871\n",
      " -16.09518811 -13.89994752 -11.70470692  -9.50946633  -7.31422574\n",
      "  -5.11898514  -2.92374455  -0.72850395   1.46673664   3.66197724]\n"
     ]
    }
   ],
   "source": [
    "import numpy as np\n",
    "from scipy import signal\n",
    "\n",
    "# Create a triangular signal\n",
    "samples = 30\n",
    "max_value = 20\n",
    "triangular_signal = signal.sawtooth(np.linspace(0, 10, samples), width=1) * max_value\n",
    "\n",
    "# Print the triangular signal\n",
    "print(triangular_signal)"
   ]
  }
 ],
 "metadata": {
  "kernelspec": {
   "display_name": "env_mne_1_5",
   "language": "python",
   "name": "python3"
  },
  "language_info": {
   "codemirror_mode": {
    "name": "ipython",
    "version": 3
   },
   "file_extension": ".py",
   "mimetype": "text/x-python",
   "name": "python",
   "nbconvert_exporter": "python",
   "pygments_lexer": "ipython3",
   "version": "3.12.2"
  }
 },
 "nbformat": 4,
 "nbformat_minor": 2
}
